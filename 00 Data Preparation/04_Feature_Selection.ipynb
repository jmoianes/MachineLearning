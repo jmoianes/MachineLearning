{
 "cells": [
  {
   "cell_type": "markdown",
   "metadata": {},
   "source": [
    "# FEATURE SELECTION - SEQUENTIAL BACKWARD SELECTION"
   ]
  },
  {
   "cell_type": "markdown",
   "metadata": {},
   "source": [
    "## OVERVIEW"
   ]
  },
  {
   "cell_type": "markdown",
   "metadata": {},
   "source": [
    "- [INTRODUCTION](#INTRODUCTION)  \n",
    "- [FEATURE SELECTION](#FEATURE-SELECTION)\n",
    "    - [SEQUENTIAL BACKWARD SELECTION](#SEQUENTIAL-BACKWARD-SELECTION)"
   ]
  },
  {
   "cell_type": "markdown",
   "metadata": {},
   "source": [
    "## INTRODUCTION\n",
    "\n",
    "A way to reduce overfitting (complexity of the model) is **Dimensionality Reduction** via **feature selection**. There are two main categories:\n",
    "- **Feature Selection**\n",
    "- **Feature Extraction**\n",
    "\n",
    "In case of **feature selection** a subset of the original features is used in order to build our model. On the other hand, in **feature extraction** the objective is to create a new reduced feature set using the information from the original feature set. As stated before, both tecniques are useful to deal with the *[curse of dimensionality](https://en.wikipedia.org/wiki/Curse_of_dimensionality)*.\n",
    "\n",
    "<div class=\"alert alert-block alert-info\" style=\"margin-top: 20px\">\n",
    "<strong>Curse of Dimensionality</strong>\n",
    "<br/>\n",
    "As additional variables are added to a model, it may be able to predict a number better in regresssion models or discriminate better between classes in a classification model. The problem is that convergence on those solutions during either the error minimization process or the iterative learning process gets increasingly slow as additional features are added to the analysis.\n",
    "</div>\n",
    "\n",
    "\n",
    "## FEATURE SELECTION\n",
    "\n",
    "The motivation behind feaure selection is to **select the best subset of features that are more relevant to the problem**. By doing this, we can:\n",
    "\n",
    "- Reduce overfitting/complexity (reduce the generalization error)\n",
    "- Improve computational efficiency\n",
    "- Enhance data quality\n",
    "- Make the results more understandable\n",
    "\n",
    "This set of tecniques/algorithms can be useful for algorithms in which regularization is not supported (KNN, SVM, Naive Bayes, etc.)"
   ]
  },
  {
   "cell_type": "markdown",
   "metadata": {},
   "source": [
    "## UNIVARIATE FEATURE SELECTION\n",
    "\n",
    "**Univariate feature selection** works by selecting the best features based on univariate statistical tests.\n",
    "\n",
    "For instance, we can perfom $\\chi^2$ test to the samples to retrieve only the best features."
   ]
  },
  {
   "cell_type": "code",
   "execution_count": 16,
   "metadata": {
    "collapsed": true
   },
   "outputs": [],
   "source": [
    "import pandas as pd\n",
    "df_wine = pd.read_csv('https://archive.ics.uci.edu/ml/machine-learning-databases/wine/wine.data', \n",
    "                      header=None)\n",
    "df_wine.columns = ['Class label', \n",
    "                   'Alcohol', \n",
    "                   'Malic acid', \n",
    "                   'Ash', \n",
    "                   'Alcalinity of ash', \n",
    "                   'Magnesium', \n",
    "                   'Total phenols', \n",
    "                   'Flavanoids', \n",
    "                   'Nonflavanoid phenols', \n",
    "                   'Proanthocyanins', \n",
    "                   'Color intensity', \n",
    "                   'Hue', \n",
    "                   'OD280/OD315 of diluted wines', \n",
    "                   'Proline']"
   ]
  },
  {
   "cell_type": "code",
   "execution_count": 17,
   "metadata": {},
   "outputs": [
    {
     "data": {
      "text/html": [
       "<div>\n",
       "<table border=\"1\" class=\"dataframe\">\n",
       "  <thead>\n",
       "    <tr style=\"text-align: right;\">\n",
       "      <th></th>\n",
       "      <th>Class label</th>\n",
       "      <th>Alcohol</th>\n",
       "      <th>Malic acid</th>\n",
       "      <th>Ash</th>\n",
       "      <th>Alcalinity of ash</th>\n",
       "      <th>Magnesium</th>\n",
       "      <th>Total phenols</th>\n",
       "      <th>Flavanoids</th>\n",
       "      <th>Nonflavanoid phenols</th>\n",
       "      <th>Proanthocyanins</th>\n",
       "      <th>Color intensity</th>\n",
       "      <th>Hue</th>\n",
       "      <th>OD280/OD315 of diluted wines</th>\n",
       "      <th>Proline</th>\n",
       "    </tr>\n",
       "  </thead>\n",
       "  <tbody>\n",
       "    <tr>\n",
       "      <th>0</th>\n",
       "      <td>1</td>\n",
       "      <td>14.23</td>\n",
       "      <td>1.71</td>\n",
       "      <td>2.43</td>\n",
       "      <td>15.6</td>\n",
       "      <td>127</td>\n",
       "      <td>2.80</td>\n",
       "      <td>3.06</td>\n",
       "      <td>0.28</td>\n",
       "      <td>2.29</td>\n",
       "      <td>5.64</td>\n",
       "      <td>1.04</td>\n",
       "      <td>3.92</td>\n",
       "      <td>1065</td>\n",
       "    </tr>\n",
       "    <tr>\n",
       "      <th>1</th>\n",
       "      <td>1</td>\n",
       "      <td>13.20</td>\n",
       "      <td>1.78</td>\n",
       "      <td>2.14</td>\n",
       "      <td>11.2</td>\n",
       "      <td>100</td>\n",
       "      <td>2.65</td>\n",
       "      <td>2.76</td>\n",
       "      <td>0.26</td>\n",
       "      <td>1.28</td>\n",
       "      <td>4.38</td>\n",
       "      <td>1.05</td>\n",
       "      <td>3.40</td>\n",
       "      <td>1050</td>\n",
       "    </tr>\n",
       "    <tr>\n",
       "      <th>2</th>\n",
       "      <td>1</td>\n",
       "      <td>13.16</td>\n",
       "      <td>2.36</td>\n",
       "      <td>2.67</td>\n",
       "      <td>18.6</td>\n",
       "      <td>101</td>\n",
       "      <td>2.80</td>\n",
       "      <td>3.24</td>\n",
       "      <td>0.30</td>\n",
       "      <td>2.81</td>\n",
       "      <td>5.68</td>\n",
       "      <td>1.03</td>\n",
       "      <td>3.17</td>\n",
       "      <td>1185</td>\n",
       "    </tr>\n",
       "    <tr>\n",
       "      <th>3</th>\n",
       "      <td>1</td>\n",
       "      <td>14.37</td>\n",
       "      <td>1.95</td>\n",
       "      <td>2.50</td>\n",
       "      <td>16.8</td>\n",
       "      <td>113</td>\n",
       "      <td>3.85</td>\n",
       "      <td>3.49</td>\n",
       "      <td>0.24</td>\n",
       "      <td>2.18</td>\n",
       "      <td>7.80</td>\n",
       "      <td>0.86</td>\n",
       "      <td>3.45</td>\n",
       "      <td>1480</td>\n",
       "    </tr>\n",
       "    <tr>\n",
       "      <th>4</th>\n",
       "      <td>1</td>\n",
       "      <td>13.24</td>\n",
       "      <td>2.59</td>\n",
       "      <td>2.87</td>\n",
       "      <td>21.0</td>\n",
       "      <td>118</td>\n",
       "      <td>2.80</td>\n",
       "      <td>2.69</td>\n",
       "      <td>0.39</td>\n",
       "      <td>1.82</td>\n",
       "      <td>4.32</td>\n",
       "      <td>1.04</td>\n",
       "      <td>2.93</td>\n",
       "      <td>735</td>\n",
       "    </tr>\n",
       "  </tbody>\n",
       "</table>\n",
       "</div>"
      ],
      "text/plain": [
       "   Class label  Alcohol  Malic acid   Ash  Alcalinity of ash  Magnesium  \\\n",
       "0            1    14.23        1.71  2.43               15.6        127   \n",
       "1            1    13.20        1.78  2.14               11.2        100   \n",
       "2            1    13.16        2.36  2.67               18.6        101   \n",
       "3            1    14.37        1.95  2.50               16.8        113   \n",
       "4            1    13.24        2.59  2.87               21.0        118   \n",
       "\n",
       "   Total phenols  Flavanoids  Nonflavanoid phenols  Proanthocyanins  \\\n",
       "0           2.80        3.06                  0.28             2.29   \n",
       "1           2.65        2.76                  0.26             1.28   \n",
       "2           2.80        3.24                  0.30             2.81   \n",
       "3           3.85        3.49                  0.24             2.18   \n",
       "4           2.80        2.69                  0.39             1.82   \n",
       "\n",
       "   Color intensity   Hue  OD280/OD315 of diluted wines  Proline  \n",
       "0             5.64  1.04                          3.92     1065  \n",
       "1             4.38  1.05                          3.40     1050  \n",
       "2             5.68  1.03                          3.17     1185  \n",
       "3             7.80  0.86                          3.45     1480  \n",
       "4             4.32  1.04                          2.93      735  "
      ]
     },
     "execution_count": 17,
     "metadata": {},
     "output_type": "execute_result"
    }
   ],
   "source": [
    "df_wine.head()"
   ]
  },
  {
   "cell_type": "code",
   "execution_count": 5,
   "metadata": {},
   "outputs": [
    {
     "data": {
      "text/html": [
       "<div>\n",
       "<table border=\"1\" class=\"dataframe\">\n",
       "  <thead>\n",
       "    <tr style=\"text-align: right;\">\n",
       "      <th></th>\n",
       "      <th>Class label</th>\n",
       "      <th>Alcohol</th>\n",
       "      <th>Malic acid</th>\n",
       "      <th>Ash</th>\n",
       "      <th>Alcalinity of ash</th>\n",
       "      <th>Magnesium</th>\n",
       "      <th>Total phenols</th>\n",
       "      <th>Flavanoids</th>\n",
       "      <th>Nonflavanoid phenols</th>\n",
       "      <th>Proanthocyanins</th>\n",
       "      <th>Color intensity</th>\n",
       "      <th>Hue</th>\n",
       "      <th>OD280/OD315 of diluted wines</th>\n",
       "      <th>Proline</th>\n",
       "    </tr>\n",
       "  </thead>\n",
       "  <tbody>\n",
       "    <tr>\n",
       "      <th>count</th>\n",
       "      <td>178.000000</td>\n",
       "      <td>178.000000</td>\n",
       "      <td>178.000000</td>\n",
       "      <td>178.000000</td>\n",
       "      <td>178.000000</td>\n",
       "      <td>178.000000</td>\n",
       "      <td>178.000000</td>\n",
       "      <td>178.000000</td>\n",
       "      <td>178.000000</td>\n",
       "      <td>178.000000</td>\n",
       "      <td>178.000000</td>\n",
       "      <td>178.000000</td>\n",
       "      <td>178.000000</td>\n",
       "      <td>178.000000</td>\n",
       "    </tr>\n",
       "    <tr>\n",
       "      <th>mean</th>\n",
       "      <td>1.938202</td>\n",
       "      <td>13.000618</td>\n",
       "      <td>2.336348</td>\n",
       "      <td>2.366517</td>\n",
       "      <td>19.494944</td>\n",
       "      <td>99.741573</td>\n",
       "      <td>2.295112</td>\n",
       "      <td>2.029270</td>\n",
       "      <td>0.361854</td>\n",
       "      <td>1.590899</td>\n",
       "      <td>5.058090</td>\n",
       "      <td>0.957449</td>\n",
       "      <td>2.611685</td>\n",
       "      <td>746.893258</td>\n",
       "    </tr>\n",
       "    <tr>\n",
       "      <th>std</th>\n",
       "      <td>0.775035</td>\n",
       "      <td>0.811827</td>\n",
       "      <td>1.117146</td>\n",
       "      <td>0.274344</td>\n",
       "      <td>3.339564</td>\n",
       "      <td>14.282484</td>\n",
       "      <td>0.625851</td>\n",
       "      <td>0.998859</td>\n",
       "      <td>0.124453</td>\n",
       "      <td>0.572359</td>\n",
       "      <td>2.318286</td>\n",
       "      <td>0.228572</td>\n",
       "      <td>0.709990</td>\n",
       "      <td>314.907474</td>\n",
       "    </tr>\n",
       "    <tr>\n",
       "      <th>min</th>\n",
       "      <td>1.000000</td>\n",
       "      <td>11.030000</td>\n",
       "      <td>0.740000</td>\n",
       "      <td>1.360000</td>\n",
       "      <td>10.600000</td>\n",
       "      <td>70.000000</td>\n",
       "      <td>0.980000</td>\n",
       "      <td>0.340000</td>\n",
       "      <td>0.130000</td>\n",
       "      <td>0.410000</td>\n",
       "      <td>1.280000</td>\n",
       "      <td>0.480000</td>\n",
       "      <td>1.270000</td>\n",
       "      <td>278.000000</td>\n",
       "    </tr>\n",
       "    <tr>\n",
       "      <th>25%</th>\n",
       "      <td>1.000000</td>\n",
       "      <td>12.362500</td>\n",
       "      <td>1.602500</td>\n",
       "      <td>2.210000</td>\n",
       "      <td>17.200000</td>\n",
       "      <td>88.000000</td>\n",
       "      <td>1.742500</td>\n",
       "      <td>1.205000</td>\n",
       "      <td>0.270000</td>\n",
       "      <td>1.250000</td>\n",
       "      <td>3.220000</td>\n",
       "      <td>0.782500</td>\n",
       "      <td>1.937500</td>\n",
       "      <td>500.500000</td>\n",
       "    </tr>\n",
       "    <tr>\n",
       "      <th>50%</th>\n",
       "      <td>2.000000</td>\n",
       "      <td>13.050000</td>\n",
       "      <td>1.865000</td>\n",
       "      <td>2.360000</td>\n",
       "      <td>19.500000</td>\n",
       "      <td>98.000000</td>\n",
       "      <td>2.355000</td>\n",
       "      <td>2.135000</td>\n",
       "      <td>0.340000</td>\n",
       "      <td>1.555000</td>\n",
       "      <td>4.690000</td>\n",
       "      <td>0.965000</td>\n",
       "      <td>2.780000</td>\n",
       "      <td>673.500000</td>\n",
       "    </tr>\n",
       "    <tr>\n",
       "      <th>75%</th>\n",
       "      <td>3.000000</td>\n",
       "      <td>13.677500</td>\n",
       "      <td>3.082500</td>\n",
       "      <td>2.557500</td>\n",
       "      <td>21.500000</td>\n",
       "      <td>107.000000</td>\n",
       "      <td>2.800000</td>\n",
       "      <td>2.875000</td>\n",
       "      <td>0.437500</td>\n",
       "      <td>1.950000</td>\n",
       "      <td>6.200000</td>\n",
       "      <td>1.120000</td>\n",
       "      <td>3.170000</td>\n",
       "      <td>985.000000</td>\n",
       "    </tr>\n",
       "    <tr>\n",
       "      <th>max</th>\n",
       "      <td>3.000000</td>\n",
       "      <td>14.830000</td>\n",
       "      <td>5.800000</td>\n",
       "      <td>3.230000</td>\n",
       "      <td>30.000000</td>\n",
       "      <td>162.000000</td>\n",
       "      <td>3.880000</td>\n",
       "      <td>5.080000</td>\n",
       "      <td>0.660000</td>\n",
       "      <td>3.580000</td>\n",
       "      <td>13.000000</td>\n",
       "      <td>1.710000</td>\n",
       "      <td>4.000000</td>\n",
       "      <td>1680.000000</td>\n",
       "    </tr>\n",
       "  </tbody>\n",
       "</table>\n",
       "</div>"
      ],
      "text/plain": [
       "       Class label     Alcohol  Malic acid         Ash  Alcalinity of ash  \\\n",
       "count   178.000000  178.000000  178.000000  178.000000         178.000000   \n",
       "mean      1.938202   13.000618    2.336348    2.366517          19.494944   \n",
       "std       0.775035    0.811827    1.117146    0.274344           3.339564   \n",
       "min       1.000000   11.030000    0.740000    1.360000          10.600000   \n",
       "25%       1.000000   12.362500    1.602500    2.210000          17.200000   \n",
       "50%       2.000000   13.050000    1.865000    2.360000          19.500000   \n",
       "75%       3.000000   13.677500    3.082500    2.557500          21.500000   \n",
       "max       3.000000   14.830000    5.800000    3.230000          30.000000   \n",
       "\n",
       "        Magnesium  Total phenols  Flavanoids  Nonflavanoid phenols  \\\n",
       "count  178.000000     178.000000  178.000000            178.000000   \n",
       "mean    99.741573       2.295112    2.029270              0.361854   \n",
       "std     14.282484       0.625851    0.998859              0.124453   \n",
       "min     70.000000       0.980000    0.340000              0.130000   \n",
       "25%     88.000000       1.742500    1.205000              0.270000   \n",
       "50%     98.000000       2.355000    2.135000              0.340000   \n",
       "75%    107.000000       2.800000    2.875000              0.437500   \n",
       "max    162.000000       3.880000    5.080000              0.660000   \n",
       "\n",
       "       Proanthocyanins  Color intensity         Hue  \\\n",
       "count       178.000000       178.000000  178.000000   \n",
       "mean          1.590899         5.058090    0.957449   \n",
       "std           0.572359         2.318286    0.228572   \n",
       "min           0.410000         1.280000    0.480000   \n",
       "25%           1.250000         3.220000    0.782500   \n",
       "50%           1.555000         4.690000    0.965000   \n",
       "75%           1.950000         6.200000    1.120000   \n",
       "max           3.580000        13.000000    1.710000   \n",
       "\n",
       "       OD280/OD315 of diluted wines      Proline  \n",
       "count                    178.000000   178.000000  \n",
       "mean                       2.611685   746.893258  \n",
       "std                        0.709990   314.907474  \n",
       "min                        1.270000   278.000000  \n",
       "25%                        1.937500   500.500000  \n",
       "50%                        2.780000   673.500000  \n",
       "75%                        3.170000   985.000000  \n",
       "max                        4.000000  1680.000000  "
      ]
     },
     "execution_count": 5,
     "metadata": {},
     "output_type": "execute_result"
    }
   ],
   "source": [
    "df_wine.describe()"
   ]
  },
  {
   "cell_type": "code",
   "execution_count": 6,
   "metadata": {},
   "outputs": [
    {
     "data": {
      "text/plain": [
       "Class label                     0\n",
       "Alcohol                         0\n",
       "Malic acid                      0\n",
       "Ash                             0\n",
       "Alcalinity of ash               0\n",
       "Magnesium                       0\n",
       "Total phenols                   0\n",
       "Flavanoids                      0\n",
       "Nonflavanoid phenols            0\n",
       "Proanthocyanins                 0\n",
       "Color intensity                 0\n",
       "Hue                             0\n",
       "OD280/OD315 of diluted wines    0\n",
       "Proline                         0\n",
       "dtype: int64"
      ]
     },
     "execution_count": 6,
     "metadata": {},
     "output_type": "execute_result"
    }
   ],
   "source": [
    "df_wine.isnull().sum()"
   ]
  },
  {
   "cell_type": "code",
   "execution_count": 7,
   "metadata": {},
   "outputs": [
    {
     "data": {
      "text/plain": [
       "Class label                       int64\n",
       "Alcohol                         float64\n",
       "Malic acid                      float64\n",
       "Ash                             float64\n",
       "Alcalinity of ash               float64\n",
       "Magnesium                         int64\n",
       "Total phenols                   float64\n",
       "Flavanoids                      float64\n",
       "Nonflavanoid phenols            float64\n",
       "Proanthocyanins                 float64\n",
       "Color intensity                 float64\n",
       "Hue                             float64\n",
       "OD280/OD315 of diluted wines    float64\n",
       "Proline                           int64\n",
       "dtype: object"
      ]
     },
     "execution_count": 7,
     "metadata": {},
     "output_type": "execute_result"
    }
   ],
   "source": [
    "df_wine.dtypes"
   ]
  },
  {
   "cell_type": "code",
   "execution_count": 56,
   "metadata": {},
   "outputs": [
    {
     "data": {
      "text/plain": [
       "GridSearchCV(cv=5, error_score='raise',\n",
       "       estimator=Pipeline(steps=[('reduce_dim', SelectKBest(k=10, score_func=<function chi2 at 0x11c81bea0>)), ('classify', KNeighborsClassifier(algorithm='auto', leaf_size=30, metric='minkowski',\n",
       "           metric_params=None, n_jobs=1, n_neighbors=5, p=2,\n",
       "           weights='uniform'))]),\n",
       "       fit_params={}, iid=True, n_jobs=-1,\n",
       "       param_grid={'reduce_dim__k': [1, 2, 3, 4, 5, 6, 7, 8, 9, 10, 11, 12]},\n",
       "       pre_dispatch='2*n_jobs', refit=True, return_train_score=True,\n",
       "       scoring=None, verbose=0)"
      ]
     },
     "execution_count": 56,
     "metadata": {},
     "output_type": "execute_result"
    }
   ],
   "source": [
    "from sklearn.pipeline import Pipeline\n",
    "from sklearn.model_selection import train_test_split\n",
    "from sklearn.feature_selection import SelectKBest, chi2\n",
    "from sklearn.metrics import accuracy_score\n",
    "from sklearn.model_selection import GridSearchCV\n",
    "from sklearn.neighbors import KNeighborsClassifier\n",
    "import numpy as np\n",
    "\n",
    "X, y = df_wine.iloc[:, 1:].values, df_wine.iloc[:, 0].values\n",
    "X_train, X_test, y_train, y_test = train_test_split(X, y, test_size=0.3, random_state=0)\n",
    "\n",
    "k_set = [i+1 for i in range(X_train.shape[1]-1)]\n",
    "\n",
    "pipe = Pipeline([('reduce_dim', SelectKBest(chi2)),\n",
    "                 ('classify', KNeighborsClassifier(n_neighbors=5))])\n",
    "\n",
    "parameters = {'reduce_dim__k':k_set}\n",
    "grid = GridSearchCV(estimator=pipe, \n",
    "                    param_grid=parameters, \n",
    "                    cv=5, \n",
    "                    n_jobs=-1)\n",
    "grid.fit(X_train, y_train)"
   ]
  },
  {
   "cell_type": "code",
   "execution_count": 57,
   "metadata": {},
   "outputs": [
    {
     "data": {
      "text/plain": [
       "Pipeline(steps=[('reduce_dim', SelectKBest(k=2, score_func=<function chi2 at 0x11c81bea0>)), ('classify', KNeighborsClassifier(algorithm='auto', leaf_size=30, metric='minkowski',\n",
       "           metric_params=None, n_jobs=1, n_neighbors=5, p=2,\n",
       "           weights='uniform'))])"
      ]
     },
     "execution_count": 57,
     "metadata": {},
     "output_type": "execute_result"
    }
   ],
   "source": [
    "grid.best_estimator_"
   ]
  },
  {
   "cell_type": "code",
   "execution_count": 58,
   "metadata": {},
   "outputs": [
    {
     "data": {
      "text/plain": [
       "0.66935483870967738"
      ]
     },
     "execution_count": 58,
     "metadata": {},
     "output_type": "execute_result"
    }
   ],
   "source": [
    "grid.best_score_"
   ]
  },
  {
   "cell_type": "code",
   "execution_count": 59,
   "metadata": {},
   "outputs": [
    {
     "data": {
      "text/plain": [
       "{'mean_fit_time': array([ 0.02331686,  0.00423059,  0.00748839,  0.00458665,  0.00333595,\n",
       "         0.00390344,  0.00363383,  0.0034132 ,  0.0032104 ,  0.00346246,\n",
       "         0.00324221,  0.00455141]),\n",
       " 'mean_score_time': array([ 0.00628996,  0.00199981,  0.00192728,  0.00189676,  0.00191445,\n",
       "         0.00287113,  0.00287662,  0.00265913,  0.00219293,  0.00196834,\n",
       "         0.0030757 ,  0.0024786 ]),\n",
       " 'mean_test_score': array([ 0.65322581,  0.66935484,  0.66935484,  0.66935484,  0.66935484,\n",
       "         0.64516129,  0.64516129,  0.62903226,  0.62903226,  0.62903226,\n",
       "         0.62903226,  0.62903226]),\n",
       " 'mean_train_score': array([ 0.76612121,  0.79438384,  0.80042424,  0.80038384,  0.80040404,\n",
       "         0.78828283,  0.79030303,  0.79230303,  0.79230303,  0.79230303,\n",
       "         0.79230303,  0.79230303]),\n",
       " 'param_reduce_dim__k': masked_array(data = [1 2 3 4 5 6 7 8 9 10 11 12],\n",
       "              mask = [False False False False False False False False False False False False],\n",
       "        fill_value = ?),\n",
       " 'params': ({'reduce_dim__k': 1},\n",
       "  {'reduce_dim__k': 2},\n",
       "  {'reduce_dim__k': 3},\n",
       "  {'reduce_dim__k': 4},\n",
       "  {'reduce_dim__k': 5},\n",
       "  {'reduce_dim__k': 6},\n",
       "  {'reduce_dim__k': 7},\n",
       "  {'reduce_dim__k': 8},\n",
       "  {'reduce_dim__k': 9},\n",
       "  {'reduce_dim__k': 10},\n",
       "  {'reduce_dim__k': 11},\n",
       "  {'reduce_dim__k': 12}),\n",
       " 'rank_test_score': array([5, 1, 1, 1, 1, 6, 6, 8, 8, 8, 8, 8], dtype=int32),\n",
       " 'split0_test_score': array([ 0.56,  0.6 ,  0.6 ,  0.6 ,  0.6 ,  0.52,  0.52,  0.52,  0.52,\n",
       "         0.52,  0.52,  0.52]),\n",
       " 'split0_train_score': array([ 0.78787879,  0.81818182,  0.81818182,  0.83838384,  0.83838384,\n",
       "         0.81818182,  0.81818182,  0.81818182,  0.81818182,  0.81818182,\n",
       "         0.81818182,  0.81818182]),\n",
       " 'split1_test_score': array([ 0.72,  0.72,  0.72,  0.68,  0.68,  0.64,  0.64,  0.64,  0.64,\n",
       "         0.64,  0.64,  0.64]),\n",
       " 'split1_train_score': array([ 0.76767677,  0.7979798 ,  0.7979798 ,  0.77777778,  0.78787879,\n",
       "         0.77777778,  0.77777778,  0.77777778,  0.77777778,  0.77777778,\n",
       "         0.77777778,  0.77777778]),\n",
       " 'split2_test_score': array([ 0.64,  0.68,  0.68,  0.68,  0.68,  0.64,  0.64,  0.64,  0.64,\n",
       "         0.64,  0.64,  0.64]),\n",
       " 'split2_train_score': array([ 0.76767677,  0.78787879,  0.80808081,  0.78787879,  0.78787879,\n",
       "         0.75757576,  0.75757576,  0.75757576,  0.75757576,  0.75757576,\n",
       "         0.75757576,  0.75757576]),\n",
       " 'split3_test_score': array([ 0.84,  0.8 ,  0.8 ,  0.84,  0.84,  0.88,  0.88,  0.8 ,  0.8 ,\n",
       "         0.8 ,  0.8 ,  0.8 ]),\n",
       " 'split3_train_score': array([ 0.73737374,  0.78787879,  0.78787879,  0.78787879,  0.78787879,\n",
       "         0.78787879,  0.7979798 ,  0.7979798 ,  0.7979798 ,  0.7979798 ,\n",
       "         0.7979798 ,  0.7979798 ]),\n",
       " 'split4_test_score': array([ 0.5       ,  0.54166667,  0.54166667,  0.54166667,  0.54166667,\n",
       "         0.54166667,  0.54166667,  0.54166667,  0.54166667,  0.54166667,\n",
       "         0.54166667,  0.54166667]),\n",
       " 'split4_train_score': array([ 0.77,  0.78,  0.79,  0.81,  0.8 ,  0.8 ,  0.8 ,  0.81,  0.81,\n",
       "         0.81,  0.81,  0.81]),\n",
       " 'std_fit_time': array([ 0.00873361,  0.00186737,  0.00224843,  0.00243288,  0.00021337,\n",
       "         0.00113914,  0.00082878,  0.00070491,  0.0001079 ,  0.0004235 ,\n",
       "         0.00020093,  0.00291549]),\n",
       " 'std_score_time': array([  4.65199128e-03,   1.82319509e-04,   8.87890251e-05,\n",
       "          1.25454089e-04,   6.20090745e-05,   1.62481943e-03,\n",
       "          2.18176753e-03,   1.15657288e-03,   6.07525485e-04,\n",
       "          2.64395794e-04,   1.17304072e-03,   8.03432096e-04]),\n",
       " 'std_test_score': array([ 0.1194311 ,  0.09003651,  0.09003651,  0.10021006,  0.10021006,\n",
       "         0.12791011,  0.12791011,  0.09907437,  0.09907437,  0.09907437,\n",
       "         0.09907437,  0.09907437]),\n",
       " 'std_train_score': array([ 0.01624619,  0.01319698,  0.01136647,  0.02172674,  0.01956157,\n",
       "         0.02041904,  0.02077569,  0.02205487,  0.02205487,  0.02205487,\n",
       "         0.02205487,  0.02205487])}"
      ]
     },
     "execution_count": 59,
     "metadata": {},
     "output_type": "execute_result"
    }
   ],
   "source": [
    "grid.cv_results_"
   ]
  },
  {
   "cell_type": "code",
   "execution_count": 36,
   "metadata": {
    "collapsed": true
   },
   "outputs": [],
   "source": []
  },
  {
   "cell_type": "code",
   "execution_count": 40,
   "metadata": {},
   "outputs": [
    {
     "data": {
      "text/plain": [
       "array([   15.6 ,   127.  ,     3.06,     5.64,  1065.  ])"
      ]
     },
     "execution_count": 40,
     "metadata": {},
     "output_type": "execute_result"
    }
   ],
   "source": [
    "X_new[0]"
   ]
  },
  {
   "cell_type": "code",
   "execution_count": 47,
   "metadata": {},
   "outputs": [
    {
     "data": {
      "text/plain": [
       "Index(['Alcalinity of ash', 'Magnesium', 'Flavanoids', 'Color intensity',\n",
       "       'Proline'],\n",
       "      dtype='object')"
      ]
     },
     "execution_count": 47,
     "metadata": {},
     "output_type": "execute_result"
    }
   ],
   "source": [
    "z = [4,5,7,10,13]\n",
    "df_wine.columns[z]"
   ]
  },
  {
   "cell_type": "code",
   "execution_count": 45,
   "metadata": {},
   "outputs": [
    {
     "ename": "TypeError",
     "evalue": "argwhere() got an unexpected keyword argument 'x'",
     "output_type": "error",
     "traceback": [
      "\u001b[0;31m---------------------------------------------------------------------------\u001b[0m",
      "\u001b[0;31mTypeError\u001b[0m                                 Traceback (most recent call last)",
      "\u001b[0;32m<ipython-input-45-8f6288d12484>\u001b[0m in \u001b[0;36m<module>\u001b[0;34m()\u001b[0m\n\u001b[0;32m----> 1\u001b[0;31m \u001b[0mnp\u001b[0m\u001b[0;34m.\u001b[0m\u001b[0margwhere\u001b[0m\u001b[0;34m(\u001b[0m\u001b[0mx\u001b[0m\u001b[0;34m=\u001b[0m\u001b[0mX_new\u001b[0m\u001b[0;34m[\u001b[0m\u001b[0;36m0\u001b[0m\u001b[0;34m]\u001b[0m\u001b[0;34m)\u001b[0m\u001b[0;34m\u001b[0m\u001b[0m\n\u001b[0m",
      "\u001b[0;31mTypeError\u001b[0m: argwhere() got an unexpected keyword argument 'x'"
     ]
    }
   ],
   "source": [
    "np.argwhere(x=X_new[0])"
   ]
  },
  {
   "cell_type": "markdown",
   "metadata": {},
   "source": [
    "## SEQUENTIAL BACKWARD SELECTION\n",
    "\n",
    "**Sequential Backward Selection** (SBS) is a selection algorithm which aims to reduce dimensionality with a minimum decay in performance\n",
    "\n",
    "The idea is:\n",
    "\n",
    "1. Initialize with $k=d$ (where $k$ is the dimensional space objective and $d$ is the dimensionality of the full feature space)\n",
    "2. Determine the feature $x_i$ that gives the worst result (cost function)\n",
    "3. Remove the feature $x_i$\n",
    "4. Terminate if $k$ is reached, if not, go to step 2"
   ]
  },
  {
   "cell_type": "code",
   "execution_count": 1,
   "metadata": {
    "collapsed": true
   },
   "outputs": [],
   "source": [
    "from sklearn.base import clone\n",
    "from itertools import combinations\n",
    "import numpy as np\n",
    "from sklearn.model_selection import train_test_split\n",
    "from sklearn.metrics import accuracy_score"
   ]
  },
  {
   "cell_type": "code",
   "execution_count": 2,
   "metadata": {
    "collapsed": true
   },
   "outputs": [],
   "source": [
    "# creating the class SBS\n",
    "class SBS():\n",
    "    def __init__(self, estimator, k_features, scoring=accuracy_score, test_size=0.25, random_state=1, debug=False):\n",
    "        self.scoring = scoring\n",
    "        self.estimator = clone(estimator)\n",
    "        self.k_features = k_features\n",
    "        self.test_size = test_size\n",
    "        self.random_state = random_state\n",
    "        self.debug = debug\n",
    "        \n",
    "    def fit(self, X, y):\n",
    "        X_train, X_test, y_train, y_test = train_test_split(X, y, \n",
    "                                                            test_size=self.test_size, \n",
    "                                                            random_state=self.random_state)\n",
    "        dim = X_train.shape[1]\n",
    "        self.indices_ = tuple(range(dim))\n",
    "        self.subsets_ = [self.indices_]\n",
    "        score = self._calc_score(X_train, y_train, X_test, y_test, self.indices_)\n",
    "        self.scores_ = [score]\n",
    "        \n",
    "        if self.debug:\n",
    "            print('Dimensionality: {0} (objective: {1})'.format(dim, self.k_features))\n",
    "            print('Subset: {0}'.format(self.subsets_))\n",
    "            print('Score: {0}'.format(score))\n",
    "            i = 0\n",
    "        \n",
    "        while dim > self.k_features:\n",
    "            scores = []\n",
    "            subsets = []\n",
    "\n",
    "            if self.debug:\n",
    "                print('----------------------')\n",
    "                print('Iteration: {0}'.format(i))\n",
    "                i += 1\n",
    "                j = 1\n",
    "\n",
    "            for p in combinations(self.indices_, r=dim-1):\n",
    "                score = self._calc_score(X_train, y_train, X_test, y_test, p)\n",
    "                scores.append(score)\n",
    "                subsets.append(p)\n",
    "                if self.debug:\n",
    "                    print('Combination {0}: {1}'.format(j, p))\n",
    "                    print('Score: {0}'.format(score))\n",
    "                    j += 1\n",
    "\n",
    "            best = np.argmax(scores)\n",
    "            self.indices_ = subsets[best]\n",
    "            self.subsets_.append(self.indices_)\n",
    "            dim -= 1\n",
    "            \n",
    "            if self.debug:\n",
    "                print('\\nBest Features: {0}'.format(subsets[best]))\n",
    "                print('Best Score: {0}'.format(scores[best]))\n",
    "\n",
    "            self.scores_.append(scores[best])\n",
    "        \n",
    "        self.k_score_ = self.scores_[-1]\n",
    "        return self\n",
    "    \n",
    "    def transform(self, X):\n",
    "        return X[:, self.indices_]\n",
    "        \n",
    "            \n",
    "    def _calc_score(self, X_train, y_train, X_test, y_test, indices):\n",
    "        self.estimator.fit(X_train[:,indices], y_train)\n",
    "        y_pred = self.estimator.predict(X_test[:, indices])\n",
    "        score = self.scoring(y_test, y_pred)\n",
    "        return score"
   ]
  },
  {
   "cell_type": "code",
   "execution_count": 8,
   "metadata": {
    "collapsed": true
   },
   "outputs": [],
   "source": [
    "from sklearn.model_selection import train_test_split\n",
    "X, y = df_wine.iloc[:, 1:].values, df_wine.iloc[:, 0].values\n",
    "\n",
    "X_train, X_test, y_train, y_test = train_test_split(X, y, test_size=0.3, random_state=0)"
   ]
  },
  {
   "cell_type": "code",
   "execution_count": 9,
   "metadata": {
    "collapsed": true
   },
   "outputs": [],
   "source": [
    "from sklearn.preprocessing import StandardScaler\n",
    "sc = StandardScaler(with_mean=True, with_std=True)\n",
    "\n",
    "X_train_scaled = sc.fit_transform(X_train)\n",
    "X_test_scaled = sc.transform(X_test)"
   ]
  },
  {
   "cell_type": "code",
   "execution_count": 10,
   "metadata": {},
   "outputs": [
    {
     "name": "stdout",
     "output_type": "stream",
     "text": [
      "Dimensionality: 13 (objective: 1)\n",
      "Subset: [(0, 1, 2, 3, 4, 5, 6, 7, 8, 9, 10, 11, 12)]\n",
      "Score: 0.9354838709677419\n",
      "----------------------\n",
      "Iteration: 0\n",
      "Combination 1: (0, 1, 2, 3, 4, 5, 6, 7, 8, 9, 10, 11)\n",
      "Score: 0.8709677419354839\n",
      "Combination 2: (0, 1, 2, 3, 4, 5, 6, 7, 8, 9, 10, 12)\n",
      "Score: 0.9032258064516129\n",
      "Combination 3: (0, 1, 2, 3, 4, 5, 6, 7, 8, 9, 11, 12)\n",
      "Score: 0.9032258064516129\n",
      "Combination 4: (0, 1, 2, 3, 4, 5, 6, 7, 8, 10, 11, 12)\n",
      "Score: 0.9032258064516129\n",
      "Combination 5: (0, 1, 2, 3, 4, 5, 6, 7, 9, 10, 11, 12)\n",
      "Score: 0.9354838709677419\n",
      "Combination 6: (0, 1, 2, 3, 4, 5, 6, 8, 9, 10, 11, 12)\n",
      "Score: 0.9354838709677419\n",
      "Combination 7: (0, 1, 2, 3, 4, 5, 7, 8, 9, 10, 11, 12)\n",
      "Score: 0.9354838709677419\n",
      "Combination 8: (0, 1, 2, 3, 4, 6, 7, 8, 9, 10, 11, 12)\n",
      "Score: 0.9354838709677419\n",
      "Combination 9: (0, 1, 2, 3, 5, 6, 7, 8, 9, 10, 11, 12)\n",
      "Score: 0.967741935483871\n",
      "Combination 10: (0, 1, 2, 4, 5, 6, 7, 8, 9, 10, 11, 12)\n",
      "Score: 0.9354838709677419\n",
      "Combination 11: (0, 1, 3, 4, 5, 6, 7, 8, 9, 10, 11, 12)\n",
      "Score: 0.967741935483871\n",
      "Combination 12: (0, 2, 3, 4, 5, 6, 7, 8, 9, 10, 11, 12)\n",
      "Score: 0.9032258064516129\n",
      "Combination 13: (1, 2, 3, 4, 5, 6, 7, 8, 9, 10, 11, 12)\n",
      "Score: 0.8387096774193549\n",
      "\n",
      "Best Features: (0, 1, 2, 3, 5, 6, 7, 8, 9, 10, 11, 12)\n",
      "Best Score: 0.967741935483871\n",
      "----------------------\n",
      "Iteration: 1\n",
      "Combination 1: (0, 1, 2, 3, 5, 6, 7, 8, 9, 10, 11)\n",
      "Score: 0.9032258064516129\n",
      "Combination 2: (0, 1, 2, 3, 5, 6, 7, 8, 9, 10, 12)\n",
      "Score: 0.967741935483871\n",
      "Combination 3: (0, 1, 2, 3, 5, 6, 7, 8, 9, 11, 12)\n",
      "Score: 0.9354838709677419\n",
      "Combination 4: (0, 1, 2, 3, 5, 6, 7, 8, 10, 11, 12)\n",
      "Score: 0.9354838709677419\n",
      "Combination 5: (0, 1, 2, 3, 5, 6, 7, 9, 10, 11, 12)\n",
      "Score: 0.9032258064516129\n",
      "Combination 6: (0, 1, 2, 3, 5, 6, 8, 9, 10, 11, 12)\n",
      "Score: 0.967741935483871\n",
      "Combination 7: (0, 1, 2, 3, 5, 7, 8, 9, 10, 11, 12)\n",
      "Score: 0.967741935483871\n",
      "Combination 8: (0, 1, 2, 3, 6, 7, 8, 9, 10, 11, 12)\n",
      "Score: 1.0\n",
      "Combination 9: (0, 1, 2, 5, 6, 7, 8, 9, 10, 11, 12)\n",
      "Score: 0.9354838709677419\n",
      "Combination 10: (0, 1, 3, 5, 6, 7, 8, 9, 10, 11, 12)\n",
      "Score: 1.0\n",
      "Combination 11: (0, 2, 3, 5, 6, 7, 8, 9, 10, 11, 12)\n",
      "Score: 0.967741935483871\n",
      "Combination 12: (1, 2, 3, 5, 6, 7, 8, 9, 10, 11, 12)\n",
      "Score: 0.9354838709677419\n",
      "\n",
      "Best Features: (0, 1, 2, 3, 6, 7, 8, 9, 10, 11, 12)\n",
      "Best Score: 1.0\n",
      "----------------------\n",
      "Iteration: 2\n",
      "Combination 1: (0, 1, 2, 3, 6, 7, 8, 9, 10, 11)\n",
      "Score: 0.9032258064516129\n",
      "Combination 2: (0, 1, 2, 3, 6, 7, 8, 9, 10, 12)\n",
      "Score: 1.0\n",
      "Combination 3: (0, 1, 2, 3, 6, 7, 8, 9, 11, 12)\n",
      "Score: 0.9354838709677419\n",
      "Combination 4: (0, 1, 2, 3, 6, 7, 8, 10, 11, 12)\n",
      "Score: 0.9354838709677419\n",
      "Combination 5: (0, 1, 2, 3, 6, 7, 9, 10, 11, 12)\n",
      "Score: 1.0\n",
      "Combination 6: (0, 1, 2, 3, 6, 8, 9, 10, 11, 12)\n",
      "Score: 0.967741935483871\n",
      "Combination 7: (0, 1, 2, 3, 7, 8, 9, 10, 11, 12)\n",
      "Score: 1.0\n",
      "Combination 8: (0, 1, 2, 6, 7, 8, 9, 10, 11, 12)\n",
      "Score: 0.9354838709677419\n",
      "Combination 9: (0, 1, 3, 6, 7, 8, 9, 10, 11, 12)\n",
      "Score: 1.0\n",
      "Combination 10: (0, 2, 3, 6, 7, 8, 9, 10, 11, 12)\n",
      "Score: 1.0\n",
      "Combination 11: (1, 2, 3, 6, 7, 8, 9, 10, 11, 12)\n",
      "Score: 0.967741935483871\n",
      "\n",
      "Best Features: (0, 1, 2, 3, 6, 7, 8, 9, 10, 12)\n",
      "Best Score: 1.0\n",
      "----------------------\n",
      "Iteration: 3\n",
      "Combination 1: (0, 1, 2, 3, 6, 7, 8, 9, 10)\n",
      "Score: 0.9032258064516129\n",
      "Combination 2: (0, 1, 2, 3, 6, 7, 8, 9, 12)\n",
      "Score: 0.9354838709677419\n",
      "Combination 3: (0, 1, 2, 3, 6, 7, 8, 10, 12)\n",
      "Score: 1.0\n",
      "Combination 4: (0, 1, 2, 3, 6, 7, 9, 10, 12)\n",
      "Score: 1.0\n",
      "Combination 5: (0, 1, 2, 3, 6, 8, 9, 10, 12)\n",
      "Score: 1.0\n",
      "Combination 6: (0, 1, 2, 3, 7, 8, 9, 10, 12)\n",
      "Score: 0.967741935483871\n",
      "Combination 7: (0, 1, 2, 6, 7, 8, 9, 10, 12)\n",
      "Score: 0.9354838709677419\n",
      "Combination 8: (0, 1, 3, 6, 7, 8, 9, 10, 12)\n",
      "Score: 1.0\n",
      "Combination 9: (0, 2, 3, 6, 7, 8, 9, 10, 12)\n",
      "Score: 1.0\n",
      "Combination 10: (1, 2, 3, 6, 7, 8, 9, 10, 12)\n",
      "Score: 0.9032258064516129\n",
      "\n",
      "Best Features: (0, 1, 2, 3, 6, 7, 8, 10, 12)\n",
      "Best Score: 1.0\n",
      "----------------------\n",
      "Iteration: 4\n",
      "Combination 1: (0, 1, 2, 3, 6, 7, 8, 10)\n",
      "Score: 0.9032258064516129\n",
      "Combination 2: (0, 1, 2, 3, 6, 7, 8, 12)\n",
      "Score: 0.9354838709677419\n",
      "Combination 3: (0, 1, 2, 3, 6, 7, 10, 12)\n",
      "Score: 0.967741935483871\n",
      "Combination 4: (0, 1, 2, 3, 6, 8, 10, 12)\n",
      "Score: 1.0\n",
      "Combination 5: (0, 1, 2, 3, 7, 8, 10, 12)\n",
      "Score: 0.967741935483871\n",
      "Combination 6: (0, 1, 2, 6, 7, 8, 10, 12)\n",
      "Score: 0.967741935483871\n",
      "Combination 7: (0, 1, 3, 6, 7, 8, 10, 12)\n",
      "Score: 1.0\n",
      "Combination 8: (0, 2, 3, 6, 7, 8, 10, 12)\n",
      "Score: 1.0\n",
      "Combination 9: (1, 2, 3, 6, 7, 8, 10, 12)\n",
      "Score: 0.8709677419354839\n",
      "\n",
      "Best Features: (0, 1, 2, 3, 6, 8, 10, 12)\n",
      "Best Score: 1.0\n",
      "----------------------\n",
      "Iteration: 5\n",
      "Combination 1: (0, 1, 2, 3, 6, 8, 10)\n",
      "Score: 0.9354838709677419\n",
      "Combination 2: (0, 1, 2, 3, 6, 8, 12)\n",
      "Score: 0.9354838709677419\n",
      "Combination 3: (0, 1, 2, 3, 6, 10, 12)\n",
      "Score: 0.967741935483871\n",
      "Combination 4: (0, 1, 2, 3, 8, 10, 12)\n",
      "Score: 0.9354838709677419\n",
      "Combination 5: (0, 1, 2, 6, 8, 10, 12)\n",
      "Score: 0.9354838709677419\n",
      "Combination 6: (0, 1, 3, 6, 8, 10, 12)\n",
      "Score: 1.0\n",
      "Combination 7: (0, 2, 3, 6, 8, 10, 12)\n",
      "Score: 0.967741935483871\n",
      "Combination 8: (1, 2, 3, 6, 8, 10, 12)\n",
      "Score: 0.9354838709677419\n",
      "\n",
      "Best Features: (0, 1, 3, 6, 8, 10, 12)\n",
      "Best Score: 1.0\n",
      "----------------------\n",
      "Iteration: 6\n",
      "Combination 1: (0, 1, 3, 6, 8, 10)\n",
      "Score: 0.9032258064516129\n",
      "Combination 2: (0, 1, 3, 6, 8, 12)\n",
      "Score: 0.967741935483871\n",
      "Combination 3: (0, 1, 3, 6, 10, 12)\n",
      "Score: 1.0\n",
      "Combination 4: (0, 1, 3, 8, 10, 12)\n",
      "Score: 0.967741935483871\n",
      "Combination 5: (0, 1, 6, 8, 10, 12)\n",
      "Score: 0.967741935483871\n",
      "Combination 6: (0, 3, 6, 8, 10, 12)\n",
      "Score: 0.967741935483871\n",
      "Combination 7: (1, 3, 6, 8, 10, 12)\n",
      "Score: 1.0\n",
      "\n",
      "Best Features: (0, 1, 3, 6, 10, 12)\n",
      "Best Score: 1.0\n",
      "----------------------\n",
      "Iteration: 7\n",
      "Combination 1: (0, 1, 3, 6, 10)\n",
      "Score: 0.9354838709677419\n",
      "Combination 2: (0, 1, 3, 6, 12)\n",
      "Score: 0.9354838709677419\n",
      "Combination 3: (0, 1, 3, 10, 12)\n",
      "Score: 1.0\n",
      "Combination 4: (0, 1, 6, 10, 12)\n",
      "Score: 0.967741935483871\n",
      "Combination 5: (0, 3, 6, 10, 12)\n",
      "Score: 0.967741935483871\n",
      "Combination 6: (1, 3, 6, 10, 12)\n",
      "Score: 0.967741935483871\n",
      "\n",
      "Best Features: (0, 1, 3, 10, 12)\n",
      "Best Score: 1.0\n",
      "----------------------\n",
      "Iteration: 8\n",
      "Combination 1: (0, 1, 3, 10)\n",
      "Score: 0.9032258064516129\n",
      "Combination 2: (0, 1, 3, 12)\n",
      "Score: 0.9032258064516129\n",
      "Combination 3: (0, 1, 10, 12)\n",
      "Score: 0.9354838709677419\n",
      "Combination 4: (0, 3, 10, 12)\n",
      "Score: 0.9354838709677419\n",
      "Combination 5: (1, 3, 10, 12)\n",
      "Score: 0.9354838709677419\n",
      "\n",
      "Best Features: (0, 1, 10, 12)\n",
      "Best Score: 0.9354838709677419\n",
      "----------------------\n",
      "Iteration: 9\n",
      "Combination 1: (0, 1, 10)\n",
      "Score: 0.967741935483871\n",
      "Combination 2: (0, 1, 12)\n",
      "Score: 0.8709677419354839\n",
      "Combination 3: (0, 10, 12)\n",
      "Score: 0.9354838709677419\n",
      "Combination 4: (1, 10, 12)\n",
      "Score: 0.9354838709677419\n",
      "\n",
      "Best Features: (0, 1, 10)\n",
      "Best Score: 0.967741935483871\n",
      "----------------------\n",
      "Iteration: 10\n",
      "Combination 1: (0, 1)\n",
      "Score: 0.7419354838709677\n",
      "Combination 2: (0, 10)\n",
      "Score: 0.8709677419354839\n",
      "Combination 3: (1, 10)\n",
      "Score: 0.7096774193548387\n",
      "\n",
      "Best Features: (0, 10)\n",
      "Best Score: 0.8709677419354839\n",
      "----------------------\n",
      "Iteration: 11\n",
      "Combination 1: (0,)\n",
      "Score: 0.8387096774193549\n",
      "Combination 2: (10,)\n",
      "Score: 0.6451612903225806\n",
      "\n",
      "Best Features: (0,)\n",
      "Best Score: 0.8387096774193549\n"
     ]
    },
    {
     "data": {
      "text/plain": [
       "<__main__.SBS at 0x119654080>"
      ]
     },
     "execution_count": 10,
     "metadata": {},
     "output_type": "execute_result"
    }
   ],
   "source": [
    "from sklearn.neighbors import KNeighborsClassifier\n",
    "import matplotlib.pyplot as plt\n",
    "%matplotlib inline\n",
    "\n",
    "# plots configuration\n",
    "# plt.style.use('ggplot')\n",
    "plt.rcParams['figure.figsize'] = 12, 8\n",
    "plt.rcParams['axes.labelsize'] = 12\n",
    "plt.rcParams['axes.titlesize'] = 12\n",
    "plt.rcParams['legend.fontsize'] = 11\n",
    "\n",
    "knn = KNeighborsClassifier(n_neighbors=2)\n",
    "sbs = SBS(estimator=knn, k_features=1, debug=True)\n",
    "sbs.fit(X_train_scaled, y_train)"
   ]
  },
  {
   "cell_type": "code",
   "execution_count": 11,
   "metadata": {},
   "outputs": [
    {
     "data": {
      "image/png": "[encoded data removed]",
      "text/plain": [
       "<matplotlib.figure.Figure at 0x119649cc0>"
      ]
     },
     "metadata": {},
     "output_type": "display_data"
    }
   ],
   "source": [
    "k_feat = [len(k) for k in sbs.subsets_]\n",
    "plt.plot(k_feat, sbs.scores_, marker='o')\n",
    "plt.ylim([0.7, 1.1])\n",
    "plt.ylabel('accuracy')\n",
    "plt.xlabel('number of features')\n",
    "plt.grid()\n",
    "plt.show()"
   ]
  },
  {
   "cell_type": "code",
   "execution_count": 12,
   "metadata": {},
   "outputs": [
    {
     "name": "stdout",
     "output_type": "stream",
     "text": [
      "Index(['Alcohol', 'Malic acid', 'Alcalinity of ash', 'Hue', 'Proline'], dtype='object')\n"
     ]
    }
   ],
   "source": [
    "k5 = list(sbs.subsets_[8])\n",
    "print(df_wine.columns[1:][k5])"
   ]
  },
  {
   "cell_type": "code",
   "execution_count": 13,
   "metadata": {},
   "outputs": [
    {
     "data": {
      "text/plain": [
       "[(0, 1, 2, 3, 4, 5, 6, 7, 8, 9, 10, 11, 12),\n",
       " (0, 1, 2, 3, 5, 6, 7, 8, 9, 10, 11, 12),\n",
       " (0, 1, 2, 3, 6, 7, 8, 9, 10, 11, 12),\n",
       " (0, 1, 2, 3, 6, 7, 8, 9, 10, 12),\n",
       " (0, 1, 2, 3, 6, 7, 8, 10, 12),\n",
       " (0, 1, 2, 3, 6, 8, 10, 12),\n",
       " (0, 1, 3, 6, 8, 10, 12),\n",
       " (0, 1, 3, 6, 10, 12),\n",
       " (0, 1, 3, 10, 12),\n",
       " (0, 1, 10, 12),\n",
       " (0, 1, 10),\n",
       " (0, 10),\n",
       " (0,)]"
      ]
     },
     "execution_count": 13,
     "metadata": {},
     "output_type": "execute_result"
    }
   ],
   "source": [
    "sbs.subsets_"
   ]
  },
  {
   "cell_type": "markdown",
   "metadata": {},
   "source": [
    "Let's evaluate the performance of the KNN Classifier on the original test set"
   ]
  },
  {
   "cell_type": "code",
   "execution_count": 14,
   "metadata": {},
   "outputs": [
    {
     "name": "stdout",
     "output_type": "stream",
     "text": [
      "Training accuracy: 0.9838709677419355\n",
      "Test accuracy: 0.9444444444444444\n"
     ]
    }
   ],
   "source": [
    "knn.fit(X_train_scaled, y_train)\n",
    "print('Training accuracy: {0}'.format(knn.score(X_train_scaled, y_train)))\n",
    "print('Test accuracy: {0}'.format(knn.score(X_test_scaled, y_test)))"
   ]
  },
  {
   "cell_type": "markdown",
   "metadata": {},
   "source": [
    "In the preceding cell we used the complete feature set and the accuracy in the training and test datasets are slightly different showing a slight degree of **overfitting** (since the accuracy of the training set is higher than the accuracy of the test set) \n",
    "\n",
    "Now, let's use the selected 5-feature subset and see how well KNN performs"
   ]
  },
  {
   "cell_type": "code",
   "execution_count": 15,
   "metadata": {},
   "outputs": [
    {
     "name": "stdout",
     "output_type": "stream",
     "text": [
      "Training accuracy: 0.9596774193548387\n",
      "Test accuracy: 0.9629629629629629\n"
     ]
    }
   ],
   "source": [
    "knn.fit(X_train_scaled[:, k5], y_train)\n",
    "print('Training accuracy: {0}'.format(knn.score(X_train_scaled[:, k5], y_train)))\n",
    "print('Test accuracy: {0}'.format(knn.score(X_test_scaled[:, k5], y_test)))"
   ]
  },
  {
   "cell_type": "markdown",
   "metadata": {},
   "source": [
    "Using fewer than half of the original features, the prediction accuracy on the test set improved by almost 2 percent. Also, we reduced overfitting which we can tell from the small gap between test and training accuracy."
   ]
  },
  {
   "cell_type": "code",
   "execution_count": null,
   "metadata": {
    "collapsed": true
   },
   "outputs": [],
   "source": []
  }
 ],
 "metadata": {
  "kernelspec": {
   "display_name": "Python [conda env:dspy3]",
   "language": "python",
   "name": "conda-env-dspy3-py"
  },
  "language_info": {
   "codemirror_mode": {
    "name": "ipython",
    "version": 3
   },
   "file_extension": ".py",
   "mimetype": "text/x-python",
   "name": "python",
   "nbconvert_exporter": "python",
   "pygments_lexer": "ipython3",
   "version": "3.5.3"
  }
 },
 "nbformat": 4,
 "nbformat_minor": 2
}
