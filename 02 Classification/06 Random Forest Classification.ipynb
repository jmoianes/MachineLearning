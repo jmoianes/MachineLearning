{
 "cells": [
  {
   "cell_type": "markdown",
   "metadata": {},
   "source": [
    "<div class=\"alert alert-block alert-info\" style=\"margin-top: 20px; background-color:#DCDCDC\">\n",
    "<strong>Classification</strong> Find what class a sample belongs to.\n",
    "</div>\n",
    "\n",
    "# Decision Trees (Classification)"
   ]
  },
  {
   "cell_type": "markdown",
   "metadata": {},
   "source": [
    "## Overview"
   ]
  },
  {
   "cell_type": "markdown",
   "metadata": {},
   "source": [
    "- [Description](#Description)  \n",
    "    - [Background](#Background)\n",
    "    - [Example](#Example)\n",
    "    - [Likelihood and Cost Function](#Likelihood-and-Cost-Function)\n",
    "    - [Regularization](#Regularization)\n",
    "- [Logistic Regression](#Logistic-Regression)\n",
    "- [EXAMPLE - Decision Boundaries Visualization](#EXAMPLE---Decision-Boundaries-Visualization)"
   ]
  },
  {
   "cell_type": "markdown",
   "metadata": {},
   "source": [
    "## Description"
   ]
  },
  {
   "cell_type": "markdown",
   "metadata": {},
   "source": [
    "Decision trees are a supervised, probabilistic, machine learning classifier that are often used as decision support tools.\n",
    "\n",
    "A decision tree is a graphical representation that makes use of branching methodology to exemplify all possible outcomes of a decision, based on certain conditions. In a decision tree, the internal node represents a test on the attribute, each branch of the tree represents the outcome of the test and the leaf node represents a particular class label i.e. the decision made after computing all of the attributes. The classification rules are represented through the path from root to the leaf node.\n",
    "\n",
    "These machine learning algorithms help make decisions under uncertainty and help you improve communication, as they present a visual representation of a decision situation. Decision tree machine learning algorithms help a data scientist capture the idea that if a different decision was taken, then how the operational nature of a situation or model would have changed intensely.\n",
    "\n",
    "Decision tree algorithms help make optimal decisions by allowing a data scientist to traverse through forward and backward calculation paths.\n",
    "\n",
    "Decision trees are robust to errors and if the training data contains errors- decision tree algorithms will be best suited to address such problems.\n",
    "\n",
    "Decision trees are best suited for problems where instances are represented by attribute value pairs. If the training data has missing value then decision trees can be used, as they can handle missing values nicely by looking at the data in other columns.\n",
    "\n",
    "Decision trees are best suited when the target function has discrete output values.\n",
    "\n",
    "Decision trees are very instinctual and can be explained to anyone with ease. People from a non-technical background, can also decipher the hypothesis drawn from a decision tree, as they are self-explanatory.\n",
    "\n",
    "When using decision tree machine learning algorithms, data type is not a constraint as they can handle both categorical and numerical variables.\n",
    "\n",
    "Decision tree machine learning algorithms do not require making any assumption on the linearity in the data and hence can be used in circumstances where the parameters are non-linearly related. These machine learning algorithms do not make any assumptions on the classifier structure and space distribution.\n",
    "\n",
    "These algorithms are useful in data exploration. Decision trees implicitly perform feature selection which is very important in predictive analytics. When a decision tree is fit to a training dataset, the nodes at the top on which the decision tree is split, are considered as important variables within a given dataset and feature selection is completed by default.\n",
    "\n",
    "Decision trees help save data preparation time, as they are not sensitive to missing values and outliers. Missing values will not stop you from splitting the data for building a decision tree. Outliers will also not affect the decision trees as data splitting happens based on some samples within the split range and not on exact absolute values.\n",
    "\n",
    "**Drawbacks of Using Decision Tree Machine Learning Algorithms**\n",
    "\n",
    "The more the number of decisions in a tree, less is the accuracy of any expected outcome.\n",
    "A major drawback of decision tree machine learning algorithms, is that the outcomes may be based on expectations. When decisions are made in real-time, the payoffs and resulting outcomes might not be the same as expected or planned. There are chances that this could lead to unrealistic decision trees leading to bad decision making. Any irrational expectations could lead to major errors and flaws in decision tree analysis, as it is not always possible to plan for all eventualities that can arise from a decision.\n",
    "\n",
    "Decision Trees do not fit well for continuous variables and result in instability and classification plateaus.\n",
    "\n",
    "Decision trees are easy to use when compared to other decision making models but creating large decision trees that contain several branches is a complex and time consuming task.\n",
    "Decision tree machine learning algorithms consider only one attribute at a time and might not be best suited for actual data in the decision space. Large sized decision trees with multiple branches are not comprehensible and pose several presentation difficulties."
   ]
  },
  {
   "cell_type": "markdown",
   "metadata": {},
   "source": [
    "### Background\n",
    "\n",
    "Using the decision algorithm, we start at the tree root and split the data on the feature that results in the largest **information gain**. In an iterative process, we can then repeat this splitting procedure at each child node until the leaves are pure. This means that the samples at each node all belong to the same class. In practice, this can result in a very deep tree with many nodes, which can easily lead to *overfitting*. Thus, we tipically want to *prune* the tree by setting a limit for the maximal depth of the tree.\n",
    "\n",
    "In order to split the nodes at the most informative features, we need to define an objective function that we want to optimize via the tree learning algorithm. Here, our objective function is to maximize the **information gain** at each split\n",
    "\n",
    "$$IG(D_p,f) = I(D_p) - \\sum_{j=1}^m\\frac{N_j}{N_p}I(D_j)$$\n",
    "\n",
    "where:\n",
    "\n",
    "- $f$ is the feature to perfom the split\n",
    "- $D_p$ and $D_j$ are the dataset of the parent and $j$th child\n",
    "- $I$ is our impurity measure\n",
    "- $N_p$ is the total number of samples at the parent node\n",
    "- $N_j$ is the number of samples at the $j$th child node\n",
    "\n",
    "As a result, the **information gain** $IG(D_p,f)$ is simply the difference between the impurity of the parent node and the sum of the child node impurities.\n",
    "\n",
    "However, for simplicity to reduce the combinatorial search space, most libraries implement binary decision trees. This means that each parent node is split into two child nodes, $D_{left}$ and $D_{right}$\n",
    "\n",
    "$$IG(D_p,f) = I(D_p) - \\frac{N_{left}}{N_p}I(D_{left}) - \\frac{N_{right}}{N_p}I(D_{right})$$\n",
    "\n",
    "The three impurity measures or splitting criteria that are commonly used in binary decicion trees are:\n",
    "\n",
    "- Giny Impuriy $I_G$\n",
    "- Entropy $I_H$\n",
    "- Classification Error $I_E$\n",
    "\n",
    "#### Entropy\n",
    "\n",
    "Let's start with the definition of entropy for all non-empty classes $p(i \\mid t)\\ne0$\n",
    "\n",
    "$$I_H(t) = - \\sum_{i=1}^c p(i \\mid t) log_2 p(i \\mid t)$$\n",
    "\n",
    "where $p(i \\mid t)$ is the proportion of samples that belong to class $i$ for a particular node $t$. The entropy is therefore 0 if all samples at a node belong to the same class, and the entropy is maximal if we have a uniform class distribution.\n",
    "\n",
    "Higher entropy means there is more unpredictability in the events being measures. Higher entropy means that the events being measured are less predictibble (100% predictability = 0 entropy).\n",
    "\n",
    "#### Gini Impurity\n",
    "\n",
    "Gini impurity is a measure of how often a randomly chosen element from the set would be incorrectly labeled if it was randomly labeled according to the distribution of labels in the subset.\n",
    "\n",
    "The Gini impurity can be understood as a criterion to minimize the probability of misclassification\n",
    "\n",
    "$$I_G(t) = \\sum_{i=1}^c p(i \\mid t)(1 - p(i \\mid t)) = 1 - \\sum_{i=1}^c p(i \\mid t)^2$$\n",
    "\n",
    "Similar to the entropy, the Gini impurity is maximal if the classes are perfectly mixed.\n",
    "\n",
    "However, in practice both the Gini impurity and entropy typically yield very similar results and it is often not worth spending much time on evaluating trees using different impurity criteria rather than experimenting with different pruning cut-offs.\n",
    "\n",
    "#### Classifcation Error\n",
    "\n",
    "Another impurity measure is the classification error:\n",
    "\n",
    "$$I_E(t) = 1 - max(p(i \\mid t))$$\n",
    "\n",
    "This is a useful criterion for pruning but not reccomended for growing a decision tree, since it is less sensitive to changes in the class probabilities of the nodes."
   ]
  },
  {
   "cell_type": "code",
   "execution_count": 8,
   "metadata": {},
   "outputs": [
    {
     "data": {
      "image/png": "[encoded data removed]",
      "text/plain": [
       "<matplotlib.figure.Figure at 0x117e5cfd0>"
      ]
     },
     "metadata": {},
     "output_type": "display_data"
    }
   ],
   "source": [
    "import matplotlib.pyplot as plt\n",
    "import numpy as np\n",
    "%matplotlib inline\n",
    "\n",
    "def gini(p):\n",
    "    return (p)*(1-p) + (1-p)*(1-(1-p))\n",
    "\n",
    "def entropy(p):\n",
    "    return - p*np.log2(p) - (1-p)*np.log2(1-p)\n",
    "\n",
    "def error(p):\n",
    "    return 1 - np.max([p, 1-p])\n",
    "\n",
    "x = np.arange(0.0, 1, 0.01)\n",
    "ent = [entropy(p) if p !=0 else None for p in x]\n",
    "sc_ent = [e*0.5 if e else None for e in ent]\n",
    "err = [error(i) for i in x]\n",
    "\n",
    "plt.rcParams['figure.figsize'] = 12, 8\n",
    "plt.rcParams['axes.labelsize'] = 12\n",
    "plt.rcParams['axes.titlesize'] = 12\n",
    "plt.rcParams['legend.fontsize'] = 11\n",
    "fig = plt.figure()\n",
    "ax = plt.subplot(111)\n",
    "\n",
    "for i, lab, ls, c, in zip([ent, sc_ent, gini(x), err],\n",
    "                          ['Entropy', 'Entropy (scaled)', 'Gini Impurity', 'Misclassification Errror'],\n",
    "                          ['-', '-', '--', '-.'],\n",
    "                          ['black', 'lightgray', 'red', 'green', 'cyan']):\n",
    "    line = ax.plot(x, i, label=lab, linestyle=ls, lw=2, color=c)\n",
    "ax.legend(loc='upper center', bbox_to_anchor=(0.5, 1.15), ncol=3, fancybox=True, shadow=False)\n",
    "ax.axhline(y=0.5, linewidth=1, color='k', linestyle='--')\n",
    "ax.axhline(y=1, linewidth=1, color='k', linestyle='--')\n",
    "plt.ylim([0, 1.1])\n",
    "plt.xlabel('p(i=1)')\n",
    "plt.ylabel('Impurity Index')\n",
    "plt.show()"
   ]
  },
  {
   "cell_type": "markdown",
   "metadata": {},
   "source": [
    "### Example\n",
    "\n",
    "Using the weather data to illustrate how a decision tree works.\n",
    "\n",
    "<table><tr>\n",
    "<th>Outlook</th>\n",
    "<th>Temperature</th>\n",
    "<th>Humidity</th>\n",
    "<th>Windy</th>\n",
    "<th>Play</th>\n",
    "</tr>\n",
    "<tr>\n",
    "<td>overcast</td>\n",
    "<td>hot</td>\n",
    "<td>high</td>\n",
    "<td>false</td>\n",
    "<td>yes</td>\n",
    "</tr>\n",
    "<tr>\n",
    "<td>overcast</td>\n",
    "<td>cool</td>\n",
    "<td>normal</td>\n",
    "<td>true</td>\n",
    "<td>yes</td>\n",
    "</tr>\n",
    "<tr>\n",
    "<td>overcast</td>\n",
    "<td>mild</td>\n",
    "<td>high</td>\n",
    "<td>true</td>\n",
    "<td>yes</td>\n",
    "</tr>\n",
    "<tr>\n",
    "<td>overcast</td>\n",
    "<td>hot</td>\n",
    "<td>normal</td>\n",
    "<td>false</td>\n",
    "<td>yes</td>\n",
    "</tr>\n",
    "<tr>\n",
    "<td>rainy</td>\n",
    "<td>mild</td>\n",
    "<td>high</td>\n",
    "<td>false</td>\n",
    "<td>yes</td>\n",
    "</tr>\n",
    "<tr>\n",
    "<td>rainy</td>\n",
    "<td>cool</td>\n",
    "<td>normal</td>\n",
    "<td>false</td>\n",
    "<td>yes</td>\n",
    "</tr>\n",
    "<tr>\n",
    "<td>rainy</td>\n",
    "<td>cool</td>\n",
    "<td>normal</td>\n",
    "<td>true</td>\n",
    "<td>no</td>\n",
    "</tr>\n",
    "<tr>\n",
    "<td>rainy</td>\n",
    "<td>mild</td>\n",
    "<td>normal</td>\n",
    "<td>false</td>\n",
    "<td>yes</td>\n",
    "</tr>\n",
    "<tr>\n",
    "<td>rainy</td>\n",
    "<td>mild</td>\n",
    "<td>high</td>\n",
    "<td>true</td>\n",
    "<td>no</td>\n",
    "</tr>\n",
    "<tr>\n",
    "<td>sunny</td>\n",
    "<td>hot</td>\n",
    "<td>high</td>\n",
    "<td>false</td>\n",
    "<td>no</td>\n",
    "</tr>\n",
    "<tr>\n",
    "<td>sunny</td>\n",
    "<td>hot</td>\n",
    "<td>high</td>\n",
    "<td>true</td>\n",
    "<td>no</td>\n",
    "</tr>\n",
    "<tr>\n",
    "<td>sunny</td>\n",
    "<td>mild</td>\n",
    "<td>high</td>\n",
    "<td>false</td>\n",
    "<td>no</td>\n",
    "</tr>\n",
    "<tr>\n",
    "<td>sunny</td>\n",
    "<td>cool</td>\n",
    "<td>normal</td>\n",
    "<td>false</td>\n",
    "<td>yes</td>\n",
    "</tr>\n",
    "<tr>\n",
    "<td>sunny</td>\n",
    "<td>mild</td>\n",
    "<td>normal</td>\n",
    "<td>true</td>\n",
    "<td>yes</td>\n",
    "</tr>\n",
    "</table>\n",
    "\n",
    "Consider an example data set with four attributes: *outlook* (sunny, overcast, rainy), *temperature* (hot, mild, cool), *humidity* (high, normal), and *windy* (true, false), with a binary (yes or no) target variable, *play*, and 14 data points. To construct a decision tree on this data, we need to compare the information gain of each of four trees, each split on one of the four features. The split with the highest information gain will be taken as the first split and the process will continue until all children nodes are pure, or until the information gain is 0.\n",
    "\n",
    "The split using the feature *windy* results in two children nodes, one for a windy value of true and one for a windy value of false. In this data set, there are six data points with a true windy value, three of which have a play value of yes and three with a play value of no. The eight remaining data points with a windy value of false contain two no's and six yes's.\n",
    "\n",
    "##### Using **entropy**:\n",
    "\n",
    "- For the node where windy=true there were 6 data points, 3 are yes and 3 are no\n",
    "\n",
    " $$I_H([3,3]) = - (3/6) log_2 (3/6) - (3/6) log_2 (3/6) = 1$$\n",
    "\n",
    "\n",
    "- For the node where windy=false there were 8 data points, 6 are yes and 2 are no\n",
    "\n",
    "$$I_H([6,2]) = - (6/8) log_2 (6/8) - (2/8) log_2 (2/8) = 0.811$$\n",
    "\n",
    "To find the information of the split, we take the weighted average of these numbers based on how many observations fell into which node.\n",
    "\n",
    "$$\\sum_{j=1}^m\\frac{N_j}{N_p}I(D_j) = I_H([3,3],[6,2]) = (6/14) * 1 + (8/14) * 0.811 = 0.89216$$\n",
    "\n",
    "To find the information of the split using *windy*, we must first calculate the information in the data before the split. The original data contained nine yes's and five no's\n",
    "\n",
    "$$I_H([9,5]) = - (9/14) log_2 (9/14) - (5/14) log_2 (5/14) = 0.94028$$\n",
    "\n",
    "Now we can calculate the **information gain**\n",
    "\n",
    "$$IG(D_p,f) = I(D_p) - \\sum_{j=1}^m\\frac{N_j}{N_p}I(D_j) = 0.94038 - 0.89216 = 0.048127$$\n",
    "\n",
    "To build the tree, the information gain of each possible first split would need to be calculated. The best first split is the one that provides the most information gain.\n",
    "\n",
    "##### Using **gini impurity**\n",
    "\n",
    "$$I_G([3,3]) = 1 - ((3/6)^2 + (3/6)^2) = 0.5$$\n",
    "$$I_G([6,2]) = 1 - ((6/8)^2 + (2/6)^2) = 0.375$$\n",
    "\n",
    "$$\\sum_{j=1}^m\\frac{N_j}{N_p}I(D_j) = I_G([3,3],[6,2]) = (6/14) * 0.5 + (8/14) * 0.375 = 0.42857$$\n",
    "\n",
    "$$I_G([9,5]) = 1 - ((9/14)*2 + (5/14)^2) = 0,45918$$\n",
    "\n",
    "Now we can calculata the **information gain**\n",
    "\n",
    "$$IG(D_p,f) = I(D_p) - \\sum_{j=1}^m\\frac{N_j}{N_p}I(D_j) = 0,45918 - 0.4285 = 0.030612$$\n",
    "\n",
    "\n",
    "\n",
    "\n"
   ]
  },
  {
   "cell_type": "markdown",
   "metadata": {},
   "source": [
    "## Decision Tree\n",
    "\n",
    "[DecisionTree](http://scikit-learn.org/stable/modules/generated/sklearn.tree.DecisionTreeClassifier.html#sklearn.tree.DecisionTreeClassifier) is a class capable of performing multi-class classification on a dataset.\n",
    "\n",
    "Some features:\n",
    "\n",
    "- It supports multi-class classification.\n",
    "- It requires little data preparation (other techniques often require data normalisation, dummy variables need to be created and blank values to be removed)\n",
    "- It is able to handle both numerical and categorical data.\n",
    "\n",
    "<div class=\"alert alert-block alert-info\" style=\"margin-top: 20px\">\n",
    "<strong>DecisionTreeClassifier</strong> (criterion='gini', splitter='best', max_depth=None, min_samples_split=2, min_samples_leaf=1, min_weight_fraction_leaf=0.0, max_features=None, random_state=None, max_leaf_nodes=None, min_impurity_split=1e-07, class_weight=None, presort=False)\n",
    "<br/>\n",
    "Parameters:\n",
    "<ul>\n",
    "<li>criterion: the function to measure the quality of a split. Supported criteria are “gini” for the Gini impurity and “entropy” for the information gain</li>\n",
    "<li>splitter: the strategy used to choose the split at each node. Supported strategies are “best” to choose the best split and “random” to choose the best random split</li>\n",
    "<li>max_depth: the maximum depth of the tree. If None, then nodes are expanded until all leaves are pure or until all leaves contain less than min_samples_split samples</li>\n",
    "<li>min_samples_split: the minimum number of samples required to split an internal node</li>\n",
    "<li>min_samples_leaf: the minimum number of samples required to be at a leaf node</li>\n",
    "</ul>\n",
    "</div>"
   ]
  },
  {
   "cell_type": "code",
   "execution_count": 9,
   "metadata": {
    "collapsed": true
   },
   "outputs": [],
   "source": [
    "# load libraries and set plot parameters\n",
    "import numpy as np\n",
    "import pandas as pd\n",
    "# import PrettyTable as pt\n",
    "\n",
    "import matplotlib.pyplot as plt\n",
    "%matplotlib inline\n",
    "\n",
    "# plots configuration\n",
    "# plt.style.use('ggplot')\n",
    "plt.rcParams['figure.figsize'] = 12, 8\n",
    "plt.rcParams['axes.labelsize'] = 12\n",
    "plt.rcParams['axes.titlesize'] = 12\n",
    "plt.rcParams['legend.fontsize'] = 11"
   ]
  },
  {
   "cell_type": "code",
   "execution_count": 10,
   "metadata": {},
   "outputs": [
    {
     "name": "stdout",
     "output_type": "stream",
     "text": [
      "Iris Plants Database\n",
      "====================\n",
      "\n",
      "Notes\n",
      "-----\n",
      "Data Set Characteristics:\n",
      "    :Number of Instances: 150 (50 in each of three classes)\n",
      "    :Number of Attributes: 4 numeric, predictive attributes and the class\n",
      "    :Attribute Information:\n",
      "        - sepal length in cm\n",
      "        - sepal width in cm\n",
      "        - petal length in cm\n",
      "        - petal width in cm\n",
      "        - class:\n",
      "                - Iris-Setosa\n",
      "                - Iris-Versicolour\n",
      "                - Iris-Virginica\n",
      "    :Summary Statistics:\n",
      "\n",
      "    ============== ==== ==== ======= ===== ====================\n",
      "                    Min  Max   Mean    SD   Class Correlation\n",
      "    ============== ==== ==== ======= ===== ====================\n",
      "    sepal length:   4.3  7.9   5.84   0.83    0.7826\n",
      "    sepal width:    2.0  4.4   3.05   0.43   -0.4194\n",
      "    petal length:   1.0  6.9   3.76   1.76    0.9490  (high!)\n",
      "    petal width:    0.1  2.5   1.20  0.76     0.9565  (high!)\n",
      "    ============== ==== ==== ======= ===== ====================\n",
      "\n",
      "    :Missing Attribute Values: None\n",
      "    :Class Distribution: 33.3% for each of 3 classes.\n",
      "    :Creator: R.A. Fisher\n",
      "    :Donor: Michael Marshall (MARSHALL%PLU@io.arc.nasa.gov)\n",
      "    :Date: July, 1988\n",
      "\n",
      "This is a copy of UCI ML iris datasets.\n",
      "http://archive.ics.uci.edu/ml/datasets/Iris\n",
      "\n",
      "The famous Iris database, first used by Sir R.A Fisher\n",
      "\n",
      "This is perhaps the best known database to be found in the\n",
      "pattern recognition literature.  Fisher's paper is a classic in the field and\n",
      "is referenced frequently to this day.  (See Duda & Hart, for example.)  The\n",
      "data set contains 3 classes of 50 instances each, where each class refers to a\n",
      "type of iris plant.  One class is linearly separable from the other 2; the\n",
      "latter are NOT linearly separable from each other.\n",
      "\n",
      "References\n",
      "----------\n",
      "   - Fisher,R.A. \"The use of multiple measurements in taxonomic problems\"\n",
      "     Annual Eugenics, 7, Part II, 179-188 (1936); also in \"Contributions to\n",
      "     Mathematical Statistics\" (John Wiley, NY, 1950).\n",
      "   - Duda,R.O., & Hart,P.E. (1973) Pattern Classification and Scene Analysis.\n",
      "     (Q327.D83) John Wiley & Sons.  ISBN 0-471-22361-1.  See page 218.\n",
      "   - Dasarathy, B.V. (1980) \"Nosing Around the Neighborhood: A New System\n",
      "     Structure and Classification Rule for Recognition in Partially Exposed\n",
      "     Environments\".  IEEE Transactions on Pattern Analysis and Machine\n",
      "     Intelligence, Vol. PAMI-2, No. 1, 67-71.\n",
      "   - Gates, G.W. (1972) \"The Reduced Nearest Neighbor Rule\".  IEEE Transactions\n",
      "     on Information Theory, May 1972, 431-433.\n",
      "   - See also: 1988 MLC Proceedings, 54-64.  Cheeseman et al\"s AUTOCLASS II\n",
      "     conceptual clustering system finds 3 classes in the data.\n",
      "   - Many, many more ...\n",
      "\n"
     ]
    }
   ],
   "source": [
    "from sklearn.datasets import load_iris\n",
    "from sklearn.tree import DecisionTreeClassifier\n",
    "from sklearn.model_selection import train_test_split\n",
    "\n",
    "dataset = load_iris()\n",
    "print(dataset['DESCR'])"
   ]
  },
  {
   "cell_type": "code",
   "execution_count": 11,
   "metadata": {},
   "outputs": [
    {
     "data": {
      "text/html": [
       "<div>\n",
       "<table border=\"1\" class=\"dataframe\">\n",
       "  <thead>\n",
       "    <tr style=\"text-align: right;\">\n",
       "      <th></th>\n",
       "      <th>sepal length (cm)</th>\n",
       "      <th>sepal width (cm)</th>\n",
       "      <th>petal length (cm)</th>\n",
       "      <th>petal width (cm)</th>\n",
       "      <th>class</th>\n",
       "    </tr>\n",
       "  </thead>\n",
       "  <tbody>\n",
       "    <tr>\n",
       "      <th>0</th>\n",
       "      <td>5.1</td>\n",
       "      <td>3.5</td>\n",
       "      <td>1.4</td>\n",
       "      <td>0.2</td>\n",
       "      <td>0</td>\n",
       "    </tr>\n",
       "    <tr>\n",
       "      <th>1</th>\n",
       "      <td>4.9</td>\n",
       "      <td>3.0</td>\n",
       "      <td>1.4</td>\n",
       "      <td>0.2</td>\n",
       "      <td>0</td>\n",
       "    </tr>\n",
       "    <tr>\n",
       "      <th>2</th>\n",
       "      <td>4.7</td>\n",
       "      <td>3.2</td>\n",
       "      <td>1.3</td>\n",
       "      <td>0.2</td>\n",
       "      <td>0</td>\n",
       "    </tr>\n",
       "    <tr>\n",
       "      <th>3</th>\n",
       "      <td>4.6</td>\n",
       "      <td>3.1</td>\n",
       "      <td>1.5</td>\n",
       "      <td>0.2</td>\n",
       "      <td>0</td>\n",
       "    </tr>\n",
       "    <tr>\n",
       "      <th>4</th>\n",
       "      <td>5.0</td>\n",
       "      <td>3.6</td>\n",
       "      <td>1.4</td>\n",
       "      <td>0.2</td>\n",
       "      <td>0</td>\n",
       "    </tr>\n",
       "  </tbody>\n",
       "</table>\n",
       "</div>"
      ],
      "text/plain": [
       "   sepal length (cm)  sepal width (cm)  petal length (cm)  petal width (cm)  \\\n",
       "0                5.1               3.5                1.4               0.2   \n",
       "1                4.9               3.0                1.4               0.2   \n",
       "2                4.7               3.2                1.3               0.2   \n",
       "3                4.6               3.1                1.5               0.2   \n",
       "4                5.0               3.6                1.4               0.2   \n",
       "\n",
       "   class  \n",
       "0      0  \n",
       "1      0  \n",
       "2      0  \n",
       "3      0  \n",
       "4      0  "
      ]
     },
     "execution_count": 11,
     "metadata": {},
     "output_type": "execute_result"
    }
   ],
   "source": [
    "df = pd.DataFrame(dataset.data, columns=dataset.feature_names)\n",
    "df['class'] = pd.Series(dataset.target, name='class')\n",
    "df.head()"
   ]
  },
  {
   "cell_type": "code",
   "execution_count": 12,
   "metadata": {},
   "outputs": [
    {
     "data": {
      "text/html": [
       "<div>\n",
       "<table border=\"1\" class=\"dataframe\">\n",
       "  <thead>\n",
       "    <tr style=\"text-align: right;\">\n",
       "      <th></th>\n",
       "      <th>sepal length (cm)</th>\n",
       "      <th>sepal width (cm)</th>\n",
       "      <th>petal length (cm)</th>\n",
       "      <th>petal width (cm)</th>\n",
       "      <th>class</th>\n",
       "    </tr>\n",
       "  </thead>\n",
       "  <tbody>\n",
       "    <tr>\n",
       "      <th>count</th>\n",
       "      <td>150.000000</td>\n",
       "      <td>150.000000</td>\n",
       "      <td>150.000000</td>\n",
       "      <td>150.000000</td>\n",
       "      <td>150.000000</td>\n",
       "    </tr>\n",
       "    <tr>\n",
       "      <th>mean</th>\n",
       "      <td>5.843333</td>\n",
       "      <td>3.054000</td>\n",
       "      <td>3.758667</td>\n",
       "      <td>1.198667</td>\n",
       "      <td>1.000000</td>\n",
       "    </tr>\n",
       "    <tr>\n",
       "      <th>std</th>\n",
       "      <td>0.828066</td>\n",
       "      <td>0.433594</td>\n",
       "      <td>1.764420</td>\n",
       "      <td>0.763161</td>\n",
       "      <td>0.819232</td>\n",
       "    </tr>\n",
       "    <tr>\n",
       "      <th>min</th>\n",
       "      <td>4.300000</td>\n",
       "      <td>2.000000</td>\n",
       "      <td>1.000000</td>\n",
       "      <td>0.100000</td>\n",
       "      <td>0.000000</td>\n",
       "    </tr>\n",
       "    <tr>\n",
       "      <th>25%</th>\n",
       "      <td>5.100000</td>\n",
       "      <td>2.800000</td>\n",
       "      <td>1.600000</td>\n",
       "      <td>0.300000</td>\n",
       "      <td>0.000000</td>\n",
       "    </tr>\n",
       "    <tr>\n",
       "      <th>50%</th>\n",
       "      <td>5.800000</td>\n",
       "      <td>3.000000</td>\n",
       "      <td>4.350000</td>\n",
       "      <td>1.300000</td>\n",
       "      <td>1.000000</td>\n",
       "    </tr>\n",
       "    <tr>\n",
       "      <th>75%</th>\n",
       "      <td>6.400000</td>\n",
       "      <td>3.300000</td>\n",
       "      <td>5.100000</td>\n",
       "      <td>1.800000</td>\n",
       "      <td>2.000000</td>\n",
       "    </tr>\n",
       "    <tr>\n",
       "      <th>max</th>\n",
       "      <td>7.900000</td>\n",
       "      <td>4.400000</td>\n",
       "      <td>6.900000</td>\n",
       "      <td>2.500000</td>\n",
       "      <td>2.000000</td>\n",
       "    </tr>\n",
       "  </tbody>\n",
       "</table>\n",
       "</div>"
      ],
      "text/plain": [
       "       sepal length (cm)  sepal width (cm)  petal length (cm)  \\\n",
       "count         150.000000        150.000000         150.000000   \n",
       "mean            5.843333          3.054000           3.758667   \n",
       "std             0.828066          0.433594           1.764420   \n",
       "min             4.300000          2.000000           1.000000   \n",
       "25%             5.100000          2.800000           1.600000   \n",
       "50%             5.800000          3.000000           4.350000   \n",
       "75%             6.400000          3.300000           5.100000   \n",
       "max             7.900000          4.400000           6.900000   \n",
       "\n",
       "       petal width (cm)       class  \n",
       "count        150.000000  150.000000  \n",
       "mean           1.198667    1.000000  \n",
       "std            0.763161    0.819232  \n",
       "min            0.100000    0.000000  \n",
       "25%            0.300000    0.000000  \n",
       "50%            1.300000    1.000000  \n",
       "75%            1.800000    2.000000  \n",
       "max            2.500000    2.000000  "
      ]
     },
     "execution_count": 12,
     "metadata": {},
     "output_type": "execute_result"
    }
   ],
   "source": [
    "df.describe()"
   ]
  },
  {
   "cell_type": "code",
   "execution_count": 13,
   "metadata": {
    "collapsed": true
   },
   "outputs": [],
   "source": [
    "X = df.drop('class', axis=1)\n",
    "y = df['class']\n",
    "\n",
    "X_train, X_test, y_train, y_test = train_test_split(X, y, test_size=0.3, random_state=7)"
   ]
  },
  {
   "cell_type": "code",
   "execution_count": 14,
   "metadata": {},
   "outputs": [
    {
     "data": {
      "text/plain": [
       "DecisionTreeClassifier(class_weight=None, criterion='entropy', max_depth=3,\n",
       "            max_features=None, max_leaf_nodes=None,\n",
       "            min_impurity_split=1e-07, min_samples_leaf=1,\n",
       "            min_samples_split=2, min_weight_fraction_leaf=0.0,\n",
       "            presort=False, random_state=0, splitter='best')"
      ]
     },
     "execution_count": 14,
     "metadata": {},
     "output_type": "execute_result"
    }
   ],
   "source": [
    "tree = DecisionTreeClassifier(criterion='entropy', max_depth=3, random_state=0)\n",
    "tree.fit(X_train, y_train)"
   ]
  },
  {
   "cell_type": "code",
   "execution_count": 15,
   "metadata": {},
   "outputs": [
    {
     "data": {
      "text/plain": [
       "array([0, 1, 2])"
      ]
     },
     "execution_count": 15,
     "metadata": {},
     "output_type": "execute_result"
    }
   ],
   "source": [
    "tree.classes_"
   ]
  },
  {
   "cell_type": "code",
   "execution_count": 16,
   "metadata": {},
   "outputs": [
    {
     "data": {
      "text/plain": [
       "array([ 0.        ,  0.        ,  0.34495365,  0.65504635])"
      ]
     },
     "execution_count": 16,
     "metadata": {},
     "output_type": "execute_result"
    }
   ],
   "source": [
    "# feature_importances_\n",
    "# The higher, the more important the feature. \n",
    "# The importance of a feature is computed as the (normalized) total reduction \n",
    "# of the criterion brought by that feature. It is also known as the Gini importance\n",
    "tree.feature_importances_"
   ]
  },
  {
   "cell_type": "code",
   "execution_count": 18,
   "metadata": {},
   "outputs": [
    {
     "name": "stdout",
     "output_type": "stream",
     "text": [
      "Accuracy: 0.8888888888888888\n",
      "Number of milabeled points: 5\n"
     ]
    }
   ],
   "source": [
    "print('Accuracy: {0}'.format(tree.score(X_test, y_test)))\n",
    "y_pred = tree.predict(X_test)\n",
    "print('Number of milabeled points: {0}'.format((y_test!=y_pred).sum()))"
   ]
  },
  {
   "cell_type": "markdown",
   "metadata": {},
   "source": [
    "## EXAMPLE - Decision Boundaries Visualization"
   ]
  },
  {
   "cell_type": "markdown",
   "metadata": {},
   "source": [
    "For visualization purposes we will choose two features: petal widh and petal length"
   ]
  },
  {
   "cell_type": "markdown",
   "metadata": {},
   "source": [
    "### Using Entropy for calculating Information Gain"
   ]
  },
  {
   "cell_type": "code",
   "execution_count": 19,
   "metadata": {},
   "outputs": [
    {
     "data": {
      "text/html": [
       "<div>\n",
       "<table border=\"1\" class=\"dataframe\">\n",
       "  <thead>\n",
       "    <tr style=\"text-align: right;\">\n",
       "      <th></th>\n",
       "      <th>petal length (cm)</th>\n",
       "      <th>petal width (cm)</th>\n",
       "    </tr>\n",
       "  </thead>\n",
       "  <tbody>\n",
       "    <tr>\n",
       "      <th>0</th>\n",
       "      <td>1.4</td>\n",
       "      <td>0.2</td>\n",
       "    </tr>\n",
       "    <tr>\n",
       "      <th>1</th>\n",
       "      <td>1.4</td>\n",
       "      <td>0.2</td>\n",
       "    </tr>\n",
       "    <tr>\n",
       "      <th>2</th>\n",
       "      <td>1.3</td>\n",
       "      <td>0.2</td>\n",
       "    </tr>\n",
       "    <tr>\n",
       "      <th>3</th>\n",
       "      <td>1.5</td>\n",
       "      <td>0.2</td>\n",
       "    </tr>\n",
       "    <tr>\n",
       "      <th>4</th>\n",
       "      <td>1.4</td>\n",
       "      <td>0.2</td>\n",
       "    </tr>\n",
       "  </tbody>\n",
       "</table>\n",
       "</div>"
      ],
      "text/plain": [
       "   petal length (cm)  petal width (cm)\n",
       "0                1.4               0.2\n",
       "1                1.4               0.2\n",
       "2                1.3               0.2\n",
       "3                1.5               0.2\n",
       "4                1.4               0.2"
      ]
     },
     "execution_count": 19,
     "metadata": {},
     "output_type": "execute_result"
    }
   ],
   "source": [
    "from modules import plot_decision_regions\n",
    "\n",
    "X = df.drop(labels=['class','sepal length (cm)', 'sepal width (cm)'], axis=1)\n",
    "y = df['class']\n",
    "X.head()"
   ]
  },
  {
   "cell_type": "code",
   "execution_count": 20,
   "metadata": {},
   "outputs": [
    {
     "name": "stdout",
     "output_type": "stream",
     "text": [
      "Accuracy: 0.9777777777777777\n",
      "Number of mislabeled points: 1\n"
     ]
    },
    {
     "data": {
      "text/plain": [
       "<matplotlib.text.Text at 0x11f151748>"
      ]
     },
     "execution_count": 20,
     "metadata": {},
     "output_type": "execute_result"
    },
    {
     "data": {
      "image/png": "[encoded data removed]",
      "text/plain": [
       "<matplotlib.figure.Figure at 0x11f12bf98>"
      ]
     },
     "metadata": {},
     "output_type": "display_data"
    }
   ],
   "source": [
    "X_train, X_test, y_train, y_test = train_test_split(X, y, test_size=0.3, random_state=0)\n",
    "\n",
    "tree = DecisionTreeClassifier(criterion='entropy', max_depth=3, random_state=0)\n",
    "tree.fit(X_train, y_train)\n",
    "\n",
    "plot_decision_regions(X_train, X_test, y_train, y_test, classifier=tree, test_marker=True)\n",
    "plt.title('Decision Tree')\n",
    "plt.xlabel('petal length (cm)')\n",
    "plt.ylabel('petal width (cm)')"
   ]
  },
  {
   "cell_type": "markdown",
   "metadata": {},
   "source": [
    "### Visualizing the TREE"
   ]
  },
  {
   "cell_type": "code",
   "execution_count": 25,
   "metadata": {},
   "outputs": [],
   "source": [
    "from sklearn.tree import export_graphviz\n",
    "export_graphviz(tree, out_file='tree.dot', feature_names=['petal length', 'petal width'])"
   ]
  },
  {
   "cell_type": "markdown",
   "metadata": {},
   "source": [
    "<img src=\"images/tree.png\">"
   ]
  },
  {
   "cell_type": "markdown",
   "metadata": {},
   "source": [
    "### Using Entropy for calculating Information Gain"
   ]
  },
  {
   "cell_type": "code",
   "execution_count": 27,
   "metadata": {},
   "outputs": [
    {
     "name": "stdout",
     "output_type": "stream",
     "text": [
      "Accuracy: 0.9777777777777777\n",
      "Number of mislabeled points: 1\n"
     ]
    },
    {
     "data": {
      "text/plain": [
       "<matplotlib.text.Text at 0x11f8384e0>"
      ]
     },
     "execution_count": 27,
     "metadata": {},
     "output_type": "execute_result"
    },
    {
     "data": {
      "image/png": "[encoded data removed]",
      "text/plain": [
       "<matplotlib.figure.Figure at 0x117f39588>"
      ]
     },
     "metadata": {},
     "output_type": "display_data"
    }
   ],
   "source": [
    "tree2 = DecisionTreeClassifier(criterion='gini', max_depth=3, random_state=0)\n",
    "tree2.fit(X_train, y_train)\n",
    "\n",
    "plot_decision_regions(X_train, X_test, y_train, y_test, classifier=tree2, test_marker=True)\n",
    "plt.title('Decision Tree')\n",
    "plt.xlabel('petal length (cm)')\n",
    "plt.ylabel('petal width (cm)')"
   ]
  },
  {
   "cell_type": "code",
   "execution_count": 28,
   "metadata": {
    "collapsed": true
   },
   "outputs": [],
   "source": [
    "export_graphviz(tree2, out_file='tree2.dot', feature_names=['petal length', 'petal width'])"
   ]
  },
  {
   "cell_type": "markdown",
   "metadata": {},
   "source": [
    "<img src=\"images/tree2.png\">"
   ]
  },
  {
   "cell_type": "code",
   "execution_count": null,
   "metadata": {
    "collapsed": true
   },
   "outputs": [],
   "source": []
  }
 ],
 "metadata": {
  "anaconda-cloud": {},
  "kernelspec": {
   "display_name": "Python [conda env:dspy3]",
   "language": "python",
   "name": "conda-env-dspy3-py"
  },
  "language_info": {
   "codemirror_mode": {
    "name": "ipython",
    "version": 3
   },
   "file_extension": ".py",
   "mimetype": "text/x-python",
   "name": "python",
   "nbconvert_exporter": "python",
   "pygments_lexer": "ipython3",
   "version": "3.5.3"
  }
 },
 "nbformat": 4,
 "nbformat_minor": 1
}
