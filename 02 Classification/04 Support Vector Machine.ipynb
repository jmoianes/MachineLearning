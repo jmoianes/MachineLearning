{
 "cells": [
  {
   "cell_type": "markdown",
   "metadata": {},
   "source": [
    "<div class=\"alert alert-block alert-info\" style=\"margin-top: 20px; background-color:#DCDCDC\">\n",
    "<strong>Classification</strong> Find what class a sample belongs to.\n",
    "</div>\n",
    "\n",
    "# Support Vector Machine (Classification)"
   ]
  },
  {
   "cell_type": "markdown",
   "metadata": {},
   "source": [
    "## Overview"
   ]
  },
  {
   "cell_type": "markdown",
   "metadata": {},
   "source": [
    "- [Description](#Description)  \n",
    "    - [Background](#Background)\n",
    "    - [Example](#Example)\n",
    "    - [Likelihood and Cost Function](#Likelihood-and-Cost-Function)\n",
    "    - [Regularization](#Regularization)\n",
    "- [Logistic Regression](#Logistic-Regression)\n",
    "- [EXAMPLE - Decision Boundaries Visualization](#EXAMPLE---Decision-Boundaries-Visualization)"
   ]
  },
  {
   "cell_type": "markdown",
   "metadata": {},
   "source": [
    "## Description"
   ]
  },
  {
   "cell_type": "markdown",
   "metadata": {},
   "source": [
    "A **Support Vector Machines** works by classifying the data into different classes by finding a hyperplane (line in 1D, plane in 2D) which separates the training data set into classes. Intuitively, a good separation is achieved by the hyperplane that has the largest distance to the nearest training data points of any class. since in general the larger the margin the lower the generalization error of the classifier.\n",
    "\n",
    "<img src=\"images/svm-separating-hyperplane.png\" width=\"50%\">\n",
    "\n",
    "In **Support Vector Machines** our optimization objective is to maximize the **margin**. The margin is defined as the distance between the separating hyperplane (decision boundary) and the training samples that are closest to this hyperplane, which are the so-called **support vectors**. In general the larger the margin the lower the generalization error of the classifier. Models with small margins are more prone to overfitting.\n",
    "\n",
    "<img src=\"images/svm-margin.png\" width=\"70%\">"
   ]
  },
  {
   "cell_type": "markdown",
   "metadata": {},
   "source": [
    "### Background\n",
    "\n",
    "To get an intuition for the **margin maximization**, let's take a closer look at those *positive* and *negative* hyperplanes that are parallel to the decision boundary, which can be expressed as follows:\n",
    "\n",
    "$$w_0 + \\mathbf{w}^T\\mathbf{x_{pos}} = 1$$\n",
    "$$w_0 + \\mathbf{w}^T\\mathbf{x_{neg}} = -1$$\n",
    "\n",
    "If we subtract those two linear equations from each other we get:\n",
    "\n",
    "$$\\mathbf{w}^T\\left(\\mathbf{x_{pos}}-\\mathbf{x_{neg}}\\right) = 2$$\n",
    "\n",
    "<font color='darkred'>\n",
    "\n",
    "Given a set of features $x_i$ and a label $y_i \\in \\{0, 1\\}$, **logistic regression interprets the probability that the label is in one class** as a logistic function of a **linear combination of the features**: $w_0 x_0 + w_1 x_1 + ... + w_n x_n = \\mathbf w^T \\mathbf x = z$\n",
    "\n",
    "$$h_w(x) = g(z) = f_i(w) = P(y_i =1 \\mid x) = \\frac{1}{1+e^{-z}} = \\frac{1}{1+e^{-(\\mathbf{w}^T \\mathbf{x})}}$$\n",
    "\n",
    "The output of the sigmoid function is interpreted as the probability of particular sample belonging to class 1 $P(y = 1 \\mid x;w)$ given its features $x$ parameterized by the weights $w$. Note that $f_i(w)$ is interpreted as the probability of the dependent variable (target) equaling a 'success' or 'case' or 'positive class' rather than a 'failure' or 'non-case' or 'negative class'.\n",
    "\n",
    "$$P(y_i = y \\mid \\mathbf{x_i}) = f_i(w)^{y}(1-f_i(w)^{1-y}$$\n",
    "\n",
    "The predicted probability can then simply be converted into a binary outcome via a quantizer (unit step function) to **predict the class-label**.\n",
    "\n",
    "$$\\hat{y} =  {\\begin{cases}1&{\\text{if }}z \\geq 0\\\\0&{\\text{otherwise}}\\end{cases}}$$\n",
    "\n",
    "In fact, there are many applications where we are not only interested in the predicted class labels, but where estimating the class-membership probability is particularly useful.\n",
    "\n",
    "Analogous to linear regression, an intercept term is added by appending a column of 1's to the features and L1 and L2 regularizers are supported. The composite objective being optimized for is the following:\n",
    "\n",
    "$$\\underset{w}{min} \\sum_{i=1}^{m}\\mathbf{cost}(f_i(w), y) + \\lambda_1 \\lVert{w}\\rVert_1 + \\lambda_2 \\lVert{w}\\rVert_2^{2}$$\n",
    "\n",
    "where $\\lambda_1$ is the L1_penalty and $\\lambda_2$ is the L2_penalty\n",
    "\n",
    "<div class=\"alert alert-block alert-warning\" style=\"margin-top: 20px\">\n",
    "<strong>logit function</strong> and <strong>logistic function</strong>\n",
    "<br/>\n",
    "The **[logit](https://en.wikipedia.org/wiki/Logit)** is a link function / a transformation of a parameter. It is the logarithm of the **[odds](https://en.wikipedia.org/wiki/Odds#)**. If we call the parameter p, it is defined as follows:\n",
    "<br/>\n",
    "$$logit(p) = log\\left(\\frac{p}{1-p}\\right)$$\n",
    "<br/>\n",
    "The **[logistic](https://en.wikipedia.org/wiki/Logistic_function)** function is the **inverse of the logit**. If we have a value, x, the logistic is:\n",
    "<br/>\n",
    "$$logistic(x) = \\frac{e^x}{e^x+1} = \\frac{1}{1+e^{-x}}$$\n",
    "<br/>\n",
    "Thus (using matrix notation where $\\mathbf x$ is an $m×n$ matrix and $w$ is a $n×1$ vector), **logit regression** is:\n",
    "<br/>\n",
    "$$logit(p) = log\\left(\\frac{p}{1-p}\\right) = \\mathbf{w}^T \\mathbf{x}$$\n",
    "<br/>\n",
    "and **logistic regression** is:\n",
    "<br/>\n",
    "$$p = \\frac{1}{1+e^{-(\\mathbf{w}^T \\mathbf{x})}}$$\n",
    "</div>\n",
    "</font>"
   ]
  },
  {
   "cell_type": "markdown",
   "metadata": {},
   "source": [
    "### Example\n",
    "\n",
    "The table shows the number of hours each student spent studying, and whether they passed (1) or failed (0).\n",
    "\n",
    "<table><tr>\n",
    "<th>Hours</th>\n",
    "<td>0.50</td>\n",
    "<td>0.75</td>\n",
    "<td>1.00</td>\n",
    "<td>1.25</td>\n",
    "<td>1.50</td>\n",
    "<td>1.75</td>\n",
    "<td>1.75</td>\n",
    "<td>2.00</td>\n",
    "<td>2.25</td>\n",
    "<td>2.50</td>\n",
    "<td>2.75</td>\n",
    "<td>3.00</td>\n",
    "<td>3.25</td>\n",
    "<td>3.50</td>\n",
    "<td>4.00</td>\n",
    "<td>4.25</td>\n",
    "<td>4.50</td>\n",
    "<td>4.75</td>\n",
    "<td>5.00</td>\n",
    "<td>5.50</td>\n",
    "</tr>\n",
    "<tr>\n",
    "<th>Pass</th>\n",
    "<td>0</td>\n",
    "<td>0</td>\n",
    "<td>0</td>\n",
    "<td>0</td>\n",
    "<td>0</td>\n",
    "<td>0</td>\n",
    "<td>1</td>\n",
    "<td>0</td>\n",
    "<td>1</td>\n",
    "<td>0</td>\n",
    "<td>1</td>\n",
    "<td>0</td>\n",
    "<td>1</td>\n",
    "<td>0</td>\n",
    "<td>1</td>\n",
    "<td>1</td>\n",
    "<td>1</td>\n",
    "<td>1</td>\n",
    "<td>1</td>\n",
    "<td>1</td>\n",
    "</tr>\n",
    "</table>\n",
    "\n",
    "The graph shows the probability of passing the exam versus the number of hours studying, with the logistic regression curve fitted to the data.\n",
    "\n",
    "<img src=\"images/logistic-probabilities-example.png\" width=\"60%\">\n"
   ]
  },
  {
   "cell_type": "markdown",
   "metadata": {},
   "source": [
    "### Likelihood and Cost Function\n",
    "\n",
    "Logistic regression pretends to **maximize** the **[likelihood](https://onlinecourses.science.psu.edu/stat414/node/191) L**. Assuming that the individual samples in our dataset are independent of one another, the likelihood is:\n",
    "\n",
    "$$L(\\mathbf{w}) = P(\\mathbf{y} \\mid \\mathbf{x};\\mathbf{w}) = \\prod_{i=1}^mP(y_i \\mid x_i;\\mathbf{w}) = \\prod_{i=1}^m\\left(f_i(w)\\right)^{y_i}\\left(1-f_i(w)\\right)^{1-y_i}$$\n",
    "\n",
    "It is easier to maximize the natural log of this equation, which is called the **log-likelihood** function:\n",
    "\n",
    "$$l(\\mathbf{w}) = log(L(\\mathbf{w})) = \\sum_{i=1}^m\\left[y_i log(f_i(w))+(1-y_i) log((1-f_i(w))\\right]$$\n",
    "\n",
    "** Cost Function **\n",
    "\n",
    "Let's rewrite the log-likelihood as a **cost funtion** $J$ that can be **minimized** using *[gradient descent]()*:\n",
    "\n",
    "$$J(\\mathbf{w}) = \\frac{1}{m}\\sum_{i=1}^m \\mathbf{cost}(f_i(w), y) $$\n",
    "\n",
    "where:\n",
    "\n",
    "$$\\mathbf{cost}(f_i(w), y) = \\mathbf{cost}(h_w(x), y) = {\\begin{cases}-log(f_i(w))&{\\text{if }}y = 1\\\\-log(1-f_i(w))&{\\text{if }}y = 0\\end{cases}}$$\n",
    "\n",
    "The following plot illustrates the cost for the classification of a single-sample instance for different values of $f_i(w)$\n",
    "\n",
    "<img src=\"images/logistic-cost-function.png\" width=\"60%\">\n",
    "\n",
    "$$J(\\mathbf{w}) = -\\frac{1}{m}\\sum_{i=1}^m\\left[y_i log(f_i(w))+(1-y_i) log((1-f_i(w))\\right] = -\\frac{1}{m}\\sum_{i=1}^m\\left[y_i log(h_w(x_i))+(1-y_i) log((1-h_w(x_i))\\right]$$\n",
    "\n",
    "We divide by $m$ to average the cost among all samples.\n",
    "\n",
    "** Gradient Descend **\n",
    "\n",
    "If using gradient descend to calculate the weights $w$ that minimize the cost funtion:\n",
    "\n",
    "Repeat until convergence (simultaneously update all values in $w$): $$w_j := w_j - \\frac{\\alpha}{m}\\sum_{i=1}^m(h_w(x^{(i)})-y^{(i)})·x_j^{(i)}$$\n",
    "where $\\alpha$ is the * learning rate *"
   ]
  },
  {
   "cell_type": "markdown",
   "metadata": {},
   "source": [
    "### Regularization"
   ]
  },
  {
   "cell_type": "markdown",
   "metadata": {},
   "source": [
    "Regularization is designed to address the problem of overfitting. Regularization works well when we have a lot of slightly useful features, i.e. , when we have a lot of features each of which contributes a bit to predicting $y$. \n",
    "\n",
    "The idea is simple, if we have overfitting we can reduce the weight that some of the terms by increasing their cost.\n",
    "\n",
    "** Ridge Regression **\n",
    "\n",
    "The most common form of regularization is the so-called **L2 regularization** (sometimes also called L2 shrinkage or ridge regression or weigth decay), which can be written as follows:\n",
    "\n",
    "$$\\lambda_2 \\lVert{w}\\rVert_2^{2} = \\frac{\\lambda}{2} \\lVert{w}\\rVert_2^{2} = \\frac{\\lambda}{2}\\sum_{j=1}^nw_j^2$$\n",
    "\n",
    "Regularization is another reason why **feature scaling** is important.\n",
    "\n",
    "In order to apply regularization we just need to add the regularization terms to the cost function\n",
    "\n",
    "$$J(\\mathbf{w}) = -\\frac{1}{m}\\sum_{i=1}^m\\left[y_i log(f_i(w))+(1-y_i) log((1-f_i(w))\\right] + \\frac{\\lambda}{2m}\\sum_{j=1}^nw_j^2$$\n",
    "\n",
    "Via the regularization parameter $\\lambda$, we can control how well we fit the training data while keeping the weights small. By increasing the value of $\\lambda$, we increase the regularization strength.\n",
    "\n",
    "** Lasso **\n",
    "\n",
    "Other way to apply regularization is the so-called **L1 regularization** (also known as Lasso), which can be written as:\n",
    "\n",
    "$$\\lambda_1 \\lVert{w}\\rVert_1 = \\frac{\\lambda}{2} \\lVert{w}\\rVert_1 = \\frac{\\lambda}{2}\\sum_{j=1}^n|w_j|$$\n",
    "\n",
    "Again, the regularization parameter $\\lambda$ is used to control how well we fit the training data while keeping the weights small. By increasing the value of $\\lambda$, we increase the regularization strength.\n",
    "\n",
    "As with ridge regression, the lasso shrinks the weights towards zero. However, in the case of the lasso, the $l1$ penalty has the effect of forcing some of the weigths to be exactly equal to zero when the regularization parameter $\\lambda$ is sufficiently large. Hence, the lasso performs ** feature selection **.\n",
    "\n",
    "<div class=\"alert alert-block alert-warning\" style=\"margin-top: 20px\">\n",
    "<strong>Note</strong>\n",
    "<br/>\n",
    "In both cases the regularization is applied to all weights $w_1,...,w_n$ but not to the intercept $w_0$ \n",
    "</div>\n"
   ]
  },
  {
   "cell_type": "markdown",
   "metadata": {},
   "source": [
    "## Logistic Regression\n",
    "\n",
    "[LogisticRegression](http://scikit-learn.org/stable/modules/generated/sklearn.linear_model.LogisticRegression.html#sklearn.linear_model.LogisticRegression) implements regularized logistic regression. LogisticRegreesion and [SGDClassifier](http://scikit-learn.org/stable/modules/generated/sklearn.linear_model.SGDClassifier.html#sklearn.linear_model.SGDClassifier) share the same underlying implementation. In fact, Perceptron() is equivalent to SGDClassifier(loss=”log\")\n",
    "\n",
    "Some features:\n",
    "\n",
    "- It supports multi-class classification.\n",
    "- It uses parameter penalty for regularization (L2 or L1 regularization) which helps in avoiding overfitting by penalizing weights with large magnitudes.\n",
    "- It is sensitive to **feature scaling**\n",
    "\n",
    "<div class=\"alert alert-block alert-info\" style=\"margin-top: 20px\">\n",
    "<strong>LogisticRegression</strong> (penalty='l2', C=1.0, fit_intercept=True, solver='liblinear', max_iter=100, tol=0.0001, multi_class='ovr')\n",
    "<br/>\n",
    "Parameters:\n",
    "<ul>\n",
    "<li>penalty: the penalty (aka regularization term) to be used (‘newton-cg’, ‘sag’ and ‘lbfgs’ solvers support only l2 penalties)</li>\n",
    "<li>C: inverse of regularization strength; must be a positive float. Like in support vector machines, smaller values specify stronger regularization</li>\n",
    "<li>fit_intercept: whether the intercept should be estimated or not. If False, the data is assumed to be already centered</li>\n",
    "<li>solver: algorithm to use in the optimization problem (newton-cg, lbfgs, liblinear, or sag)</li>\n",
    "<li>max_iter: useful only for the newton-cg, sag and lbfgs solvers. Maximum number of iterations taken for the solvers to converge</li>\n",
    "<li>tol: tolerance for stopping criteria</li>\n",
    "<li>multi_class: multiclass option can be either ‘ovr’ or ‘multinomial’. If the option chosen is ‘ovr’, then a binary problem is fit for each label. Else the loss minimised is the multinomial loss fit across the entire probability distribution. Works only for the ‘newton-cg’, ‘sag’ and ‘lbfgs’ solver</li>\n",
    "</ul>\n",
    "</div>\n",
    "\n",
    "[LogisticRegressionCV](http://scikit-learn.org/stable/modules/generated/sklearn.linear_model.LogisticRegressionCV.html#sklearn.linear_model.LogisticRegressionCV) implements Logistic Regression with builtin **[cross-validation]()** to find out the **optimal C parameter**. “newton-cg”, “sag” and “lbfgs” solvers are found to be faster for high-dimensional dense data, due to warm-starting. For the multiclass case, if multi_class option is set to “ovr”, an optimal C is obtained for each class and if the multi_class option is set to “multinomial”, an optimal C is obtained by minimizing the cross-entropy loss.\n",
    "\n",
    "For the grid of Cs values (that are set by default to be ten values in a logarithmic scale between 1e-4 and 1e4), the best hyperparameter is selected by the cross-validator StratifiedKFold, but it can be changed using the **cv** parameter. In the case of newton-cg and lbfgs solvers, we warm start along the path i.e guess the initial coefficients of the present fit to be the coefficients got after convergence in the previous fit, so it is supposed to be faster for high-dimensional dense data.\n",
    "\n",
    "For a multiclass problem, the hyperparameters for each class are computed using the best scores got by doing a one-vs-rest in parallel across all folds and classes. Hence this is not the true multinomial loss.\n",
    "\n",
    "<div class=\"alert alert-block alert-info\" style=\"margin-top: 20px\">\n",
    "<strong>LogisticRegressionCV</strong> (Cs=10, fit_intercept=True, cv=None, dual=false, penalty='l2', scoring=None, solver='lbgfs', max_iter=100, tol=0.0001, multi_class='ovr')\n",
    "<br/>\n",
    "Parameters:\n",
    "<ul>\n",
    "<li>Cs: list of Cs to use for the cross-validation. Each of the values in Cs describes the inverse of regularization strength. If Cs is as an int, then a grid of Cs values are chosen in a logarithmic scale between 1e-4 and 1e4. Like in support vector machines, smaller values specify stronger regularization</li>\n",
    "<li>cv: integer or cross-validation generator. The default cross-validation generator used is Stratified K-Folds. If an integer is provided, then it is the number of folds used.</li>\n",
    "</ul>\n",
    "</div>"
   ]
  },
  {
   "cell_type": "code",
   "execution_count": 1,
   "metadata": {
    "collapsed": true
   },
   "outputs": [],
   "source": [
    "# load libraries and set plot parameters\n",
    "import numpy as np\n",
    "import pandas as pd\n",
    "# import PrettyTable as pt\n",
    "\n",
    "import matplotlib.pyplot as plt\n",
    "%matplotlib inline\n",
    "\n",
    "# plots configuration\n",
    "# plt.style.use('ggplot')\n",
    "plt.rcParams['figure.figsize'] = 12, 8\n",
    "plt.rcParams['axes.labelsize'] = 12\n",
    "plt.rcParams['axes.titlesize'] = 12\n",
    "plt.rcParams['legend.fontsize'] = 11"
   ]
  },
  {
   "cell_type": "code",
   "execution_count": 2,
   "metadata": {},
   "outputs": [
    {
     "name": "stdout",
     "output_type": "stream",
     "text": [
      "Iris Plants Database\n",
      "====================\n",
      "\n",
      "Notes\n",
      "-----\n",
      "Data Set Characteristics:\n",
      "    :Number of Instances: 150 (50 in each of three classes)\n",
      "    :Number of Attributes: 4 numeric, predictive attributes and the class\n",
      "    :Attribute Information:\n",
      "        - sepal length in cm\n",
      "        - sepal width in cm\n",
      "        - petal length in cm\n",
      "        - petal width in cm\n",
      "        - class:\n",
      "                - Iris-Setosa\n",
      "                - Iris-Versicolour\n",
      "                - Iris-Virginica\n",
      "    :Summary Statistics:\n",
      "\n",
      "    ============== ==== ==== ======= ===== ====================\n",
      "                    Min  Max   Mean    SD   Class Correlation\n",
      "    ============== ==== ==== ======= ===== ====================\n",
      "    sepal length:   4.3  7.9   5.84   0.83    0.7826\n",
      "    sepal width:    2.0  4.4   3.05   0.43   -0.4194\n",
      "    petal length:   1.0  6.9   3.76   1.76    0.9490  (high!)\n",
      "    petal width:    0.1  2.5   1.20  0.76     0.9565  (high!)\n",
      "    ============== ==== ==== ======= ===== ====================\n",
      "\n",
      "    :Missing Attribute Values: None\n",
      "    :Class Distribution: 33.3% for each of 3 classes.\n",
      "    :Creator: R.A. Fisher\n",
      "    :Donor: Michael Marshall (MARSHALL%PLU@io.arc.nasa.gov)\n",
      "    :Date: July, 1988\n",
      "\n",
      "This is a copy of UCI ML iris datasets.\n",
      "http://archive.ics.uci.edu/ml/datasets/Iris\n",
      "\n",
      "The famous Iris database, first used by Sir R.A Fisher\n",
      "\n",
      "This is perhaps the best known database to be found in the\n",
      "pattern recognition literature.  Fisher's paper is a classic in the field and\n",
      "is referenced frequently to this day.  (See Duda & Hart, for example.)  The\n",
      "data set contains 3 classes of 50 instances each, where each class refers to a\n",
      "type of iris plant.  One class is linearly separable from the other 2; the\n",
      "latter are NOT linearly separable from each other.\n",
      "\n",
      "References\n",
      "----------\n",
      "   - Fisher,R.A. \"The use of multiple measurements in taxonomic problems\"\n",
      "     Annual Eugenics, 7, Part II, 179-188 (1936); also in \"Contributions to\n",
      "     Mathematical Statistics\" (John Wiley, NY, 1950).\n",
      "   - Duda,R.O., & Hart,P.E. (1973) Pattern Classification and Scene Analysis.\n",
      "     (Q327.D83) John Wiley & Sons.  ISBN 0-471-22361-1.  See page 218.\n",
      "   - Dasarathy, B.V. (1980) \"Nosing Around the Neighborhood: A New System\n",
      "     Structure and Classification Rule for Recognition in Partially Exposed\n",
      "     Environments\".  IEEE Transactions on Pattern Analysis and Machine\n",
      "     Intelligence, Vol. PAMI-2, No. 1, 67-71.\n",
      "   - Gates, G.W. (1972) \"The Reduced Nearest Neighbor Rule\".  IEEE Transactions\n",
      "     on Information Theory, May 1972, 431-433.\n",
      "   - See also: 1988 MLC Proceedings, 54-64.  Cheeseman et al\"s AUTOCLASS II\n",
      "     conceptual clustering system finds 3 classes in the data.\n",
      "   - Many, many more ...\n",
      "\n"
     ]
    }
   ],
   "source": [
    "from sklearn.datasets import load_iris\n",
    "from sklearn.linear_model import LogisticRegression\n",
    "from sklearn.model_selection import train_test_split\n",
    "\n",
    "dataset = load_iris()\n",
    "print(dataset['DESCR'])"
   ]
  },
  {
   "cell_type": "code",
   "execution_count": 3,
   "metadata": {},
   "outputs": [
    {
     "data": {
      "text/html": [
       "<div>\n",
       "<table border=\"1\" class=\"dataframe\">\n",
       "  <thead>\n",
       "    <tr style=\"text-align: right;\">\n",
       "      <th></th>\n",
       "      <th>sepal length (cm)</th>\n",
       "      <th>sepal width (cm)</th>\n",
       "      <th>petal length (cm)</th>\n",
       "      <th>petal width (cm)</th>\n",
       "      <th>class</th>\n",
       "    </tr>\n",
       "  </thead>\n",
       "  <tbody>\n",
       "    <tr>\n",
       "      <th>0</th>\n",
       "      <td>5.1</td>\n",
       "      <td>3.5</td>\n",
       "      <td>1.4</td>\n",
       "      <td>0.2</td>\n",
       "      <td>0</td>\n",
       "    </tr>\n",
       "    <tr>\n",
       "      <th>1</th>\n",
       "      <td>4.9</td>\n",
       "      <td>3.0</td>\n",
       "      <td>1.4</td>\n",
       "      <td>0.2</td>\n",
       "      <td>0</td>\n",
       "    </tr>\n",
       "    <tr>\n",
       "      <th>2</th>\n",
       "      <td>4.7</td>\n",
       "      <td>3.2</td>\n",
       "      <td>1.3</td>\n",
       "      <td>0.2</td>\n",
       "      <td>0</td>\n",
       "    </tr>\n",
       "    <tr>\n",
       "      <th>3</th>\n",
       "      <td>4.6</td>\n",
       "      <td>3.1</td>\n",
       "      <td>1.5</td>\n",
       "      <td>0.2</td>\n",
       "      <td>0</td>\n",
       "    </tr>\n",
       "    <tr>\n",
       "      <th>4</th>\n",
       "      <td>5.0</td>\n",
       "      <td>3.6</td>\n",
       "      <td>1.4</td>\n",
       "      <td>0.2</td>\n",
       "      <td>0</td>\n",
       "    </tr>\n",
       "  </tbody>\n",
       "</table>\n",
       "</div>"
      ],
      "text/plain": [
       "   sepal length (cm)  sepal width (cm)  petal length (cm)  petal width (cm)  \\\n",
       "0                5.1               3.5                1.4               0.2   \n",
       "1                4.9               3.0                1.4               0.2   \n",
       "2                4.7               3.2                1.3               0.2   \n",
       "3                4.6               3.1                1.5               0.2   \n",
       "4                5.0               3.6                1.4               0.2   \n",
       "\n",
       "   class  \n",
       "0      0  \n",
       "1      0  \n",
       "2      0  \n",
       "3      0  \n",
       "4      0  "
      ]
     },
     "execution_count": 3,
     "metadata": {},
     "output_type": "execute_result"
    }
   ],
   "source": [
    "df = pd.DataFrame(dataset.data, columns=dataset.feature_names)\n",
    "df['class'] = pd.Series(dataset.target, name='class')\n",
    "df.head()"
   ]
  },
  {
   "cell_type": "code",
   "execution_count": 4,
   "metadata": {},
   "outputs": [
    {
     "data": {
      "text/html": [
       "<div>\n",
       "<table border=\"1\" class=\"dataframe\">\n",
       "  <thead>\n",
       "    <tr style=\"text-align: right;\">\n",
       "      <th></th>\n",
       "      <th>sepal length (cm)</th>\n",
       "      <th>sepal width (cm)</th>\n",
       "      <th>petal length (cm)</th>\n",
       "      <th>petal width (cm)</th>\n",
       "      <th>class</th>\n",
       "    </tr>\n",
       "  </thead>\n",
       "  <tbody>\n",
       "    <tr>\n",
       "      <th>count</th>\n",
       "      <td>150.000000</td>\n",
       "      <td>150.000000</td>\n",
       "      <td>150.000000</td>\n",
       "      <td>150.000000</td>\n",
       "      <td>150.000000</td>\n",
       "    </tr>\n",
       "    <tr>\n",
       "      <th>mean</th>\n",
       "      <td>5.843333</td>\n",
       "      <td>3.054000</td>\n",
       "      <td>3.758667</td>\n",
       "      <td>1.198667</td>\n",
       "      <td>1.000000</td>\n",
       "    </tr>\n",
       "    <tr>\n",
       "      <th>std</th>\n",
       "      <td>0.828066</td>\n",
       "      <td>0.433594</td>\n",
       "      <td>1.764420</td>\n",
       "      <td>0.763161</td>\n",
       "      <td>0.819232</td>\n",
       "    </tr>\n",
       "    <tr>\n",
       "      <th>min</th>\n",
       "      <td>4.300000</td>\n",
       "      <td>2.000000</td>\n",
       "      <td>1.000000</td>\n",
       "      <td>0.100000</td>\n",
       "      <td>0.000000</td>\n",
       "    </tr>\n",
       "    <tr>\n",
       "      <th>25%</th>\n",
       "      <td>5.100000</td>\n",
       "      <td>2.800000</td>\n",
       "      <td>1.600000</td>\n",
       "      <td>0.300000</td>\n",
       "      <td>0.000000</td>\n",
       "    </tr>\n",
       "    <tr>\n",
       "      <th>50%</th>\n",
       "      <td>5.800000</td>\n",
       "      <td>3.000000</td>\n",
       "      <td>4.350000</td>\n",
       "      <td>1.300000</td>\n",
       "      <td>1.000000</td>\n",
       "    </tr>\n",
       "    <tr>\n",
       "      <th>75%</th>\n",
       "      <td>6.400000</td>\n",
       "      <td>3.300000</td>\n",
       "      <td>5.100000</td>\n",
       "      <td>1.800000</td>\n",
       "      <td>2.000000</td>\n",
       "    </tr>\n",
       "    <tr>\n",
       "      <th>max</th>\n",
       "      <td>7.900000</td>\n",
       "      <td>4.400000</td>\n",
       "      <td>6.900000</td>\n",
       "      <td>2.500000</td>\n",
       "      <td>2.000000</td>\n",
       "    </tr>\n",
       "  </tbody>\n",
       "</table>\n",
       "</div>"
      ],
      "text/plain": [
       "       sepal length (cm)  sepal width (cm)  petal length (cm)  \\\n",
       "count         150.000000        150.000000         150.000000   \n",
       "mean            5.843333          3.054000           3.758667   \n",
       "std             0.828066          0.433594           1.764420   \n",
       "min             4.300000          2.000000           1.000000   \n",
       "25%             5.100000          2.800000           1.600000   \n",
       "50%             5.800000          3.000000           4.350000   \n",
       "75%             6.400000          3.300000           5.100000   \n",
       "max             7.900000          4.400000           6.900000   \n",
       "\n",
       "       petal width (cm)       class  \n",
       "count        150.000000  150.000000  \n",
       "mean           1.198667    1.000000  \n",
       "std            0.763161    0.819232  \n",
       "min            0.100000    0.000000  \n",
       "25%            0.300000    0.000000  \n",
       "50%            1.300000    1.000000  \n",
       "75%            1.800000    2.000000  \n",
       "max            2.500000    2.000000  "
      ]
     },
     "execution_count": 4,
     "metadata": {},
     "output_type": "execute_result"
    }
   ],
   "source": [
    "df.describe()"
   ]
  },
  {
   "cell_type": "code",
   "execution_count": 5,
   "metadata": {
    "collapsed": true
   },
   "outputs": [],
   "source": [
    "X = df.drop('class', axis=1)\n",
    "y = df['class']\n",
    "\n",
    "X_train, X_test, y_train, y_test = train_test_split(X, y, test_size=0.3, random_state=7)"
   ]
  },
  {
   "cell_type": "code",
   "execution_count": 6,
   "metadata": {
    "collapsed": true
   },
   "outputs": [],
   "source": [
    "from sklearn.preprocessing import StandardScaler\n",
    "sd = StandardScaler(with_mean=True, with_std=True)\n",
    "sd.fit(X_train)\n",
    "\n",
    "X_train_std = sd.transform(X_train)\n",
    "X_test_std = sd.transform(X_test)"
   ]
  },
  {
   "cell_type": "code",
   "execution_count": 7,
   "metadata": {},
   "outputs": [
    {
     "data": {
      "text/plain": [
       "LogisticRegression(C=1000.0, class_weight=None, dual=False,\n",
       "          fit_intercept=True, intercept_scaling=1, max_iter=100,\n",
       "          multi_class='ovr', n_jobs=1, penalty='l2', random_state=0,\n",
       "          solver='liblinear', tol=0.0001, verbose=0, warm_start=False)"
      ]
     },
     "execution_count": 7,
     "metadata": {},
     "output_type": "execute_result"
    }
   ],
   "source": [
    "lr = LogisticRegression(C=1e3, random_state=0)\n",
    "lr.fit(X_train_std, y_train)"
   ]
  },
  {
   "cell_type": "code",
   "execution_count": 8,
   "metadata": {},
   "outputs": [
    {
     "data": {
      "text/plain": [
       "array([0, 1, 2])"
      ]
     },
     "execution_count": 8,
     "metadata": {},
     "output_type": "execute_result"
    }
   ],
   "source": [
    "lr.classes_"
   ]
  },
  {
   "cell_type": "code",
   "execution_count": 9,
   "metadata": {},
   "outputs": [
    {
     "data": {
      "text/plain": [
       "array([[ -1.54018491,   4.38012217,  -4.3337243 ,  -4.57649837],\n",
       "       [  0.20418421,  -2.08471653,   1.17706759,  -1.58593541],\n",
       "       [  4.45181334,   0.41080094,  21.96491921,  14.22689456]])"
      ]
     },
     "execution_count": 9,
     "metadata": {},
     "output_type": "execute_result"
    }
   ],
   "source": [
    "lr.coef_"
   ]
  },
  {
   "cell_type": "code",
   "execution_count": 10,
   "metadata": {},
   "outputs": [
    {
     "data": {
      "text/plain": [
       "array([ -4.48975436,  -1.26387794, -26.23877223])"
      ]
     },
     "execution_count": 10,
     "metadata": {},
     "output_type": "execute_result"
    }
   ],
   "source": [
    "lr.intercept_"
   ]
  },
  {
   "cell_type": "code",
   "execution_count": 11,
   "metadata": {},
   "outputs": [
    {
     "name": "stdout",
     "output_type": "stream",
     "text": [
      "Accuracy: 0.8666666666666667\n",
      "Number of milabeled points: 6\n"
     ]
    }
   ],
   "source": [
    "print('Accuracy: {0}'.format(lr.score(X_test_std, y_test)))\n",
    "y_pred = lr.predict(X_test_std)\n",
    "print('Number of milabeled points: {0}'.format((y_test!=y_pred).sum()))"
   ]
  },
  {
   "cell_type": "markdown",
   "metadata": {},
   "source": [
    "## EXAMPLE - Decision Boundaries Visualization"
   ]
  },
  {
   "cell_type": "markdown",
   "metadata": {},
   "source": [
    "For visualization purposes we will choose two features: petal widh and petal length"
   ]
  },
  {
   "cell_type": "code",
   "execution_count": 12,
   "metadata": {},
   "outputs": [
    {
     "data": {
      "text/html": [
       "<div>\n",
       "<table border=\"1\" class=\"dataframe\">\n",
       "  <thead>\n",
       "    <tr style=\"text-align: right;\">\n",
       "      <th></th>\n",
       "      <th>petal length (cm)</th>\n",
       "      <th>petal width (cm)</th>\n",
       "    </tr>\n",
       "  </thead>\n",
       "  <tbody>\n",
       "    <tr>\n",
       "      <th>0</th>\n",
       "      <td>1.4</td>\n",
       "      <td>0.2</td>\n",
       "    </tr>\n",
       "    <tr>\n",
       "      <th>1</th>\n",
       "      <td>1.4</td>\n",
       "      <td>0.2</td>\n",
       "    </tr>\n",
       "    <tr>\n",
       "      <th>2</th>\n",
       "      <td>1.3</td>\n",
       "      <td>0.2</td>\n",
       "    </tr>\n",
       "    <tr>\n",
       "      <th>3</th>\n",
       "      <td>1.5</td>\n",
       "      <td>0.2</td>\n",
       "    </tr>\n",
       "    <tr>\n",
       "      <th>4</th>\n",
       "      <td>1.4</td>\n",
       "      <td>0.2</td>\n",
       "    </tr>\n",
       "  </tbody>\n",
       "</table>\n",
       "</div>"
      ],
      "text/plain": [
       "   petal length (cm)  petal width (cm)\n",
       "0                1.4               0.2\n",
       "1                1.4               0.2\n",
       "2                1.3               0.2\n",
       "3                1.5               0.2\n",
       "4                1.4               0.2"
      ]
     },
     "execution_count": 12,
     "metadata": {},
     "output_type": "execute_result"
    }
   ],
   "source": [
    "from modules import plot_decision_regions\n",
    "\n",
    "X = df.drop(labels=['class','sepal length (cm)', 'sepal width (cm)'], axis=1)\n",
    "y = df['class']\n",
    "X.head()"
   ]
  },
  {
   "cell_type": "code",
   "execution_count": 13,
   "metadata": {},
   "outputs": [
    {
     "name": "stdout",
     "output_type": "stream",
     "text": [
      "Accuracy: 0.9777777777777777\n",
      "Number of mislabeled points: 1\n"
     ]
    },
    {
     "data": {
      "text/plain": [
       "<matplotlib.text.Text at 0x119facd68>"
      ]
     },
     "execution_count": 13,
     "metadata": {},
     "output_type": "execute_result"
    },
    {
     "data": {
      "image/png": "[encoded data removed]",
      "text/plain": [
       "<matplotlib.figure.Figure at 0x10c72ae10>"
      ]
     },
     "metadata": {},
     "output_type": "display_data"
    }
   ],
   "source": [
    "X_train, X_test, y_train, y_test = train_test_split(X, y, test_size=0.3, random_state=0)\n",
    "sc = StandardScaler(with_mean=True, with_std=True)\n",
    "sc.fit(X_train)\n",
    "\n",
    "X_train_std = sc.transform(X_train)\n",
    "X_test_std = sc.transform(X_test)\n",
    "\n",
    "lr = LogisticRegression(C=1e3, random_state=0)\n",
    "lr.fit(X_train_std, y_train)\n",
    "\n",
    "plot_decision_regions(X_train_std, X_test_std, y_train, y_test, classifier=lr, test_marker=True)\n",
    "plt.title('Logistic Regression')\n",
    "plt.xlabel('petal length (cm) [standardized]')\n",
    "plt.ylabel('petal width (cm) [standardized]')"
   ]
  },
  {
   "cell_type": "code",
   "execution_count": 14,
   "metadata": {},
   "outputs": [
    {
     "data": {
      "text/plain": [
       "array([[  2.05743774e-11,   6.31620264e-02,   9.36837974e-01]])"
      ]
     },
     "execution_count": 14,
     "metadata": {},
     "output_type": "execute_result"
    }
   ],
   "source": [
    "lr.predict_proba(X_test_std[0,:].reshape(1,-1))"
   ]
  },
  {
   "cell_type": "code",
   "execution_count": 15,
   "metadata": {},
   "outputs": [
    {
     "data": {
      "text/plain": [
       "array([2])"
      ]
     },
     "execution_count": 15,
     "metadata": {},
     "output_type": "execute_result"
    }
   ],
   "source": [
    "lr.predict(X_test_std[0,:].reshape(1,-1))"
   ]
  },
  {
   "cell_type": "markdown",
   "metadata": {},
   "source": [
    "## EXAMPLE - Cross-Validation to determine the optimum C parameter"
   ]
  },
  {
   "cell_type": "code",
   "execution_count": 16,
   "metadata": {},
   "outputs": [
    {
     "name": "stdout",
     "output_type": "stream",
     "text": [
      "Optimum C:[  1.00000000e+00   1.00000000e-04   1.00000000e+00]\n",
      "Accuracy: 0.9333333333333333\n",
      "Number of mislabeled points: 3\n"
     ]
    },
    {
     "data": {
      "text/plain": [
       "<matplotlib.text.Text at 0x119fbd748>"
      ]
     },
     "execution_count": 16,
     "metadata": {},
     "output_type": "execute_result"
    },
    {
     "data": {
      "image/png": "[encoded data removed]",
      "text/plain": [
       "<matplotlib.figure.Figure at 0x11792ecf8>"
      ]
     },
     "metadata": {},
     "output_type": "display_data"
    }
   ],
   "source": [
    "from sklearn.linear_model import LogisticRegressionCV\n",
    "lr = LogisticRegressionCV(Cs=5, random_state=0)\n",
    "lr.fit(X_train_std, y_train)\n",
    "\n",
    "print('Optimum C:{0}'.format(lr.C_))\n",
    "\n",
    "plot_decision_regions(X_train_std, X_test_std, y_train, y_test, classifier=lr, test_marker=True)\n",
    "plt.title('Logistic Regression')\n",
    "plt.xlabel('petal length (cm) [standardized]')\n",
    "plt.ylabel('petal width (cm) [standardized]')"
   ]
  },
  {
   "cell_type": "code",
   "execution_count": 17,
   "metadata": {},
   "outputs": [
    {
     "data": {
      "text/plain": [
       "array([[ -2.28075576e+00,  -2.05909891e+00],\n",
       "       [  6.54079357e-04,   3.25330951e-04],\n",
       "       [  2.16615425e+00,   2.62392445e+00]])"
      ]
     },
     "execution_count": 17,
     "metadata": {},
     "output_type": "execute_result"
    }
   ],
   "source": [
    "lr.coef_"
   ]
  },
  {
   "cell_type": "code",
   "execution_count": 18,
   "metadata": {},
   "outputs": [
    {
     "data": {
      "text/plain": [
       "array([  1.00000000e-04,   1.00000000e-02,   1.00000000e+00,\n",
       "         1.00000000e+02,   1.00000000e+04])"
      ]
     },
     "execution_count": 18,
     "metadata": {},
     "output_type": "execute_result"
    }
   ],
   "source": [
    "lr.Cs_"
   ]
  },
  {
   "cell_type": "code",
   "execution_count": 19,
   "metadata": {},
   "outputs": [
    {
     "data": {
      "text/plain": [
       "{0: array([[ 0.66666667,  0.66666667,  1.        ,  1.        ,  1.        ],\n",
       "        [ 0.68571429,  0.68571429,  1.        ,  1.        ,  1.        ],\n",
       "        [ 0.67647059,  0.67647059,  1.        ,  1.        ,  1.        ]]),\n",
       " 1: array([[ 0.69444444,  0.69444444,  0.69444444,  0.61111111,  0.61111111],\n",
       "        [ 0.68571429,  0.68571429,  0.68571429,  0.65714286,  0.65714286],\n",
       "        [ 0.70588235,  0.70588235,  0.67647059,  0.58823529,  0.61764706]]),\n",
       " 2: array([[ 0.63888889,  0.66666667,  0.91666667,  0.91666667,  0.91666667],\n",
       "        [ 0.62857143,  0.65714286,  1.        ,  1.        ,  1.        ],\n",
       "        [ 0.61764706,  0.67647059,  0.94117647,  0.94117647,  0.94117647]])}"
      ]
     },
     "execution_count": 19,
     "metadata": {},
     "output_type": "execute_result"
    }
   ],
   "source": [
    "lr.scores_"
   ]
  },
  {
   "cell_type": "code",
   "execution_count": 20,
   "metadata": {},
   "outputs": [
    {
     "data": {
      "text/plain": [
       "0.93333333333333335"
      ]
     },
     "execution_count": 20,
     "metadata": {},
     "output_type": "execute_result"
    }
   ],
   "source": [
    "lr.score(X_test_std,y_test)"
   ]
  }
 ],
 "metadata": {
  "anaconda-cloud": {},
  "kernelspec": {
   "display_name": "Python [conda env:dspy3]",
   "language": "python",
   "name": "conda-env-dspy3-py"
  },
  "language_info": {
   "codemirror_mode": {
    "name": "ipython",
    "version": 3
   },
   "file_extension": ".py",
   "mimetype": "text/x-python",
   "name": "python",
   "nbconvert_exporter": "python",
   "pygments_lexer": "ipython3",
   "version": "3.5.3"
  }
 },
 "nbformat": 4,
 "nbformat_minor": 1
}
