{
 "cells": [
  {
   "cell_type": "markdown",
   "metadata": {},
   "source": [
    "# Ecommerce - Classification Analysis"
   ]
  },
  {
   "cell_type": "markdown",
   "metadata": {},
   "source": [
    "## Overview"
   ]
  },
  {
   "cell_type": "markdown",
   "metadata": {},
   "source": [
    "- [Description](#Description)  \n",
    "- [Data Description](#Data-Description)\n",
    "- [Data Preparation](#Data-Preparation)\n",
    "- [Binary Classification](#Binary-Classification)  \n",
    "    - [NAIVE BAYES CLASSIFICATION](#NAIVE-BAYES-CLASSIFICATION)\n",
    "    - [K-NEAREST NEIGHBOR](#K-NEAREST-NEIGHBOR)\n",
    "    - [PERCEPTRON](#PERCEPTRON)\n",
    "    - [LOGISTIC REGRESSION](#LOGISTIC-REGRESSION)"
   ]
  },
  {
   "cell_type": "markdown",
   "metadata": {},
   "source": [
    "## Description\n",
    "\n",
    "Our objective is to predict user actions on our ecommerce site. Examples of direct monetary impact by user actions are:\n",
    "- Predict bounce (see [Bounce rate](https://en.wikipedia.org/wiki/Bounce_rate)) - we can show them a pop up and prompt them to convert or do some action other than leaving your site.\n",
    "- Discover which areas of the site are weak.\n",
    "- Detect user-friendliness in some platforms (example mobile platform).\n",
    "- Make data-driven decisions.\n",
    "- Improve user experience."
   ]
  },
  {
   "cell_type": "markdown",
   "metadata": {},
   "source": [
    "## Data Description\n",
    "\n",
    "Columns:\n",
    "- **is_mobile** (0/1). Binary feature\n",
    "- **n_products_viewed** (int >=0). Numerical feature\n",
    "- **visit_duration** (real >=0). Numerical feature\n",
    "- **is_returning_visitor** (0/1). Binary feature\n",
    "- **time_of_day** (0/1/2/3 = 24h split into 4 categories). Categorical feature\n",
    "- **user_action** (bounce / add_to_cart / begin_checkout / finish_checkout). Target\n",
    "    - bounce (0): the user just left your site\n",
    "    - add_to_cart (1): the user added to their card but did not begin the checkout process\n",
    "    - begin_checkout (2): the user started the checkout process but never completed it\n",
    "    - finish_checkout (3): the user paid and we have a successful order"
   ]
  },
  {
   "cell_type": "code",
   "execution_count": 1,
   "metadata": {
    "collapsed": true
   },
   "outputs": [],
   "source": [
    "import numpy as np\n",
    "import pandas as pd\n",
    "\n",
    "df = pd.read_csv('data/ecommerce_data.csv')"
   ]
  },
  {
   "cell_type": "code",
   "execution_count": 2,
   "metadata": {},
   "outputs": [
    {
     "data": {
      "text/html": [
       "<div>\n",
       "<table border=\"1\" class=\"dataframe\">\n",
       "  <thead>\n",
       "    <tr style=\"text-align: right;\">\n",
       "      <th></th>\n",
       "      <th>is_mobile</th>\n",
       "      <th>n_products_viewed</th>\n",
       "      <th>visit_duration</th>\n",
       "      <th>is_returning_visitor</th>\n",
       "      <th>time_of_day</th>\n",
       "      <th>user_action</th>\n",
       "    </tr>\n",
       "  </thead>\n",
       "  <tbody>\n",
       "    <tr>\n",
       "      <th>0</th>\n",
       "      <td>1</td>\n",
       "      <td>0</td>\n",
       "      <td>0.657510</td>\n",
       "      <td>0</td>\n",
       "      <td>3</td>\n",
       "      <td>0</td>\n",
       "    </tr>\n",
       "    <tr>\n",
       "      <th>1</th>\n",
       "      <td>1</td>\n",
       "      <td>1</td>\n",
       "      <td>0.568571</td>\n",
       "      <td>0</td>\n",
       "      <td>2</td>\n",
       "      <td>1</td>\n",
       "    </tr>\n",
       "    <tr>\n",
       "      <th>2</th>\n",
       "      <td>1</td>\n",
       "      <td>0</td>\n",
       "      <td>0.042246</td>\n",
       "      <td>1</td>\n",
       "      <td>1</td>\n",
       "      <td>0</td>\n",
       "    </tr>\n",
       "    <tr>\n",
       "      <th>3</th>\n",
       "      <td>1</td>\n",
       "      <td>1</td>\n",
       "      <td>1.659793</td>\n",
       "      <td>1</td>\n",
       "      <td>1</td>\n",
       "      <td>2</td>\n",
       "    </tr>\n",
       "    <tr>\n",
       "      <th>4</th>\n",
       "      <td>0</td>\n",
       "      <td>1</td>\n",
       "      <td>2.014745</td>\n",
       "      <td>1</td>\n",
       "      <td>1</td>\n",
       "      <td>2</td>\n",
       "    </tr>\n",
       "  </tbody>\n",
       "</table>\n",
       "</div>"
      ],
      "text/plain": [
       "   is_mobile  n_products_viewed  visit_duration  is_returning_visitor  \\\n",
       "0          1                  0        0.657510                     0   \n",
       "1          1                  1        0.568571                     0   \n",
       "2          1                  0        0.042246                     1   \n",
       "3          1                  1        1.659793                     1   \n",
       "4          0                  1        2.014745                     1   \n",
       "\n",
       "   time_of_day  user_action  \n",
       "0            3            0  \n",
       "1            2            1  \n",
       "2            1            0  \n",
       "3            1            2  \n",
       "4            1            2  "
      ]
     },
     "execution_count": 2,
     "metadata": {},
     "output_type": "execute_result"
    }
   ],
   "source": [
    "df.head()"
   ]
  },
  {
   "cell_type": "code",
   "execution_count": 3,
   "metadata": {},
   "outputs": [
    {
     "data": {
      "text/plain": [
       "is_mobile                 int64\n",
       "n_products_viewed         int64\n",
       "visit_duration          float64\n",
       "is_returning_visitor      int64\n",
       "time_of_day               int64\n",
       "user_action               int64\n",
       "dtype: object"
      ]
     },
     "execution_count": 3,
     "metadata": {},
     "output_type": "execute_result"
    }
   ],
   "source": [
    "df.dtypes"
   ]
  },
  {
   "cell_type": "markdown",
   "metadata": {},
   "source": [
    "## Data Preparation\n",
    "\n",
    "- Checking Missing Data (see [Missing Data](../../00 Data Preparation/01_Missing Data.ipynb))\n",
    "- Feature scaling (see [Feature Scaling](../../00 Data Preparation/03_Feature_Scaling.ipynb))(necessary for some classification algorithms)\n",
    "- One-hot-encoding for categorical data (see [Categorical Data](../../00 Data Preparation/02_Categorical Data.ipynb))"
   ]
  },
  {
   "cell_type": "code",
   "execution_count": 4,
   "metadata": {},
   "outputs": [
    {
     "data": {
      "text/html": [
       "<div>\n",
       "<table border=\"1\" class=\"dataframe\">\n",
       "  <thead>\n",
       "    <tr style=\"text-align: right;\">\n",
       "      <th></th>\n",
       "      <th>is_mobile</th>\n",
       "      <th>n_products_viewed</th>\n",
       "      <th>visit_duration</th>\n",
       "      <th>is_returning_visitor</th>\n",
       "      <th>time_of_day</th>\n",
       "      <th>user_action</th>\n",
       "    </tr>\n",
       "  </thead>\n",
       "  <tbody>\n",
       "    <tr>\n",
       "      <th>count</th>\n",
       "      <td>500.000000</td>\n",
       "      <td>500.000000</td>\n",
       "      <td>500.000000</td>\n",
       "      <td>500.000000</td>\n",
       "      <td>500.000000</td>\n",
       "      <td>500.00000</td>\n",
       "    </tr>\n",
       "    <tr>\n",
       "      <th>mean</th>\n",
       "      <td>0.486000</td>\n",
       "      <td>0.854000</td>\n",
       "      <td>1.055880</td>\n",
       "      <td>0.518000</td>\n",
       "      <td>1.588000</td>\n",
       "      <td>0.74800</td>\n",
       "    </tr>\n",
       "    <tr>\n",
       "      <th>std</th>\n",
       "      <td>0.500305</td>\n",
       "      <td>1.046362</td>\n",
       "      <td>0.976711</td>\n",
       "      <td>0.500176</td>\n",
       "      <td>1.121057</td>\n",
       "      <td>0.89336</td>\n",
       "    </tr>\n",
       "    <tr>\n",
       "      <th>min</th>\n",
       "      <td>0.000000</td>\n",
       "      <td>0.000000</td>\n",
       "      <td>0.000141</td>\n",
       "      <td>0.000000</td>\n",
       "      <td>0.000000</td>\n",
       "      <td>0.00000</td>\n",
       "    </tr>\n",
       "    <tr>\n",
       "      <th>25%</th>\n",
       "      <td>0.000000</td>\n",
       "      <td>0.000000</td>\n",
       "      <td>0.328550</td>\n",
       "      <td>0.000000</td>\n",
       "      <td>1.000000</td>\n",
       "      <td>0.00000</td>\n",
       "    </tr>\n",
       "    <tr>\n",
       "      <th>50%</th>\n",
       "      <td>0.000000</td>\n",
       "      <td>1.000000</td>\n",
       "      <td>0.804717</td>\n",
       "      <td>1.000000</td>\n",
       "      <td>2.000000</td>\n",
       "      <td>0.00000</td>\n",
       "    </tr>\n",
       "    <tr>\n",
       "      <th>75%</th>\n",
       "      <td>1.000000</td>\n",
       "      <td>1.000000</td>\n",
       "      <td>1.499518</td>\n",
       "      <td>1.000000</td>\n",
       "      <td>3.000000</td>\n",
       "      <td>1.00000</td>\n",
       "    </tr>\n",
       "    <tr>\n",
       "      <th>max</th>\n",
       "      <td>1.000000</td>\n",
       "      <td>4.000000</td>\n",
       "      <td>6.368775</td>\n",
       "      <td>1.000000</td>\n",
       "      <td>3.000000</td>\n",
       "      <td>3.00000</td>\n",
       "    </tr>\n",
       "  </tbody>\n",
       "</table>\n",
       "</div>"
      ],
      "text/plain": [
       "        is_mobile  n_products_viewed  visit_duration  is_returning_visitor  \\\n",
       "count  500.000000         500.000000      500.000000            500.000000   \n",
       "mean     0.486000           0.854000        1.055880              0.518000   \n",
       "std      0.500305           1.046362        0.976711              0.500176   \n",
       "min      0.000000           0.000000        0.000141              0.000000   \n",
       "25%      0.000000           0.000000        0.328550              0.000000   \n",
       "50%      0.000000           1.000000        0.804717              1.000000   \n",
       "75%      1.000000           1.000000        1.499518              1.000000   \n",
       "max      1.000000           4.000000        6.368775              1.000000   \n",
       "\n",
       "       time_of_day  user_action  \n",
       "count   500.000000    500.00000  \n",
       "mean      1.588000      0.74800  \n",
       "std       1.121057      0.89336  \n",
       "min       0.000000      0.00000  \n",
       "25%       1.000000      0.00000  \n",
       "50%       2.000000      0.00000  \n",
       "75%       3.000000      1.00000  \n",
       "max       3.000000      3.00000  "
      ]
     },
     "execution_count": 4,
     "metadata": {},
     "output_type": "execute_result"
    }
   ],
   "source": [
    "df.describe()"
   ]
  },
  {
   "cell_type": "code",
   "execution_count": 5,
   "metadata": {},
   "outputs": [
    {
     "data": {
      "text/plain": [
       "is_mobile               0\n",
       "n_products_viewed       0\n",
       "visit_duration          0\n",
       "is_returning_visitor    0\n",
       "time_of_day             0\n",
       "user_action             0\n",
       "dtype: int64"
      ]
     },
     "execution_count": 5,
     "metadata": {},
     "output_type": "execute_result"
    }
   ],
   "source": [
    "df.isnull().sum()"
   ]
  },
  {
   "cell_type": "code",
   "execution_count": 6,
   "metadata": {},
   "outputs": [
    {
     "name": "stdout",
     "output_type": "stream",
     "text": [
      "is_mobile\n",
      "----------------\n",
      "0    257\n",
      "1    243\n",
      "Name: is_mobile, dtype: int64\n",
      "\n",
      "\n",
      "n_products_viewed\n",
      "----------------\n",
      "0    240\n",
      "1    153\n",
      "2     62\n",
      "3     30\n",
      "4     15\n",
      "Name: n_products_viewed, dtype: int64\n",
      "\n",
      "\n",
      "visit_duration\n",
      "----------------\n",
      "3.211422    1\n",
      "0.720206    1\n",
      "0.272298    1\n",
      "1.387943    1\n",
      "3.369352    1\n",
      "0.465946    1\n",
      "1.724702    1\n",
      "0.851933    1\n",
      "3.806308    1\n",
      "0.597065    1\n",
      "0.454992    1\n",
      "0.707463    1\n",
      "0.308415    1\n",
      "0.350968    1\n",
      "0.143695    1\n",
      "0.355265    1\n",
      "1.480493    1\n",
      "0.091978    1\n",
      "0.479018    1\n",
      "1.112894    1\n",
      "2.046040    1\n",
      "0.728014    1\n",
      "0.878761    1\n",
      "0.564505    1\n",
      "1.075602    1\n",
      "0.076742    1\n",
      "0.359318    1\n",
      "2.378410    1\n",
      "0.032269    1\n",
      "0.571083    1\n",
      "           ..\n",
      "1.113962    1\n",
      "1.176730    1\n",
      "6.089099    1\n",
      "2.013423    1\n",
      "0.166900    1\n",
      "1.678533    1\n",
      "1.457982    1\n",
      "0.572542    1\n",
      "0.984629    1\n",
      "0.018690    1\n",
      "0.866789    1\n",
      "1.509405    1\n",
      "0.329477    1\n",
      "0.603154    1\n",
      "0.424030    1\n",
      "0.046689    1\n",
      "0.303757    1\n",
      "0.569088    1\n",
      "3.428653    1\n",
      "0.573198    1\n",
      "0.652474    1\n",
      "2.266245    1\n",
      "1.664271    1\n",
      "1.391700    1\n",
      "3.602783    1\n",
      "1.420571    1\n",
      "0.775653    1\n",
      "1.388480    1\n",
      "0.059218    1\n",
      "0.647095    1\n",
      "Name: visit_duration, dtype: int64\n",
      "\n",
      "\n",
      "is_returning_visitor\n",
      "----------------\n",
      "1    259\n",
      "0    241\n",
      "Name: is_returning_visitor, dtype: int64\n",
      "\n",
      "\n",
      "time_of_day\n",
      "----------------\n",
      "3    140\n",
      "2    127\n",
      "1    120\n",
      "0    113\n",
      "Name: time_of_day, dtype: int64\n",
      "\n",
      "\n",
      "user_action\n",
      "----------------\n",
      "0    253\n",
      "1    145\n",
      "2     77\n",
      "3     25\n",
      "Name: user_action, dtype: int64\n",
      "\n",
      "\n"
     ]
    }
   ],
   "source": [
    "for column in df.columns:\n",
    "    print(column)\n",
    "    print('----------------')\n",
    "    print(df[column].value_counts())\n",
    "    print('\\n')"
   ]
  },
  {
   "cell_type": "code",
   "execution_count": 7,
   "metadata": {
    "collapsed": true
   },
   "outputs": [],
   "source": [
    "y = df[['user_action']]\n",
    "X = df.drop(labels=['user_action'], axis=1)"
   ]
  },
  {
   "cell_type": "code",
   "execution_count": 8,
   "metadata": {},
   "outputs": [
    {
     "data": {
      "text/html": [
       "<div>\n",
       "<table border=\"1\" class=\"dataframe\">\n",
       "  <thead>\n",
       "    <tr style=\"text-align: right;\">\n",
       "      <th></th>\n",
       "      <th>user_action</th>\n",
       "    </tr>\n",
       "  </thead>\n",
       "  <tbody>\n",
       "    <tr>\n",
       "      <th>0</th>\n",
       "      <td>0</td>\n",
       "    </tr>\n",
       "    <tr>\n",
       "      <th>1</th>\n",
       "      <td>1</td>\n",
       "    </tr>\n",
       "    <tr>\n",
       "      <th>2</th>\n",
       "      <td>0</td>\n",
       "    </tr>\n",
       "    <tr>\n",
       "      <th>3</th>\n",
       "      <td>2</td>\n",
       "    </tr>\n",
       "    <tr>\n",
       "      <th>4</th>\n",
       "      <td>2</td>\n",
       "    </tr>\n",
       "  </tbody>\n",
       "</table>\n",
       "</div>"
      ],
      "text/plain": [
       "   user_action\n",
       "0            0\n",
       "1            1\n",
       "2            0\n",
       "3            2\n",
       "4            2"
      ]
     },
     "execution_count": 8,
     "metadata": {},
     "output_type": "execute_result"
    }
   ],
   "source": [
    "y.head()"
   ]
  },
  {
   "cell_type": "code",
   "execution_count": 9,
   "metadata": {},
   "outputs": [
    {
     "data": {
      "text/html": [
       "<div>\n",
       "<table border=\"1\" class=\"dataframe\">\n",
       "  <thead>\n",
       "    <tr style=\"text-align: right;\">\n",
       "      <th></th>\n",
       "      <th>is_mobile</th>\n",
       "      <th>n_products_viewed</th>\n",
       "      <th>visit_duration</th>\n",
       "      <th>is_returning_visitor</th>\n",
       "      <th>time_of_day</th>\n",
       "    </tr>\n",
       "  </thead>\n",
       "  <tbody>\n",
       "    <tr>\n",
       "      <th>0</th>\n",
       "      <td>1</td>\n",
       "      <td>0</td>\n",
       "      <td>0.657510</td>\n",
       "      <td>0</td>\n",
       "      <td>3</td>\n",
       "    </tr>\n",
       "    <tr>\n",
       "      <th>1</th>\n",
       "      <td>1</td>\n",
       "      <td>1</td>\n",
       "      <td>0.568571</td>\n",
       "      <td>0</td>\n",
       "      <td>2</td>\n",
       "    </tr>\n",
       "    <tr>\n",
       "      <th>2</th>\n",
       "      <td>1</td>\n",
       "      <td>0</td>\n",
       "      <td>0.042246</td>\n",
       "      <td>1</td>\n",
       "      <td>1</td>\n",
       "    </tr>\n",
       "    <tr>\n",
       "      <th>3</th>\n",
       "      <td>1</td>\n",
       "      <td>1</td>\n",
       "      <td>1.659793</td>\n",
       "      <td>1</td>\n",
       "      <td>1</td>\n",
       "    </tr>\n",
       "    <tr>\n",
       "      <th>4</th>\n",
       "      <td>0</td>\n",
       "      <td>1</td>\n",
       "      <td>2.014745</td>\n",
       "      <td>1</td>\n",
       "      <td>1</td>\n",
       "    </tr>\n",
       "  </tbody>\n",
       "</table>\n",
       "</div>"
      ],
      "text/plain": [
       "   is_mobile  n_products_viewed  visit_duration  is_returning_visitor  \\\n",
       "0          1                  0        0.657510                     0   \n",
       "1          1                  1        0.568571                     0   \n",
       "2          1                  0        0.042246                     1   \n",
       "3          1                  1        1.659793                     1   \n",
       "4          0                  1        2.014745                     1   \n",
       "\n",
       "   time_of_day  \n",
       "0            3  \n",
       "1            2  \n",
       "2            1  \n",
       "3            1  \n",
       "4            1  "
      ]
     },
     "execution_count": 9,
     "metadata": {},
     "output_type": "execute_result"
    }
   ],
   "source": [
    "X.head()"
   ]
  },
  {
   "cell_type": "markdown",
   "metadata": {},
   "source": [
    "### Normalization"
   ]
  },
  {
   "cell_type": "code",
   "execution_count": 10,
   "metadata": {},
   "outputs": [
    {
     "data": {
      "text/html": [
       "<div>\n",
       "<table border=\"1\" class=\"dataframe\">\n",
       "  <thead>\n",
       "    <tr style=\"text-align: right;\">\n",
       "      <th></th>\n",
       "      <th>n_products_viewed</th>\n",
       "      <th>visit_duration</th>\n",
       "    </tr>\n",
       "  </thead>\n",
       "  <tbody>\n",
       "    <tr>\n",
       "      <th>count</th>\n",
       "      <td>500.000000</td>\n",
       "      <td>500.000000</td>\n",
       "    </tr>\n",
       "    <tr>\n",
       "      <th>mean</th>\n",
       "      <td>0.854000</td>\n",
       "      <td>1.055880</td>\n",
       "    </tr>\n",
       "    <tr>\n",
       "      <th>std</th>\n",
       "      <td>1.046362</td>\n",
       "      <td>0.976711</td>\n",
       "    </tr>\n",
       "    <tr>\n",
       "      <th>min</th>\n",
       "      <td>0.000000</td>\n",
       "      <td>0.000141</td>\n",
       "    </tr>\n",
       "    <tr>\n",
       "      <th>25%</th>\n",
       "      <td>0.000000</td>\n",
       "      <td>0.328550</td>\n",
       "    </tr>\n",
       "    <tr>\n",
       "      <th>50%</th>\n",
       "      <td>1.000000</td>\n",
       "      <td>0.804717</td>\n",
       "    </tr>\n",
       "    <tr>\n",
       "      <th>75%</th>\n",
       "      <td>1.000000</td>\n",
       "      <td>1.499518</td>\n",
       "    </tr>\n",
       "    <tr>\n",
       "      <th>max</th>\n",
       "      <td>4.000000</td>\n",
       "      <td>6.368775</td>\n",
       "    </tr>\n",
       "  </tbody>\n",
       "</table>\n",
       "</div>"
      ],
      "text/plain": [
       "       n_products_viewed  visit_duration\n",
       "count         500.000000      500.000000\n",
       "mean            0.854000        1.055880\n",
       "std             1.046362        0.976711\n",
       "min             0.000000        0.000141\n",
       "25%             0.000000        0.328550\n",
       "50%             1.000000        0.804717\n",
       "75%             1.000000        1.499518\n",
       "max             4.000000        6.368775"
      ]
     },
     "execution_count": 10,
     "metadata": {},
     "output_type": "execute_result"
    }
   ],
   "source": [
    "from sklearn.preprocessing import StandardScaler\n",
    "sd = StandardScaler(with_mean=True, with_std=True)\n",
    "\n",
    "features_to_scale = ['n_products_viewed','visit_duration']\n",
    "\n",
    "Xscaled = sd.fit_transform(X[features_to_scale])\n",
    "X[features_to_scale].describe()"
   ]
  },
  {
   "cell_type": "code",
   "execution_count": 11,
   "metadata": {},
   "outputs": [
    {
     "data": {
      "text/html": [
       "<div>\n",
       "<table border=\"1\" class=\"dataframe\">\n",
       "  <thead>\n",
       "    <tr style=\"text-align: right;\">\n",
       "      <th></th>\n",
       "      <th>n_products_viewed</th>\n",
       "      <th>visit_duration</th>\n",
       "    </tr>\n",
       "  </thead>\n",
       "  <tbody>\n",
       "    <tr>\n",
       "      <th>count</th>\n",
       "      <td>5.000000e+02</td>\n",
       "      <td>5.000000e+02</td>\n",
       "    </tr>\n",
       "    <tr>\n",
       "      <th>mean</th>\n",
       "      <td>-9.414691e-17</td>\n",
       "      <td>-3.286260e-17</td>\n",
       "    </tr>\n",
       "    <tr>\n",
       "      <th>std</th>\n",
       "      <td>1.001002e+00</td>\n",
       "      <td>1.001002e+00</td>\n",
       "    </tr>\n",
       "    <tr>\n",
       "      <th>min</th>\n",
       "      <td>-8.169784e-01</td>\n",
       "      <td>-1.081995e+00</td>\n",
       "    </tr>\n",
       "    <tr>\n",
       "      <th>25%</th>\n",
       "      <td>-8.169784e-01</td>\n",
       "      <td>-7.454186e-01</td>\n",
       "    </tr>\n",
       "    <tr>\n",
       "      <th>50%</th>\n",
       "      <td>1.396708e-01</td>\n",
       "      <td>-2.574098e-01</td>\n",
       "    </tr>\n",
       "    <tr>\n",
       "      <th>75%</th>\n",
       "      <td>1.396708e-01</td>\n",
       "      <td>4.546714e-01</td>\n",
       "    </tr>\n",
       "    <tr>\n",
       "      <th>max</th>\n",
       "      <td>3.009618e+00</td>\n",
       "      <td>5.445026e+00</td>\n",
       "    </tr>\n",
       "  </tbody>\n",
       "</table>\n",
       "</div>"
      ],
      "text/plain": [
       "       n_products_viewed  visit_duration\n",
       "count       5.000000e+02    5.000000e+02\n",
       "mean       -9.414691e-17   -3.286260e-17\n",
       "std         1.001002e+00    1.001002e+00\n",
       "min        -8.169784e-01   -1.081995e+00\n",
       "25%        -8.169784e-01   -7.454186e-01\n",
       "50%         1.396708e-01   -2.574098e-01\n",
       "75%         1.396708e-01    4.546714e-01\n",
       "max         3.009618e+00    5.445026e+00"
      ]
     },
     "execution_count": 11,
     "metadata": {},
     "output_type": "execute_result"
    }
   ],
   "source": [
    "X = X.drop(labels=features_to_scale, axis=1)\n",
    "\n",
    "for idx, feature in enumerate(features_to_scale):\n",
    "    X[feature] = Xscaled[:, idx]\n",
    "\n",
    "X[features_to_scale].describe()"
   ]
  },
  {
   "cell_type": "code",
   "execution_count": 12,
   "metadata": {},
   "outputs": [
    {
     "data": {
      "text/html": [
       "<div>\n",
       "<table border=\"1\" class=\"dataframe\">\n",
       "  <thead>\n",
       "    <tr style=\"text-align: right;\">\n",
       "      <th></th>\n",
       "      <th>is_mobile</th>\n",
       "      <th>is_returning_visitor</th>\n",
       "      <th>time_of_day</th>\n",
       "      <th>n_products_viewed</th>\n",
       "      <th>visit_duration</th>\n",
       "    </tr>\n",
       "  </thead>\n",
       "  <tbody>\n",
       "    <tr>\n",
       "      <th>0</th>\n",
       "      <td>1</td>\n",
       "      <td>0</td>\n",
       "      <td>3</td>\n",
       "      <td>-0.816978</td>\n",
       "      <td>-0.408278</td>\n",
       "    </tr>\n",
       "    <tr>\n",
       "      <th>1</th>\n",
       "      <td>1</td>\n",
       "      <td>0</td>\n",
       "      <td>2</td>\n",
       "      <td>0.139671</td>\n",
       "      <td>-0.499428</td>\n",
       "    </tr>\n",
       "    <tr>\n",
       "      <th>2</th>\n",
       "      <td>1</td>\n",
       "      <td>1</td>\n",
       "      <td>1</td>\n",
       "      <td>-0.816978</td>\n",
       "      <td>-1.038843</td>\n",
       "    </tr>\n",
       "    <tr>\n",
       "      <th>3</th>\n",
       "      <td>1</td>\n",
       "      <td>1</td>\n",
       "      <td>1</td>\n",
       "      <td>0.139671</td>\n",
       "      <td>0.618932</td>\n",
       "    </tr>\n",
       "    <tr>\n",
       "      <th>4</th>\n",
       "      <td>0</td>\n",
       "      <td>1</td>\n",
       "      <td>1</td>\n",
       "      <td>0.139671</td>\n",
       "      <td>0.982712</td>\n",
       "    </tr>\n",
       "  </tbody>\n",
       "</table>\n",
       "</div>"
      ],
      "text/plain": [
       "   is_mobile  is_returning_visitor  time_of_day  n_products_viewed  \\\n",
       "0          1                     0            3          -0.816978   \n",
       "1          1                     0            2           0.139671   \n",
       "2          1                     1            1          -0.816978   \n",
       "3          1                     1            1           0.139671   \n",
       "4          0                     1            1           0.139671   \n",
       "\n",
       "   visit_duration  \n",
       "0       -0.408278  \n",
       "1       -0.499428  \n",
       "2       -1.038843  \n",
       "3        0.618932  \n",
       "4        0.982712  "
      ]
     },
     "execution_count": 12,
     "metadata": {},
     "output_type": "execute_result"
    }
   ],
   "source": [
    "X.head()"
   ]
  },
  {
   "cell_type": "markdown",
   "metadata": {},
   "source": [
    "### One-Hot-Encoding"
   ]
  },
  {
   "cell_type": "code",
   "execution_count": 13,
   "metadata": {},
   "outputs": [
    {
     "data": {
      "text/html": [
       "<div>\n",
       "<table border=\"1\" class=\"dataframe\">\n",
       "  <thead>\n",
       "    <tr style=\"text-align: right;\">\n",
       "      <th></th>\n",
       "      <th>is_mobile</th>\n",
       "      <th>is_returning_visitor</th>\n",
       "      <th>n_products_viewed</th>\n",
       "      <th>visit_duration</th>\n",
       "      <th>time_of_day_0</th>\n",
       "      <th>time_of_day_1</th>\n",
       "      <th>time_of_day_2</th>\n",
       "      <th>time_of_day_3</th>\n",
       "    </tr>\n",
       "  </thead>\n",
       "  <tbody>\n",
       "    <tr>\n",
       "      <th>0</th>\n",
       "      <td>1</td>\n",
       "      <td>0</td>\n",
       "      <td>-0.816978</td>\n",
       "      <td>-0.408278</td>\n",
       "      <td>0</td>\n",
       "      <td>0</td>\n",
       "      <td>0</td>\n",
       "      <td>1</td>\n",
       "    </tr>\n",
       "    <tr>\n",
       "      <th>1</th>\n",
       "      <td>1</td>\n",
       "      <td>0</td>\n",
       "      <td>0.139671</td>\n",
       "      <td>-0.499428</td>\n",
       "      <td>0</td>\n",
       "      <td>0</td>\n",
       "      <td>1</td>\n",
       "      <td>0</td>\n",
       "    </tr>\n",
       "    <tr>\n",
       "      <th>2</th>\n",
       "      <td>1</td>\n",
       "      <td>1</td>\n",
       "      <td>-0.816978</td>\n",
       "      <td>-1.038843</td>\n",
       "      <td>0</td>\n",
       "      <td>1</td>\n",
       "      <td>0</td>\n",
       "      <td>0</td>\n",
       "    </tr>\n",
       "    <tr>\n",
       "      <th>3</th>\n",
       "      <td>1</td>\n",
       "      <td>1</td>\n",
       "      <td>0.139671</td>\n",
       "      <td>0.618932</td>\n",
       "      <td>0</td>\n",
       "      <td>1</td>\n",
       "      <td>0</td>\n",
       "      <td>0</td>\n",
       "    </tr>\n",
       "    <tr>\n",
       "      <th>4</th>\n",
       "      <td>0</td>\n",
       "      <td>1</td>\n",
       "      <td>0.139671</td>\n",
       "      <td>0.982712</td>\n",
       "      <td>0</td>\n",
       "      <td>1</td>\n",
       "      <td>0</td>\n",
       "      <td>0</td>\n",
       "    </tr>\n",
       "  </tbody>\n",
       "</table>\n",
       "</div>"
      ],
      "text/plain": [
       "   is_mobile  is_returning_visitor  n_products_viewed  visit_duration  \\\n",
       "0          1                     0          -0.816978       -0.408278   \n",
       "1          1                     0           0.139671       -0.499428   \n",
       "2          1                     1          -0.816978       -1.038843   \n",
       "3          1                     1           0.139671        0.618932   \n",
       "4          0                     1           0.139671        0.982712   \n",
       "\n",
       "   time_of_day_0  time_of_day_1  time_of_day_2  time_of_day_3  \n",
       "0              0              0              0              1  \n",
       "1              0              0              1              0  \n",
       "2              0              1              0              0  \n",
       "3              0              1              0              0  \n",
       "4              0              1              0              0  "
      ]
     },
     "execution_count": 13,
     "metadata": {},
     "output_type": "execute_result"
    }
   ],
   "source": [
    "X = pd.get_dummies(X, columns=['time_of_day'])\n",
    "X.head()"
   ]
  },
  {
   "cell_type": "markdown",
   "metadata": {},
   "source": [
    "### Visualizing the Dataset"
   ]
  },
  {
   "cell_type": "code",
   "execution_count": 14,
   "metadata": {
    "collapsed": true
   },
   "outputs": [],
   "source": [
    "import matplotlib.pyplot as plt\n",
    "%matplotlib inline\n",
    "\n",
    "# plots configuration\n",
    "plt.style.use('ggplot')\n",
    "plt.rcParams['figure.figsize'] = 10, 6\n",
    "plt.rcParams['axes.labelsize'] = 11\n",
    "plt.rcParams['axes.titlesize'] = 11\n",
    "plt.rcParams['legend.fontsize'] = 10"
   ]
  },
  {
   "cell_type": "markdown",
   "metadata": {},
   "source": [
    "#### Parallel Coordinates"
   ]
  },
  {
   "cell_type": "code",
   "execution_count": 15,
   "metadata": {},
   "outputs": [
    {
     "data": {
      "text/plain": [
       "<matplotlib.axes._subplots.AxesSubplot at 0x115370400>"
      ]
     },
     "execution_count": 15,
     "metadata": {},
     "output_type": "execute_result"
    },
    {
     "data": {
      "image/png": "[encoded data removed]",
      "text/plain": [
       "<matplotlib.figure.Figure at 0x11534ca58>"
      ]
     },
     "metadata": {},
     "output_type": "display_data"
    }
   ],
   "source": [
    "from pandas.tools.plotting import parallel_coordinates\n",
    "\n",
    "dataset = X.copy()\n",
    "\n",
    "# adding the target for a binary classification:\n",
    "# 0: user bounces\n",
    "# 1: user doesn't bounce\n",
    "dataset['target'] = y['user_action'].apply(lambda x: 1 if x>0 else 0)\n",
    "\n",
    "parallel_coordinates(dataset, 'target')"
   ]
  },
  {
   "cell_type": "markdown",
   "metadata": {},
   "source": [
    "####  RadViz"
   ]
  },
  {
   "cell_type": "code",
   "execution_count": 16,
   "metadata": {},
   "outputs": [
    {
     "data": {
      "text/plain": [
       "<matplotlib.axes._subplots.AxesSubplot at 0x1180f7eb8>"
      ]
     },
     "execution_count": 16,
     "metadata": {},
     "output_type": "execute_result"
    },
    {
     "data": {
      "image/png": "[encoded data removed]",
      "text/plain": [
       "<matplotlib.figure.Figure at 0x1180e6d30>"
      ]
     },
     "metadata": {},
     "output_type": "display_data"
    }
   ],
   "source": [
    "from pandas.tools.plotting import radviz\n",
    "\n",
    "radviz(dataset, 'target')"
   ]
  },
  {
   "cell_type": "markdown",
   "metadata": {},
   "source": [
    "## Binary Classification\n",
    "\n",
    "First we are going to perfom a **binary classification** for the bounce user action. In this case we are going to convert the actions 'add_to_cart', 'begin_checkout', and 'finish_checkout' in a non-bounce action. So we are going to classify data as:\n",
    "- y=0 if user bounces\n",
    "- y=1 if user doesn't bounce"
   ]
  },
  {
   "cell_type": "code",
   "execution_count": 17,
   "metadata": {},
   "outputs": [
    {
     "data": {
      "text/plain": [
       "0    253\n",
       "1    145\n",
       "2     77\n",
       "3     25\n",
       "Name: user_action, dtype: int64"
      ]
     },
     "execution_count": 17,
     "metadata": {},
     "output_type": "execute_result"
    }
   ],
   "source": [
    "y['user_action'].value_counts()"
   ]
  },
  {
   "cell_type": "code",
   "execution_count": 18,
   "metadata": {},
   "outputs": [
    {
     "data": {
      "text/plain": [
       "0    253\n",
       "1    247\n",
       "Name: user_action, dtype: int64"
      ]
     },
     "execution_count": 18,
     "metadata": {},
     "output_type": "execute_result"
    }
   ],
   "source": [
    "y = y['user_action'].apply(lambda x: 1 if x>0 else 0)\n",
    "y.value_counts()"
   ]
  },
  {
   "cell_type": "code",
   "execution_count": 19,
   "metadata": {},
   "outputs": [],
   "source": [
    "# Convert the dataset and targets to a numpy array\n",
    "X = X.values\n",
    "y = y.values"
   ]
  },
  {
   "cell_type": "markdown",
   "metadata": {},
   "source": [
    "### Splitting the Dataset in a Training a Test Set"
   ]
  },
  {
   "cell_type": "code",
   "execution_count": 20,
   "metadata": {
    "collapsed": true
   },
   "outputs": [],
   "source": [
    "from sklearn.model_selection import train_test_split\n",
    "X_train, X_test, y_train, y_test = train_test_split(X, \n",
    "                                                    y, \n",
    "                                                    test_size=0.2, \n",
    "                                                    random_state=7)"
   ]
  },
  {
   "cell_type": "markdown",
   "metadata": {},
   "source": [
    "### Using PCA for Visualization Purposes"
   ]
  },
  {
   "cell_type": "code",
   "execution_count": 21,
   "metadata": {},
   "outputs": [
    {
     "data": {
      "image/png": "[encoded data removed]",
      "text/plain": [
       "<matplotlib.figure.Figure at 0x1184a3d30>"
      ]
     },
     "metadata": {},
     "output_type": "display_data"
    }
   ],
   "source": [
    "from sklearn.decomposition import PCA\n",
    "\n",
    "pca = PCA(n_components=2)\n",
    "pca.fit(X)\n",
    "\n",
    "X_r = pca.transform(X)\n",
    "\n",
    "colors = ['navy', 'darkorange']\n",
    "\n",
    "for color, i in zip(colors, [0, 1]):\n",
    "    plt.scatter(X_r[y==i,0], X_r[y==i,1], alpha=.8, lw=2)"
   ]
  },
  {
   "cell_type": "markdown",
   "metadata": {},
   "source": [
    "### NAIVE BAYES CLASSIFICATION\n",
    "See [Naive Bayes Classification](../../02 Classification/00 Naive Bayes Classification.ipynb) explanation."
   ]
  },
  {
   "cell_type": "code",
   "execution_count": 22,
   "metadata": {},
   "outputs": [],
   "source": [
    "from sklearn.naive_bayes import GaussianNB\n",
    "from sklearn.model_selection import cross_val_score\n",
    "\n",
    "gnb = GaussianNB()\n",
    "accuracies = cross_val_score(estimator=gnb, \n",
    "                             X=X_train, \n",
    "                             y=y_train, \n",
    "                             cv=10, \n",
    "                             n_jobs=-1)"
   ]
  },
  {
   "cell_type": "code",
   "execution_count": 23,
   "metadata": {},
   "outputs": [
    {
     "name": "stdout",
     "output_type": "stream",
     "text": [
      "Mean Accuracy: 0.974926516572858\n",
      "Standard Deviation Accuracies: 0.025014790528671428\n",
      "Mean Score and 95 confidence interval: 0.97 (+/- 0.05)\n"
     ]
    }
   ],
   "source": [
    "print('Mean Accuracy: {0}'.format(accuracies.mean()))\n",
    "print('Standard Deviation Accuracies: {0}'.format(accuracies.std()))\n",
    "print('Mean Score and 95 confidence interval: %0.2f (+/- %0.2f)' % (accuracies.mean(), accuracies.std() * 2))"
   ]
  },
  {
   "cell_type": "code",
   "execution_count": 24,
   "metadata": {},
   "outputs": [
    {
     "name": "stdout",
     "output_type": "stream",
     "text": [
      "Accuracy: 0.96\n",
      "Number of mislabeled points: 4 of 100\n"
     ]
    }
   ],
   "source": [
    "gnb.fit(X_train, y_train)\n",
    "print('Accuracy: {0}'.format(gnb.score(X_test, y_test)))\n",
    "y_pred = gnb.predict(X_test)\n",
    "print('Number of mislabeled points: {0} of {1}'.format((y_test!=y_pred).sum(), y_test.size))"
   ]
  },
  {
   "cell_type": "markdown",
   "metadata": {},
   "source": [
    "### K-NEAREST NEIGHBOR\n",
    "See [K-Nearest Neighbor](../../02 Classification/01 K-Nearest Neighbor Classification.ipynb) explanation."
   ]
  },
  {
   "cell_type": "code",
   "execution_count": 25,
   "metadata": {},
   "outputs": [
    {
     "data": {
      "text/plain": [
       "GridSearchCV(cv=10, error_score='raise',\n",
       "       estimator=KNeighborsClassifier(algorithm='auto', leaf_size=30, metric='minkowski',\n",
       "           metric_params=None, n_jobs=1, n_neighbors=5, p=2,\n",
       "           weights='uniform'),\n",
       "       fit_params={}, iid=True, n_jobs=1,\n",
       "       param_grid={'n_neighbors': [5, 10, 15]}, pre_dispatch='2*n_jobs',\n",
       "       refit=True, return_train_score=True, scoring='accuracy', verbose=0)"
      ]
     },
     "execution_count": 25,
     "metadata": {},
     "output_type": "execute_result"
    }
   ],
   "source": [
    "from sklearn.neighbors import KNeighborsClassifier\n",
    "from sklearn.model_selection import GridSearchCV\n",
    "\n",
    "parameters = {'n_neighbors': [5, 10, 15]}\n",
    "\n",
    "knn = KNeighborsClassifier()\n",
    "knn_gsv = GridSearchCV(estimator=knn, \n",
    "                   param_grid=parameters, \n",
    "                   cv=10,\n",
    "                   scoring='accuracy')\n",
    "\n",
    "knn_gsv.fit(X_train, y_train)"
   ]
  },
  {
   "cell_type": "code",
   "execution_count": 26,
   "metadata": {},
   "outputs": [
    {
     "name": "stdout",
     "output_type": "stream",
     "text": [
      "Best parameters: {'n_neighbors': 15}\n",
      "Best accuracy: 0.9625\n"
     ]
    }
   ],
   "source": [
    "print('Best parameters: {0}'.format(knn_gsv.best_params_))\n",
    "print('Best accuracy: {0}'.format(knn_gsv.best_score_))"
   ]
  },
  {
   "cell_type": "code",
   "execution_count": 45,
   "metadata": {},
   "outputs": [
    {
     "name": "stderr",
     "output_type": "stream",
     "text": [
      "/Volumes/MacintoshDATA/softdevelopmentbcn/miniconda2/envs/dspy3/lib/python3.5/site-packages/sklearn/model_selection/_search.py:667: DeprecationWarning: The grid_scores_ attribute was deprecated in version 0.18 in favor of the more elaborate cv_results_ attribute. The grid_scores_ attribute will not be available from 0.20\n",
      "  DeprecationWarning)\n"
     ]
    },
    {
     "data": {
      "text/plain": [
       "[mean: 0.95000, std: 0.04424, params: {'n_neighbors': 5},\n",
       " mean: 0.93250, std: 0.04123, params: {'n_neighbors': 10},\n",
       " mean: 0.96250, std: 0.03967, params: {'n_neighbors': 15}]"
      ]
     },
     "execution_count": 45,
     "metadata": {},
     "output_type": "execute_result"
    }
   ],
   "source": [
    "knn_gsv.grid_scores_"
   ]
  },
  {
   "cell_type": "code",
   "execution_count": 46,
   "metadata": {},
   "outputs": [
    {
     "data": {
      "text/plain": [
       "{'mean_fit_time': array([ 0.00168788,  0.00114672,  0.00102208]),\n",
       " 'mean_score_time': array([ 0.00321989,  0.00182757,  0.00187213]),\n",
       " 'mean_test_score': array([ 0.95  ,  0.9325,  0.9625]),\n",
       " 'mean_train_score': array([ 0.98444665,  0.95638013,  0.96638327]),\n",
       " 'param_n_neighbors': masked_array(data = [5 10 15],\n",
       "              mask = [False False False],\n",
       "        fill_value = ?),\n",
       " 'params': ({'n_neighbors': 5}, {'n_neighbors': 10}, {'n_neighbors': 15}),\n",
       " 'rank_test_score': array([2, 3, 1], dtype=int32),\n",
       " 'split0_test_score': array([ 1.        ,  0.92682927,  0.95121951]),\n",
       " 'split0_train_score': array([ 0.98328691,  0.95264624,  0.95821727]),\n",
       " 'split1_test_score': array([ 0.97560976,  1.        ,  1.        ]),\n",
       " 'split1_train_score': array([ 0.99164345,  0.94150418,  0.95821727]),\n",
       " 'split2_test_score': array([ 0.97560976,  0.97560976,  1.        ]),\n",
       " 'split2_train_score': array([ 0.98328691,  0.95821727,  0.96657382]),\n",
       " 'split3_test_score': array([ 0.92682927,  0.90243902,  0.92682927]),\n",
       " 'split3_train_score': array([ 0.97771588,  0.95821727,  0.96657382]),\n",
       " 'split4_test_score': array([ 0.925,  0.95 ,  0.95 ]),\n",
       " 'split4_train_score': array([ 0.99166667,  0.95      ,  0.97222222]),\n",
       " 'split5_test_score': array([ 1.  ,  0.95,  1.  ]),\n",
       " 'split5_train_score': array([ 0.98888889,  0.96111111,  0.97222222]),\n",
       " 'split6_test_score': array([ 0.92307692,  0.94871795,  0.94871795]),\n",
       " 'split6_train_score': array([ 0.97783934,  0.97783934,  0.966759  ]),\n",
       " 'split7_test_score': array([ 0.94871795,  0.92307692,  1.        ]),\n",
       " 'split7_train_score': array([ 0.9833795 ,  0.95290859,  0.96952909]),\n",
       " 'split8_test_score': array([ 0.84615385,  0.84615385,  0.87179487]),\n",
       " 'split8_train_score': array([ 0.9833795 ,  0.95567867,  0.96952909]),\n",
       " 'split9_test_score': array([ 0.97435897,  0.8974359 ,  0.97435897]),\n",
       " 'split9_train_score': array([ 0.9833795 ,  0.95567867,  0.96398892]),\n",
       " 'std_fit_time': array([ 0.00153808,  0.00061239,  0.00033273]),\n",
       " 'std_score_time': array([ 0.00153408,  0.00039991,  0.00040985]),\n",
       " 'std_test_score': array([ 0.04402681,  0.04117988,  0.03949063]),\n",
       " 'std_train_score': array([ 0.00467678,  0.00882387,  0.00476752])}"
      ]
     },
     "execution_count": 46,
     "metadata": {},
     "output_type": "execute_result"
    }
   ],
   "source": [
    "knn_gsv.cv_results_"
   ]
  },
  {
   "cell_type": "code",
   "execution_count": 37,
   "metadata": {},
   "outputs": [
    {
     "name": "stdout",
     "output_type": "stream",
     "text": [
      "Accuracy: 0.94\n",
      "Number of mislabeled points: 6 of 100\n"
     ]
    }
   ],
   "source": [
    "print('Accuracy: {0}'.format(knn_gsv.score(X_test, y_test)))\n",
    "y_pred = knn_gsv.predict(X_test)\n",
    "print('Number of mislabeled points: {0} of {1}'.format((y_test!=y_pred).sum(), y_test.size))"
   ]
  },
  {
   "cell_type": "markdown",
   "metadata": {},
   "source": [
    "### PERCEPTRON\n",
    "See [Perceptron](../../02 Classification/02 Perceptron Classification.ipynb) explanation."
   ]
  },
  {
   "cell_type": "code",
   "execution_count": 31,
   "metadata": {},
   "outputs": [
    {
     "data": {
      "text/plain": [
       "GridSearchCV(cv=10, error_score='raise',\n",
       "       estimator=Perceptron(alpha=0.0001, class_weight=None, eta0=1.0, fit_intercept=True,\n",
       "      n_iter=5, n_jobs=1, penalty=None, random_state=0, shuffle=True,\n",
       "      verbose=0, warm_start=False),\n",
       "       fit_params={}, iid=True, n_jobs=1,\n",
       "       param_grid={'alpha': [0.0001, 0.001, 0.01, 0.1], 'n_iter': [40, 60, 100], 'eta0': [0.01, 0.1], 'penalty': [None, 'l2', 'l1']},\n",
       "       pre_dispatch='2*n_jobs', refit=True, return_train_score=True,\n",
       "       scoring='accuracy', verbose=0)"
      ]
     },
     "execution_count": 31,
     "metadata": {},
     "output_type": "execute_result"
    }
   ],
   "source": [
    "from sklearn.linear_model import Perceptron\n",
    "\n",
    "parameters = {'n_iter': [40, 60, 100],\n",
    "              'eta0':[0.01, 0.1],\n",
    "              'penalty':[None, 'l2','l1'],\n",
    "              'alpha':[0.0001, 0.001, 0.01, 0.1]\n",
    "             }\n",
    "\n",
    "ppn = Perceptron(random_state=0)\n",
    "ppn_gsv = GridSearchCV(estimator=ppn, \n",
    "                   param_grid=parameters, \n",
    "                   cv=10,\n",
    "                   scoring='accuracy')\n",
    "\n",
    "ppn_gsv.fit(X_train, y_train)"
   ]
  },
  {
   "cell_type": "code",
   "execution_count": 33,
   "metadata": {},
   "outputs": [
    {
     "name": "stdout",
     "output_type": "stream",
     "text": [
      "Best parameters: {'alpha': 0.001, 'n_iter': 40, 'eta0': 0.01, 'penalty': 'l1'}\n",
      "Best accuracy: 0.95\n"
     ]
    }
   ],
   "source": [
    "print('Best parameters: {0}'.format(ppn_gsv.best_params_))\n",
    "print('Best accuracy: {0}'.format(ppn_gsv.best_score_))"
   ]
  },
  {
   "cell_type": "code",
   "execution_count": 35,
   "metadata": {},
   "outputs": [
    {
     "name": "stderr",
     "output_type": "stream",
     "text": [
      "/Volumes/MacintoshDATA/softdevelopmentbcn/miniconda2/envs/dspy3/lib/python3.5/site-packages/sklearn/model_selection/_search.py:667: DeprecationWarning: The grid_scores_ attribute was deprecated in version 0.18 in favor of the more elaborate cv_results_ attribute. The grid_scores_ attribute will not be available from 0.20\n",
      "  DeprecationWarning)\n"
     ]
    },
    {
     "data": {
      "text/plain": [
       "[mean: 0.93250, std: 0.05627, params: {'alpha': 0.0001, 'n_iter': 40, 'eta0': 0.01, 'penalty': None},\n",
       " mean: 0.94000, std: 0.06243, params: {'alpha': 0.0001, 'n_iter': 40, 'eta0': 0.01, 'penalty': 'l2'},\n",
       " mean: 0.92750, std: 0.08070, params: {'alpha': 0.0001, 'n_iter': 40, 'eta0': 0.01, 'penalty': 'l1'},\n",
       " mean: 0.92500, std: 0.05137, params: {'alpha': 0.0001, 'n_iter': 60, 'eta0': 0.01, 'penalty': None},\n",
       " mean: 0.92750, std: 0.05701, params: {'alpha': 0.0001, 'n_iter': 60, 'eta0': 0.01, 'penalty': 'l2'},\n",
       " mean: 0.93000, std: 0.06956, params: {'alpha': 0.0001, 'n_iter': 60, 'eta0': 0.01, 'penalty': 'l1'},\n",
       " mean: 0.92000, std: 0.04285, params: {'alpha': 0.0001, 'n_iter': 100, 'eta0': 0.01, 'penalty': None},\n",
       " mean: 0.92500, std: 0.03499, params: {'alpha': 0.0001, 'n_iter': 100, 'eta0': 0.01, 'penalty': 'l2'},\n",
       " mean: 0.92000, std: 0.07661, params: {'alpha': 0.0001, 'n_iter': 100, 'eta0': 0.01, 'penalty': 'l1'},\n",
       " mean: 0.93250, std: 0.05627, params: {'alpha': 0.0001, 'n_iter': 40, 'eta0': 0.1, 'penalty': None},\n",
       " mean: 0.92750, std: 0.06355, params: {'alpha': 0.0001, 'n_iter': 40, 'eta0': 0.1, 'penalty': 'l2'},\n",
       " mean: 0.92750, std: 0.08070, params: {'alpha': 0.0001, 'n_iter': 40, 'eta0': 0.1, 'penalty': 'l1'},\n",
       " mean: 0.92500, std: 0.05137, params: {'alpha': 0.0001, 'n_iter': 60, 'eta0': 0.1, 'penalty': None},\n",
       " mean: 0.92250, std: 0.05238, params: {'alpha': 0.0001, 'n_iter': 60, 'eta0': 0.1, 'penalty': 'l2'},\n",
       " mean: 0.93000, std: 0.06956, params: {'alpha': 0.0001, 'n_iter': 60, 'eta0': 0.1, 'penalty': 'l1'},\n",
       " mean: 0.92000, std: 0.04285, params: {'alpha': 0.0001, 'n_iter': 100, 'eta0': 0.1, 'penalty': None},\n",
       " mean: 0.90750, std: 0.03613, params: {'alpha': 0.0001, 'n_iter': 100, 'eta0': 0.1, 'penalty': 'l2'},\n",
       " mean: 0.92000, std: 0.07661, params: {'alpha': 0.0001, 'n_iter': 100, 'eta0': 0.1, 'penalty': 'l1'},\n",
       " mean: 0.93250, std: 0.05627, params: {'alpha': 0.001, 'n_iter': 40, 'eta0': 0.01, 'penalty': None},\n",
       " mean: 0.92750, std: 0.06355, params: {'alpha': 0.001, 'n_iter': 40, 'eta0': 0.01, 'penalty': 'l2'},\n",
       " mean: 0.95000, std: 0.04449, params: {'alpha': 0.001, 'n_iter': 40, 'eta0': 0.01, 'penalty': 'l1'},\n",
       " mean: 0.92500, std: 0.05137, params: {'alpha': 0.001, 'n_iter': 60, 'eta0': 0.01, 'penalty': None},\n",
       " mean: 0.92250, std: 0.05238, params: {'alpha': 0.001, 'n_iter': 60, 'eta0': 0.01, 'penalty': 'l2'},\n",
       " mean: 0.92250, std: 0.06813, params: {'alpha': 0.001, 'n_iter': 60, 'eta0': 0.01, 'penalty': 'l1'},\n",
       " mean: 0.92000, std: 0.04285, params: {'alpha': 0.001, 'n_iter': 100, 'eta0': 0.01, 'penalty': None},\n",
       " mean: 0.90750, std: 0.03613, params: {'alpha': 0.001, 'n_iter': 100, 'eta0': 0.01, 'penalty': 'l2'},\n",
       " mean: 0.89500, std: 0.09203, params: {'alpha': 0.001, 'n_iter': 100, 'eta0': 0.01, 'penalty': 'l1'},\n",
       " mean: 0.93250, std: 0.05627, params: {'alpha': 0.001, 'n_iter': 40, 'eta0': 0.1, 'penalty': None},\n",
       " mean: 0.94500, std: 0.04965, params: {'alpha': 0.001, 'n_iter': 40, 'eta0': 0.1, 'penalty': 'l2'},\n",
       " mean: 0.95000, std: 0.04449, params: {'alpha': 0.001, 'n_iter': 40, 'eta0': 0.1, 'penalty': 'l1'},\n",
       " mean: 0.92500, std: 0.05137, params: {'alpha': 0.001, 'n_iter': 60, 'eta0': 0.1, 'penalty': None},\n",
       " mean: 0.94500, std: 0.03591, params: {'alpha': 0.001, 'n_iter': 60, 'eta0': 0.1, 'penalty': 'l2'},\n",
       " mean: 0.92250, std: 0.06813, params: {'alpha': 0.001, 'n_iter': 60, 'eta0': 0.1, 'penalty': 'l1'},\n",
       " mean: 0.92000, std: 0.04285, params: {'alpha': 0.001, 'n_iter': 100, 'eta0': 0.1, 'penalty': None},\n",
       " mean: 0.93750, std: 0.05431, params: {'alpha': 0.001, 'n_iter': 100, 'eta0': 0.1, 'penalty': 'l2'},\n",
       " mean: 0.89500, std: 0.09203, params: {'alpha': 0.001, 'n_iter': 100, 'eta0': 0.1, 'penalty': 'l1'},\n",
       " mean: 0.93250, std: 0.05627, params: {'alpha': 0.01, 'n_iter': 40, 'eta0': 0.01, 'penalty': None},\n",
       " mean: 0.94500, std: 0.04965, params: {'alpha': 0.01, 'n_iter': 40, 'eta0': 0.01, 'penalty': 'l2'},\n",
       " mean: 0.92500, std: 0.09539, params: {'alpha': 0.01, 'n_iter': 40, 'eta0': 0.01, 'penalty': 'l1'},\n",
       " mean: 0.92500, std: 0.05137, params: {'alpha': 0.01, 'n_iter': 60, 'eta0': 0.01, 'penalty': None},\n",
       " mean: 0.94500, std: 0.03591, params: {'alpha': 0.01, 'n_iter': 60, 'eta0': 0.01, 'penalty': 'l2'},\n",
       " mean: 0.87750, std: 0.11728, params: {'alpha': 0.01, 'n_iter': 60, 'eta0': 0.01, 'penalty': 'l1'},\n",
       " mean: 0.92000, std: 0.04285, params: {'alpha': 0.01, 'n_iter': 100, 'eta0': 0.01, 'penalty': None},\n",
       " mean: 0.93750, std: 0.05431, params: {'alpha': 0.01, 'n_iter': 100, 'eta0': 0.01, 'penalty': 'l2'},\n",
       " mean: 0.90000, std: 0.10081, params: {'alpha': 0.01, 'n_iter': 100, 'eta0': 0.01, 'penalty': 'l1'},\n",
       " mean: 0.93250, std: 0.05627, params: {'alpha': 0.01, 'n_iter': 40, 'eta0': 0.1, 'penalty': None},\n",
       " mean: 0.94000, std: 0.04894, params: {'alpha': 0.01, 'n_iter': 40, 'eta0': 0.1, 'penalty': 'l2'},\n",
       " mean: 0.93000, std: 0.10125, params: {'alpha': 0.01, 'n_iter': 40, 'eta0': 0.1, 'penalty': 'l1'},\n",
       " mean: 0.92500, std: 0.05137, params: {'alpha': 0.01, 'n_iter': 60, 'eta0': 0.1, 'penalty': None},\n",
       " mean: 0.90750, std: 0.09483, params: {'alpha': 0.01, 'n_iter': 60, 'eta0': 0.1, 'penalty': 'l2'},\n",
       " mean: 0.86750, std: 0.11583, params: {'alpha': 0.01, 'n_iter': 60, 'eta0': 0.1, 'penalty': 'l1'},\n",
       " mean: 0.92000, std: 0.04285, params: {'alpha': 0.01, 'n_iter': 100, 'eta0': 0.1, 'penalty': None},\n",
       " mean: 0.92000, std: 0.04860, params: {'alpha': 0.01, 'n_iter': 100, 'eta0': 0.1, 'penalty': 'l2'},\n",
       " mean: 0.89500, std: 0.10528, params: {'alpha': 0.01, 'n_iter': 100, 'eta0': 0.1, 'penalty': 'l1'},\n",
       " mean: 0.93250, std: 0.05627, params: {'alpha': 0.1, 'n_iter': 40, 'eta0': 0.01, 'penalty': None},\n",
       " mean: 0.94000, std: 0.04894, params: {'alpha': 0.1, 'n_iter': 40, 'eta0': 0.01, 'penalty': 'l2'},\n",
       " mean: 0.59250, std: 0.18622, params: {'alpha': 0.1, 'n_iter': 40, 'eta0': 0.01, 'penalty': 'l1'},\n",
       " mean: 0.92500, std: 0.05137, params: {'alpha': 0.1, 'n_iter': 60, 'eta0': 0.01, 'penalty': None},\n",
       " mean: 0.90750, std: 0.09483, params: {'alpha': 0.1, 'n_iter': 60, 'eta0': 0.01, 'penalty': 'l2'},\n",
       " mean: 0.92750, std: 0.14802, params: {'alpha': 0.1, 'n_iter': 60, 'eta0': 0.01, 'penalty': 'l1'},\n",
       " mean: 0.92000, std: 0.04285, params: {'alpha': 0.1, 'n_iter': 100, 'eta0': 0.01, 'penalty': None},\n",
       " mean: 0.92000, std: 0.04860, params: {'alpha': 0.1, 'n_iter': 100, 'eta0': 0.01, 'penalty': 'l2'},\n",
       " mean: 0.92750, std: 0.14422, params: {'alpha': 0.1, 'n_iter': 100, 'eta0': 0.01, 'penalty': 'l1'},\n",
       " mean: 0.93250, std: 0.05627, params: {'alpha': 0.1, 'n_iter': 40, 'eta0': 0.1, 'penalty': None},\n",
       " mean: 0.87250, std: 0.12275, params: {'alpha': 0.1, 'n_iter': 40, 'eta0': 0.1, 'penalty': 'l2'},\n",
       " mean: 0.59250, std: 0.18622, params: {'alpha': 0.1, 'n_iter': 40, 'eta0': 0.1, 'penalty': 'l1'},\n",
       " mean: 0.92500, std: 0.05137, params: {'alpha': 0.1, 'n_iter': 60, 'eta0': 0.1, 'penalty': None},\n",
       " mean: 0.86000, std: 0.11241, params: {'alpha': 0.1, 'n_iter': 60, 'eta0': 0.1, 'penalty': 'l2'},\n",
       " mean: 0.92750, std: 0.14802, params: {'alpha': 0.1, 'n_iter': 60, 'eta0': 0.1, 'penalty': 'l1'},\n",
       " mean: 0.92000, std: 0.04285, params: {'alpha': 0.1, 'n_iter': 100, 'eta0': 0.1, 'penalty': None},\n",
       " mean: 0.82000, std: 0.14111, params: {'alpha': 0.1, 'n_iter': 100, 'eta0': 0.1, 'penalty': 'l2'},\n",
       " mean: 0.92750, std: 0.14422, params: {'alpha': 0.1, 'n_iter': 100, 'eta0': 0.1, 'penalty': 'l1'}]"
      ]
     },
     "execution_count": 35,
     "metadata": {},
     "output_type": "execute_result"
    }
   ],
   "source": [
    "ppn_gsv.grid_scores_"
   ]
  },
  {
   "cell_type": "code",
   "execution_count": 47,
   "metadata": {},
   "outputs": [
    {
     "data": {
      "text/plain": [
       "{'mean_fit_time': array([ 0.01166284,  0.00138059,  0.00196033,  0.00169778,  0.00226738,\n",
       "         0.0027396 ,  0.0021548 ,  0.00251961,  0.00328808,  0.00143313,\n",
       "         0.00132098,  0.00200288,  0.00171213,  0.00173392,  0.00262408,\n",
       "         0.00218117,  0.00275073,  0.00382144,  0.0015131 ,  0.0015348 ,\n",
       "         0.00212409,  0.00176067,  0.00181315,  0.00255373,  0.00269265,\n",
       "         0.00295858,  0.00360527,  0.00151515,  0.00151348,  0.00327582,\n",
       "         0.00248818,  0.00215099,  0.00252986,  0.00257242,  0.00266573,\n",
       "         0.00351691,  0.00144989,  0.00147088,  0.00179989,  0.00168619,\n",
       "         0.00213499,  0.00251551,  0.00238481,  0.00299294,  0.00349965,\n",
       "         0.00140162,  0.00158412,  0.0018471 ,  0.00165811,  0.0018676 ,\n",
       "         0.00210855,  0.0023747 ,  0.0035135 ,  0.00687833,  0.00145338,\n",
       "         0.00146301,  0.00191367,  0.00180924,  0.00190082,  0.00281453,\n",
       "         0.00249398,  0.00294781,  0.00354872,  0.00138361,  0.00131452,\n",
       "         0.00211258,  0.00162559,  0.00189567,  0.00288284,  0.00237968,\n",
       "         0.00278442,  0.00395715]),\n",
       " 'mean_score_time': array([ 0.00038445,  0.00027139,  0.00031574,  0.00035491,  0.00035973,\n",
       "         0.00035036,  0.00028701,  0.00029109,  0.00029695,  0.00028114,\n",
       "         0.00026131,  0.0003463 ,  0.00034537,  0.00031641,  0.00034711,\n",
       "         0.00028481,  0.00036247,  0.00035524,  0.00038879,  0.00035038,\n",
       "         0.00046244,  0.00039003,  0.00038414,  0.00037751,  0.00043032,\n",
       "         0.00043602,  0.00040321,  0.00030463,  0.00034928,  0.00051818,\n",
       "         0.00053868,  0.00040452,  0.00039966,  0.00036266,  0.00040655,\n",
       "         0.00043163,  0.00037165,  0.00033436,  0.00033731,  0.00037842,\n",
       "         0.00033071,  0.00037422,  0.00036097,  0.00042739,  0.00030875,\n",
       "         0.00035729,  0.00035911,  0.00031567,  0.00026891,  0.00035961,\n",
       "         0.00027673,  0.0003593 ,  0.00041473,  0.00044208,  0.00038188,\n",
       "         0.00029206,  0.00039699,  0.00031137,  0.00035291,  0.00036187,\n",
       "         0.0003319 ,  0.00041733,  0.00032189,  0.00029123,  0.00025716,\n",
       "         0.00036523,  0.00029342,  0.00032828,  0.00037971,  0.0003247 ,\n",
       "         0.00032809,  0.00040851]),\n",
       " 'mean_test_score': array([ 0.9325,  0.94  ,  0.9275,  0.925 ,  0.9275,  0.93  ,  0.92  ,\n",
       "         0.925 ,  0.92  ,  0.9325,  0.9275,  0.9275,  0.925 ,  0.9225,\n",
       "         0.93  ,  0.92  ,  0.9075,  0.92  ,  0.9325,  0.9275,  0.95  ,\n",
       "         0.925 ,  0.9225,  0.9225,  0.92  ,  0.9075,  0.895 ,  0.9325,\n",
       "         0.945 ,  0.95  ,  0.925 ,  0.945 ,  0.9225,  0.92  ,  0.9375,\n",
       "         0.895 ,  0.9325,  0.945 ,  0.925 ,  0.925 ,  0.945 ,  0.8775,\n",
       "         0.92  ,  0.9375,  0.9   ,  0.9325,  0.94  ,  0.93  ,  0.925 ,\n",
       "         0.9075,  0.8675,  0.92  ,  0.92  ,  0.895 ,  0.9325,  0.94  ,\n",
       "         0.5925,  0.925 ,  0.9075,  0.9275,  0.92  ,  0.92  ,  0.9275,\n",
       "         0.9325,  0.8725,  0.5925,  0.925 ,  0.86  ,  0.9275,  0.92  ,\n",
       "         0.82  ,  0.9275]),\n",
       " 'mean_train_score': array([ 0.95198501,  0.93976654,  0.92846554,  0.94214003,  0.92991466,\n",
       "         0.93545864,  0.90601251,  0.92411753,  0.92904578,  0.95198501,\n",
       "         0.92731583,  0.92846554,  0.94214003,  0.93434444,  0.93545864,\n",
       "         0.90601251,  0.9155241 ,  0.92904578,  0.95198501,  0.92731583,\n",
       "         0.94370022,  0.94214003,  0.93434444,  0.92208277,  0.90601251,\n",
       "         0.9155241 ,  0.90035807,  0.95198501,  0.94228123,  0.94370022,\n",
       "         0.94214003,  0.95326202,  0.92208277,  0.90601251,  0.93186992,\n",
       "         0.90035807,  0.95198501,  0.94228123,  0.92154264,  0.94214003,\n",
       "         0.95326202,  0.87360168,  0.90601251,  0.93186992,  0.91677408,\n",
       "         0.95198501,  0.94340777,  0.93567006,  0.94214003,  0.91624398,\n",
       "         0.87056076,  0.90601251,  0.91024085,  0.90256795,  0.95198501,\n",
       "         0.94340777,  0.59585494,  0.94214003,  0.91624398,  0.92902186,\n",
       "         0.90601251,  0.91024085,  0.9288872 ,  0.95198501,  0.87852458,\n",
       "         0.59585494,  0.94214003,  0.86700911,  0.92902186,  0.90601251,\n",
       "         0.82594783,  0.9288872 ]),\n",
       " 'param_alpha': masked_array(data = [0.0001 0.0001 0.0001 0.0001 0.0001 0.0001 0.0001 0.0001 0.0001 0.0001\n",
       "  0.0001 0.0001 0.0001 0.0001 0.0001 0.0001 0.0001 0.0001 0.001 0.001 0.001\n",
       "  0.001 0.001 0.001 0.001 0.001 0.001 0.001 0.001 0.001 0.001 0.001 0.001\n",
       "  0.001 0.001 0.001 0.01 0.01 0.01 0.01 0.01 0.01 0.01 0.01 0.01 0.01 0.01\n",
       "  0.01 0.01 0.01 0.01 0.01 0.01 0.01 0.1 0.1 0.1 0.1 0.1 0.1 0.1 0.1 0.1 0.1\n",
       "  0.1 0.1 0.1 0.1 0.1 0.1 0.1 0.1],\n",
       "              mask = [False False False False False False False False False False False False\n",
       "  False False False False False False False False False False False False\n",
       "  False False False False False False False False False False False False\n",
       "  False False False False False False False False False False False False\n",
       "  False False False False False False False False False False False False\n",
       "  False False False False False False False False False False False False],\n",
       "        fill_value = ?),\n",
       " 'param_eta0': masked_array(data = [0.01 0.01 0.01 0.01 0.01 0.01 0.01 0.01 0.01 0.1 0.1 0.1 0.1 0.1 0.1 0.1\n",
       "  0.1 0.1 0.01 0.01 0.01 0.01 0.01 0.01 0.01 0.01 0.01 0.1 0.1 0.1 0.1 0.1\n",
       "  0.1 0.1 0.1 0.1 0.01 0.01 0.01 0.01 0.01 0.01 0.01 0.01 0.01 0.1 0.1 0.1\n",
       "  0.1 0.1 0.1 0.1 0.1 0.1 0.01 0.01 0.01 0.01 0.01 0.01 0.01 0.01 0.01 0.1\n",
       "  0.1 0.1 0.1 0.1 0.1 0.1 0.1 0.1],\n",
       "              mask = [False False False False False False False False False False False False\n",
       "  False False False False False False False False False False False False\n",
       "  False False False False False False False False False False False False\n",
       "  False False False False False False False False False False False False\n",
       "  False False False False False False False False False False False False\n",
       "  False False False False False False False False False False False False],\n",
       "        fill_value = ?),\n",
       " 'param_n_iter': masked_array(data = [40 40 40 60 60 60 100 100 100 40 40 40 60 60 60 100 100 100 40 40 40 60 60\n",
       "  60 100 100 100 40 40 40 60 60 60 100 100 100 40 40 40 60 60 60 100 100 100\n",
       "  40 40 40 60 60 60 100 100 100 40 40 40 60 60 60 100 100 100 40 40 40 60 60\n",
       "  60 100 100 100],\n",
       "              mask = [False False False False False False False False False False False False\n",
       "  False False False False False False False False False False False False\n",
       "  False False False False False False False False False False False False\n",
       "  False False False False False False False False False False False False\n",
       "  False False False False False False False False False False False False\n",
       "  False False False False False False False False False False False False],\n",
       "        fill_value = ?),\n",
       " 'param_penalty': masked_array(data = [None 'l2' 'l1' None 'l2' 'l1' None 'l2' 'l1' None 'l2' 'l1' None 'l2' 'l1'\n",
       "  None 'l2' 'l1' None 'l2' 'l1' None 'l2' 'l1' None 'l2' 'l1' None 'l2' 'l1'\n",
       "  None 'l2' 'l1' None 'l2' 'l1' None 'l2' 'l1' None 'l2' 'l1' None 'l2' 'l1'\n",
       "  None 'l2' 'l1' None 'l2' 'l1' None 'l2' 'l1' None 'l2' 'l1' None 'l2' 'l1'\n",
       "  None 'l2' 'l1' None 'l2' 'l1' None 'l2' 'l1' None 'l2' 'l1'],\n",
       "              mask = [False False False False False False False False False False False False\n",
       "  False False False False False False False False False False False False\n",
       "  False False False False False False False False False False False False\n",
       "  False False False False False False False False False False False False\n",
       "  False False False False False False False False False False False False\n",
       "  False False False False False False False False False False False False],\n",
       "        fill_value = ?),\n",
       " 'params': ({'alpha': 0.0001, 'eta0': 0.01, 'n_iter': 40, 'penalty': None},\n",
       "  {'alpha': 0.0001, 'eta0': 0.01, 'n_iter': 40, 'penalty': 'l2'},\n",
       "  {'alpha': 0.0001, 'eta0': 0.01, 'n_iter': 40, 'penalty': 'l1'},\n",
       "  {'alpha': 0.0001, 'eta0': 0.01, 'n_iter': 60, 'penalty': None},\n",
       "  {'alpha': 0.0001, 'eta0': 0.01, 'n_iter': 60, 'penalty': 'l2'},\n",
       "  {'alpha': 0.0001, 'eta0': 0.01, 'n_iter': 60, 'penalty': 'l1'},\n",
       "  {'alpha': 0.0001, 'eta0': 0.01, 'n_iter': 100, 'penalty': None},\n",
       "  {'alpha': 0.0001, 'eta0': 0.01, 'n_iter': 100, 'penalty': 'l2'},\n",
       "  {'alpha': 0.0001, 'eta0': 0.01, 'n_iter': 100, 'penalty': 'l1'},\n",
       "  {'alpha': 0.0001, 'eta0': 0.1, 'n_iter': 40, 'penalty': None},\n",
       "  {'alpha': 0.0001, 'eta0': 0.1, 'n_iter': 40, 'penalty': 'l2'},\n",
       "  {'alpha': 0.0001, 'eta0': 0.1, 'n_iter': 40, 'penalty': 'l1'},\n",
       "  {'alpha': 0.0001, 'eta0': 0.1, 'n_iter': 60, 'penalty': None},\n",
       "  {'alpha': 0.0001, 'eta0': 0.1, 'n_iter': 60, 'penalty': 'l2'},\n",
       "  {'alpha': 0.0001, 'eta0': 0.1, 'n_iter': 60, 'penalty': 'l1'},\n",
       "  {'alpha': 0.0001, 'eta0': 0.1, 'n_iter': 100, 'penalty': None},\n",
       "  {'alpha': 0.0001, 'eta0': 0.1, 'n_iter': 100, 'penalty': 'l2'},\n",
       "  {'alpha': 0.0001, 'eta0': 0.1, 'n_iter': 100, 'penalty': 'l1'},\n",
       "  {'alpha': 0.001, 'eta0': 0.01, 'n_iter': 40, 'penalty': None},\n",
       "  {'alpha': 0.001, 'eta0': 0.01, 'n_iter': 40, 'penalty': 'l2'},\n",
       "  {'alpha': 0.001, 'eta0': 0.01, 'n_iter': 40, 'penalty': 'l1'},\n",
       "  {'alpha': 0.001, 'eta0': 0.01, 'n_iter': 60, 'penalty': None},\n",
       "  {'alpha': 0.001, 'eta0': 0.01, 'n_iter': 60, 'penalty': 'l2'},\n",
       "  {'alpha': 0.001, 'eta0': 0.01, 'n_iter': 60, 'penalty': 'l1'},\n",
       "  {'alpha': 0.001, 'eta0': 0.01, 'n_iter': 100, 'penalty': None},\n",
       "  {'alpha': 0.001, 'eta0': 0.01, 'n_iter': 100, 'penalty': 'l2'},\n",
       "  {'alpha': 0.001, 'eta0': 0.01, 'n_iter': 100, 'penalty': 'l1'},\n",
       "  {'alpha': 0.001, 'eta0': 0.1, 'n_iter': 40, 'penalty': None},\n",
       "  {'alpha': 0.001, 'eta0': 0.1, 'n_iter': 40, 'penalty': 'l2'},\n",
       "  {'alpha': 0.001, 'eta0': 0.1, 'n_iter': 40, 'penalty': 'l1'},\n",
       "  {'alpha': 0.001, 'eta0': 0.1, 'n_iter': 60, 'penalty': None},\n",
       "  {'alpha': 0.001, 'eta0': 0.1, 'n_iter': 60, 'penalty': 'l2'},\n",
       "  {'alpha': 0.001, 'eta0': 0.1, 'n_iter': 60, 'penalty': 'l1'},\n",
       "  {'alpha': 0.001, 'eta0': 0.1, 'n_iter': 100, 'penalty': None},\n",
       "  {'alpha': 0.001, 'eta0': 0.1, 'n_iter': 100, 'penalty': 'l2'},\n",
       "  {'alpha': 0.001, 'eta0': 0.1, 'n_iter': 100, 'penalty': 'l1'},\n",
       "  {'alpha': 0.01, 'eta0': 0.01, 'n_iter': 40, 'penalty': None},\n",
       "  {'alpha': 0.01, 'eta0': 0.01, 'n_iter': 40, 'penalty': 'l2'},\n",
       "  {'alpha': 0.01, 'eta0': 0.01, 'n_iter': 40, 'penalty': 'l1'},\n",
       "  {'alpha': 0.01, 'eta0': 0.01, 'n_iter': 60, 'penalty': None},\n",
       "  {'alpha': 0.01, 'eta0': 0.01, 'n_iter': 60, 'penalty': 'l2'},\n",
       "  {'alpha': 0.01, 'eta0': 0.01, 'n_iter': 60, 'penalty': 'l1'},\n",
       "  {'alpha': 0.01, 'eta0': 0.01, 'n_iter': 100, 'penalty': None},\n",
       "  {'alpha': 0.01, 'eta0': 0.01, 'n_iter': 100, 'penalty': 'l2'},\n",
       "  {'alpha': 0.01, 'eta0': 0.01, 'n_iter': 100, 'penalty': 'l1'},\n",
       "  {'alpha': 0.01, 'eta0': 0.1, 'n_iter': 40, 'penalty': None},\n",
       "  {'alpha': 0.01, 'eta0': 0.1, 'n_iter': 40, 'penalty': 'l2'},\n",
       "  {'alpha': 0.01, 'eta0': 0.1, 'n_iter': 40, 'penalty': 'l1'},\n",
       "  {'alpha': 0.01, 'eta0': 0.1, 'n_iter': 60, 'penalty': None},\n",
       "  {'alpha': 0.01, 'eta0': 0.1, 'n_iter': 60, 'penalty': 'l2'},\n",
       "  {'alpha': 0.01, 'eta0': 0.1, 'n_iter': 60, 'penalty': 'l1'},\n",
       "  {'alpha': 0.01, 'eta0': 0.1, 'n_iter': 100, 'penalty': None},\n",
       "  {'alpha': 0.01, 'eta0': 0.1, 'n_iter': 100, 'penalty': 'l2'},\n",
       "  {'alpha': 0.01, 'eta0': 0.1, 'n_iter': 100, 'penalty': 'l1'},\n",
       "  {'alpha': 0.1, 'eta0': 0.01, 'n_iter': 40, 'penalty': None},\n",
       "  {'alpha': 0.1, 'eta0': 0.01, 'n_iter': 40, 'penalty': 'l2'},\n",
       "  {'alpha': 0.1, 'eta0': 0.01, 'n_iter': 40, 'penalty': 'l1'},\n",
       "  {'alpha': 0.1, 'eta0': 0.01, 'n_iter': 60, 'penalty': None},\n",
       "  {'alpha': 0.1, 'eta0': 0.01, 'n_iter': 60, 'penalty': 'l2'},\n",
       "  {'alpha': 0.1, 'eta0': 0.01, 'n_iter': 60, 'penalty': 'l1'},\n",
       "  {'alpha': 0.1, 'eta0': 0.01, 'n_iter': 100, 'penalty': None},\n",
       "  {'alpha': 0.1, 'eta0': 0.01, 'n_iter': 100, 'penalty': 'l2'},\n",
       "  {'alpha': 0.1, 'eta0': 0.01, 'n_iter': 100, 'penalty': 'l1'},\n",
       "  {'alpha': 0.1, 'eta0': 0.1, 'n_iter': 40, 'penalty': None},\n",
       "  {'alpha': 0.1, 'eta0': 0.1, 'n_iter': 40, 'penalty': 'l2'},\n",
       "  {'alpha': 0.1, 'eta0': 0.1, 'n_iter': 40, 'penalty': 'l1'},\n",
       "  {'alpha': 0.1, 'eta0': 0.1, 'n_iter': 60, 'penalty': None},\n",
       "  {'alpha': 0.1, 'eta0': 0.1, 'n_iter': 60, 'penalty': 'l2'},\n",
       "  {'alpha': 0.1, 'eta0': 0.1, 'n_iter': 60, 'penalty': 'l1'},\n",
       "  {'alpha': 0.1, 'eta0': 0.1, 'n_iter': 100, 'penalty': None},\n",
       "  {'alpha': 0.1, 'eta0': 0.1, 'n_iter': 100, 'penalty': 'l2'},\n",
       "  {'alpha': 0.1, 'eta0': 0.1, 'n_iter': 100, 'penalty': 'l1'}),\n",
       " 'rank_test_score': array([12,  7, 23, 32, 23, 20, 46, 32, 46, 12, 23, 23, 32, 42, 20, 46, 58,\n",
       "        46, 12, 23,  1, 32, 42, 42, 46, 58, 63, 12,  3,  1, 32,  3, 42, 46,\n",
       "        10, 63, 12,  3, 32, 32,  3, 66, 46, 10, 62, 12,  7, 20, 32, 58, 68,\n",
       "        46, 46, 63, 12,  7, 71, 32, 58, 23, 46, 46, 23, 12, 67, 71, 32, 69,\n",
       "        23, 46, 70, 23], dtype=int32),\n",
       " 'split0_test_score': array([ 0.97560976,  0.97560976,  0.97560976,  0.90243902,  0.97560976,\n",
       "         0.97560976,  0.97560976,  0.95121951,  0.95121951,  0.97560976,\n",
       "         0.97560976,  0.97560976,  0.90243902,  0.95121951,  0.97560976,\n",
       "         0.97560976,  0.90243902,  0.95121951,  0.97560976,  0.97560976,\n",
       "         0.97560976,  0.90243902,  0.95121951,  0.87804878,  0.97560976,\n",
       "         0.90243902,  0.7804878 ,  0.97560976,  0.97560976,  0.97560976,\n",
       "         0.90243902,  0.97560976,  0.87804878,  0.97560976,  0.92682927,\n",
       "         0.7804878 ,  0.97560976,  0.97560976,  0.97560976,  0.90243902,\n",
       "         0.97560976,  0.70731707,  0.97560976,  0.92682927,  0.85365854,\n",
       "         0.97560976,  0.97560976,  0.97560976,  0.90243902,  0.87804878,\n",
       "         0.70731707,  0.97560976,  0.92682927,  0.85365854,  0.97560976,\n",
       "         0.97560976,  0.51219512,  0.90243902,  0.87804878,  0.97560976,\n",
       "         0.97560976,  0.92682927,  0.97560976,  0.97560976,  0.95121951,\n",
       "         0.51219512,  0.90243902,  0.87804878,  0.97560976,  0.97560976,\n",
       "         0.87804878,  0.97560976]),\n",
       " 'split0_train_score': array([ 0.97493036,  0.97771588,  0.97771588,  0.91922006,  0.93871866,\n",
       "         0.88857939,  0.88579387,  0.86350975,  0.93593315,  0.97493036,\n",
       "         0.97493036,  0.97771588,  0.91922006,  0.88022284,  0.88857939,\n",
       "         0.88579387,  0.8913649 ,  0.93593315,  0.97493036,  0.97493036,\n",
       "         0.97771588,  0.91922006,  0.88022284,  0.78272981,  0.88579387,\n",
       "         0.8913649 ,  0.76601671,  0.97493036,  0.97771588,  0.97771588,\n",
       "         0.91922006,  0.9637883 ,  0.78272981,  0.88579387,  0.85793872,\n",
       "         0.76601671,  0.97493036,  0.97771588,  0.97771588,  0.91922006,\n",
       "         0.9637883 ,  0.62395543,  0.88579387,  0.85793872,  0.80222841,\n",
       "         0.97493036,  0.97771588,  0.97771588,  0.91922006,  0.86350975,\n",
       "         0.62395543,  0.88579387,  0.82451253,  0.80222841,  0.97493036,\n",
       "         0.97771588,  0.5097493 ,  0.91922006,  0.86350975,  0.97771588,\n",
       "         0.88579387,  0.82451253,  0.97771588,  0.97493036,  0.95821727,\n",
       "         0.5097493 ,  0.91922006,  0.80222841,  0.97771588,  0.88579387,\n",
       "         0.77158774,  0.97771588]),\n",
       " 'split1_test_score': array([ 1.        ,  0.97560976,  1.        ,  0.80487805,  0.7804878 ,\n",
       "         0.7804878 ,  0.87804878,  0.87804878,  0.73170732,  1.        ,\n",
       "         0.97560976,  1.        ,  0.80487805,  0.82926829,  0.7804878 ,\n",
       "         0.87804878,  0.87804878,  0.73170732,  1.        ,  0.97560976,\n",
       "         1.        ,  0.80487805,  0.82926829,  0.82926829,  0.87804878,\n",
       "         0.87804878,  0.73170732,  1.        ,  1.        ,  1.        ,\n",
       "         0.80487805,  0.90243902,  0.82926829,  0.87804878,  0.85365854,\n",
       "         0.73170732,  1.        ,  1.        ,  1.        ,  0.80487805,\n",
       "         0.90243902,  0.73170732,  0.87804878,  0.85365854,  0.90243902,\n",
       "         1.        ,  0.97560976,  1.        ,  0.80487805,  0.65853659,\n",
       "         0.73170732,  0.87804878,  0.82926829,  0.85365854,  1.        ,\n",
       "         0.97560976,  0.51219512,  0.80487805,  0.65853659,  1.        ,\n",
       "         0.87804878,  0.82926829,  1.        ,  1.        ,  1.        ,\n",
       "         0.51219512,  0.80487805,  0.6097561 ,  1.        ,  0.87804878,\n",
       "         0.58536585,  1.        ]),\n",
       " 'split1_train_score': array([ 0.96657382,  0.95543175,  0.97493036,  0.85793872,  0.87743733,\n",
       "         0.93314763,  0.8718663 ,  0.89415042,  0.82451253,  0.96657382,\n",
       "         0.96657382,  0.97493036,  0.85793872,  0.89693593,  0.93314763,\n",
       "         0.8718663 ,  0.89693593,  0.82451253,  0.96657382,  0.96657382,\n",
       "         0.97493036,  0.85793872,  0.89693593,  0.8718663 ,  0.8718663 ,\n",
       "         0.89693593,  0.78830084,  0.96657382,  0.9637883 ,  0.97493036,\n",
       "         0.85793872,  0.91086351,  0.8718663 ,  0.8718663 ,  0.9275766 ,\n",
       "         0.78830084,  0.96657382,  0.9637883 ,  0.97493036,  0.85793872,\n",
       "         0.91086351,  0.72144847,  0.8718663 ,  0.9275766 ,  0.91922006,\n",
       "         0.96657382,  0.95264624,  0.97493036,  0.85793872,  0.80222841,\n",
       "         0.72144847,  0.8718663 ,  0.89693593,  0.82729805,  0.96657382,\n",
       "         0.95264624,  0.5097493 ,  0.85793872,  0.80222841,  0.97493036,\n",
       "         0.8718663 ,  0.89693593,  0.97493036,  0.96657382,  0.97493036,\n",
       "         0.5097493 ,  0.85793872,  0.74373259,  0.97493036,  0.8718663 ,\n",
       "         0.71309192,  0.97493036]),\n",
       " 'split2_test_score': array([ 1.        ,  0.97560976,  1.        ,  0.95121951,  0.90243902,\n",
       "         0.92682927,  0.90243902,  0.87804878,  0.87804878,  1.        ,\n",
       "         0.97560976,  1.        ,  0.95121951,  0.82926829,  0.92682927,\n",
       "         0.90243902,  0.90243902,  0.87804878,  1.        ,  0.97560976,\n",
       "         1.        ,  0.95121951,  0.82926829,  0.7804878 ,  0.90243902,\n",
       "         0.90243902,  0.80487805,  1.        ,  0.92682927,  1.        ,\n",
       "         0.95121951,  0.90243902,  0.7804878 ,  0.90243902,  0.95121951,\n",
       "         0.80487805,  1.        ,  0.92682927,  1.        ,  0.95121951,\n",
       "         0.90243902,  0.82926829,  0.90243902,  0.95121951,  0.73170732,\n",
       "         1.        ,  1.        ,  1.        ,  0.95121951,  0.92682927,\n",
       "         0.7804878 ,  0.90243902,  0.85365854,  0.7804878 ,  1.        ,\n",
       "         1.        ,  0.51219512,  0.95121951,  0.92682927,  1.        ,\n",
       "         0.90243902,  0.85365854,  1.        ,  1.        ,  0.92682927,\n",
       "         0.51219512,  0.95121951,  0.75609756,  1.        ,  0.90243902,\n",
       "         0.7804878 ,  1.        ]),\n",
       " 'split2_train_score': array([ 0.97493036,  0.93871866,  0.97493036,  0.91364903,  0.86908078,\n",
       "         0.95543175,  0.85236769,  0.91922006,  0.86629526,  0.97493036,\n",
       "         0.9275766 ,  0.97493036,  0.91364903,  0.88579387,  0.95543175,\n",
       "         0.85236769,  0.86072423,  0.86629526,  0.97493036,  0.9275766 ,\n",
       "         0.97493036,  0.91364903,  0.88579387,  0.76601671,  0.85236769,\n",
       "         0.86072423,  0.82729805,  0.97493036,  0.92200557,  0.97493036,\n",
       "         0.91364903,  0.86908078,  0.76601671,  0.85236769,  0.91364903,\n",
       "         0.82729805,  0.97493036,  0.92200557,  0.97493036,  0.91364903,\n",
       "         0.86908078,  0.8718663 ,  0.85236769,  0.91364903,  0.73259053,\n",
       "         0.97493036,  0.97493036,  0.97493036,  0.91364903,  0.90250696,\n",
       "         0.81615599,  0.85236769,  0.89693593,  0.80501393,  0.97493036,\n",
       "         0.97493036,  0.5097493 ,  0.91364903,  0.90250696,  0.97493036,\n",
       "         0.85236769,  0.89693593,  0.97493036,  0.97493036,  0.86350975,\n",
       "         0.5097493 ,  0.91364903,  0.79387187,  0.97493036,  0.85236769,\n",
       "         0.77715877,  0.97493036]),\n",
       " 'split3_test_score': array([ 0.85365854,  0.87804878,  0.97560976,  0.95121951,  0.92682927,\n",
       "         0.82926829,  0.95121951,  0.95121951,  0.85365854,  0.85365854,\n",
       "         0.95121951,  0.97560976,  0.95121951,  0.90243902,  0.82926829,\n",
       "         0.95121951,  0.95121951,  0.85365854,  0.85365854,  0.95121951,\n",
       "         0.97560976,  0.95121951,  0.90243902,  0.97560976,  0.95121951,\n",
       "         0.95121951,  0.85365854,  0.85365854,  0.97560976,  0.97560976,\n",
       "         0.95121951,  0.90243902,  0.97560976,  0.95121951,  0.90243902,\n",
       "         0.85365854,  0.85365854,  0.97560976,  0.97560976,  0.95121951,\n",
       "         0.90243902,  0.70731707,  0.95121951,  0.90243902,  0.70731707,\n",
       "         0.85365854,  0.92682927,  0.97560976,  0.95121951,  0.85365854,\n",
       "         0.70731707,  0.95121951,  0.97560976,  0.65853659,  0.85365854,\n",
       "         0.92682927,  0.51219512,  0.95121951,  0.85365854,  0.97560976,\n",
       "         0.95121951,  0.97560976,  0.97560976,  0.85365854,  0.97560976,\n",
       "         0.51219512,  0.95121951,  0.7804878 ,  0.97560976,  0.95121951,\n",
       "         0.68292683,  0.97560976]),\n",
       " 'split3_train_score': array([ 0.94428969,  0.9275766 ,  0.97771588,  0.90250696,  0.85793872,\n",
       "         0.74930362,  0.82172702,  0.8913649 ,  0.82172702,  0.94428969,\n",
       "         0.95821727,  0.97771588,  0.90250696,  0.8551532 ,  0.74930362,\n",
       "         0.82172702,  0.90807799,  0.82172702,  0.94428969,  0.95821727,\n",
       "         0.97771588,  0.90250696,  0.8551532 ,  0.96100279,  0.82172702,\n",
       "         0.90807799,  0.79108635,  0.94428969,  0.97771588,  0.97771588,\n",
       "         0.90250696,  0.91922006,  0.96100279,  0.82172702,  0.8718663 ,\n",
       "         0.79108635,  0.94428969,  0.97771588,  0.97771588,  0.90250696,\n",
       "         0.91922006,  0.6545961 ,  0.82172702,  0.8718663 ,  0.84401114,\n",
       "         0.94428969,  0.96657382,  0.97771588,  0.90250696,  0.77158774,\n",
       "         0.72144847,  0.82172702,  0.88857939,  0.72144847,  0.94428969,\n",
       "         0.96657382,  0.5097493 ,  0.90250696,  0.77158774,  0.97771588,\n",
       "         0.82172702,  0.88857939,  0.97771588,  0.94428969,  0.97771588,\n",
       "         0.5097493 ,  0.90250696,  0.67688022,  0.97771588,  0.82172702,\n",
       "         0.64066852,  0.97771588]),\n",
       " 'split4_test_score': array([ 0.9  ,  0.9  ,  0.9  ,  0.9  ,  0.925,  0.925,  0.85 ,  0.925,\n",
       "         0.925,  0.9  ,  0.9  ,  0.9  ,  0.9  ,  0.925,  0.925,  0.85 ,\n",
       "         0.925,  0.925,  0.9  ,  0.9  ,  0.925,  0.9  ,  0.925,  0.925,\n",
       "         0.85 ,  0.925,  0.925,  0.9  ,  0.925,  0.925,  0.9  ,  0.925,\n",
       "         0.925,  0.85 ,  0.85 ,  0.925,  0.9  ,  0.925,  0.925,  0.9  ,\n",
       "         0.925,  0.925,  0.85 ,  0.85 ,  0.925,  0.9  ,  0.925,  0.925,\n",
       "         0.9  ,  0.925,  0.925,  0.85 ,  0.925,  0.925,  0.9  ,  0.925,\n",
       "         0.925,  0.9  ,  0.925,  0.925,  0.85 ,  0.925,  0.925,  0.9  ,\n",
       "         0.925,  0.925,  0.9  ,  0.9  ,  0.925,  0.85 ,  0.875,  0.925]),\n",
       " 'split4_train_score': array([ 0.97777778,  0.98333333,  0.975     ,  0.97777778,  0.98333333,\n",
       "         0.97777778,  0.93333333,  0.98333333,  0.98333333,  0.97777778,\n",
       "         0.98333333,  0.975     ,  0.97777778,  0.98333333,  0.97777778,\n",
       "         0.93333333,  0.98333333,  0.98333333,  0.97777778,  0.98333333,\n",
       "         0.98333333,  0.97777778,  0.98333333,  0.98055556,  0.93333333,\n",
       "         0.98333333,  0.98333333,  0.97777778,  0.97777778,  0.98333333,\n",
       "         0.97777778,  0.98333333,  0.98055556,  0.93333333,  0.93333333,\n",
       "         0.98333333,  0.97777778,  0.97777778,  0.98333333,  0.97777778,\n",
       "         0.98333333,  0.98333333,  0.93333333,  0.93333333,  0.98333333,\n",
       "         0.97777778,  0.98333333,  0.98333333,  0.97777778,  0.98333333,\n",
       "         0.98333333,  0.93333333,  0.98333333,  0.98333333,  0.97777778,\n",
       "         0.98333333,  0.98333333,  0.97777778,  0.98333333,  0.98333333,\n",
       "         0.93333333,  0.98333333,  0.98333333,  0.97777778,  0.98333333,\n",
       "         0.98333333,  0.97777778,  0.95277778,  0.98333333,  0.93333333,\n",
       "         0.89166667,  0.98333333]),\n",
       " 'split5_test_score': array([ 1.   ,  1.   ,  1.   ,  0.95 ,  1.   ,  1.   ,  0.9  ,  0.975,\n",
       "         1.   ,  1.   ,  1.   ,  1.   ,  0.95 ,  0.975,  1.   ,  0.9  ,\n",
       "         0.925,  1.   ,  1.   ,  1.   ,  0.975,  0.95 ,  0.975,  1.   ,\n",
       "         0.9  ,  0.925,  0.975,  1.   ,  1.   ,  0.975,  0.95 ,  0.975,\n",
       "         1.   ,  0.9  ,  1.   ,  0.975,  1.   ,  1.   ,  1.   ,  0.95 ,\n",
       "         0.975,  1.   ,  0.9  ,  1.   ,  1.   ,  1.   ,  1.   ,  1.   ,\n",
       "         0.95 ,  1.   ,  1.   ,  0.9  ,  0.975,  1.   ,  1.   ,  1.   ,\n",
       "         1.   ,  0.95 ,  1.   ,  1.   ,  0.9  ,  0.975,  0.5  ,  1.   ,\n",
       "         0.925,  1.   ,  0.95 ,  1.   ,  1.   ,  0.9  ,  1.   ,  0.5  ]),\n",
       " 'split5_train_score': array([ 0.96666667,  0.975     ,  0.975     ,  0.96111111,  0.92222222,\n",
       "         0.975     ,  0.90833333,  0.94444444,  0.975     ,  0.96666667,\n",
       "         0.97222222,  0.975     ,  0.96111111,  0.96388889,  0.975     ,\n",
       "         0.90833333,  0.94444444,  0.975     ,  0.96666667,  0.97222222,\n",
       "         0.96388889,  0.96111111,  0.96388889,  0.975     ,  0.90833333,\n",
       "         0.94444444,  0.96388889,  0.96666667,  0.975     ,  0.96388889,\n",
       "         0.96111111,  0.96666667,  0.975     ,  0.90833333,  0.975     ,\n",
       "         0.96388889,  0.96666667,  0.975     ,  0.975     ,  0.96111111,\n",
       "         0.96666667,  0.975     ,  0.90833333,  0.975     ,  0.975     ,\n",
       "         0.96666667,  0.975     ,  0.975     ,  0.96111111,  0.97777778,\n",
       "         0.975     ,  0.90833333,  0.97222222,  0.975     ,  0.96666667,\n",
       "         0.975     ,  0.975     ,  0.96111111,  0.97777778,  0.975     ,\n",
       "         0.90833333,  0.97222222,  0.48888889,  0.96666667,  0.94166667,\n",
       "         0.975     ,  0.96111111,  0.91666667,  0.975     ,  0.90833333,\n",
       "         0.975     ,  0.48888889]),\n",
       " 'split6_test_score': array([ 0.8974359 ,  0.79487179,  0.79487179,  0.97435897,  0.94871795,\n",
       "         0.97435897,  0.97435897,  0.8974359 ,  0.97435897,  0.8974359 ,\n",
       "         0.82051282,  0.79487179,  0.97435897,  0.97435897,  0.97435897,\n",
       "         0.97435897,  0.97435897,  0.97435897,  0.8974359 ,  0.82051282,\n",
       "         0.94871795,  0.97435897,  0.97435897,  0.97435897,  0.97435897,\n",
       "         0.97435897,  0.94871795,  0.8974359 ,  0.92307692,  0.94871795,\n",
       "         0.97435897,  0.97435897,  0.97435897,  0.97435897,  1.        ,\n",
       "         0.94871795,  0.8974359 ,  0.92307692,  0.97435897,  0.97435897,\n",
       "         0.97435897,  0.97435897,  0.97435897,  1.        ,  0.97435897,\n",
       "         0.8974359 ,  0.84615385,  0.97435897,  0.97435897,  0.92307692,\n",
       "         0.97435897,  0.97435897,  0.94871795,  0.97435897,  0.8974359 ,\n",
       "         0.84615385,  0.48717949,  0.97435897,  0.92307692,  0.97435897,\n",
       "         0.97435897,  0.94871795,  0.97435897,  0.8974359 ,  0.61538462,\n",
       "         0.48717949,  0.97435897,  0.84615385,  0.97435897,  0.97435897,\n",
       "         0.87179487,  0.97435897]),\n",
       " 'split6_train_score': array([ 0.94459834,  0.85872576,  0.83102493,  0.97783934,  0.97229917,\n",
       "         0.97783934,  0.97506925,  0.9501385 ,  0.97783934,  0.94459834,\n",
       "         0.86426593,  0.83102493,  0.97783934,  0.9833795 ,  0.97783934,\n",
       "         0.97506925,  0.97783934,  0.97783934,  0.94459834,  0.86426593,\n",
       "         0.93628809,  0.97783934,  0.9833795 ,  0.97783934,  0.97506925,\n",
       "         0.97783934,  0.966759  ,  0.94459834,  0.93351801,  0.93628809,\n",
       "         0.97783934,  0.97783934,  0.97783934,  0.97506925,  0.966759  ,\n",
       "         0.966759  ,  0.94459834,  0.93351801,  0.97783934,  0.97783934,\n",
       "         0.97783934,  0.97783934,  0.97506925,  0.966759  ,  0.97783934,\n",
       "         0.94459834,  0.89473684,  0.97783934,  0.97783934,  0.96398892,\n",
       "         0.97783934,  0.97506925,  0.96398892,  0.97783934,  0.94459834,\n",
       "         0.89473684,  0.49030471,  0.97783934,  0.96398892,  0.97783934,\n",
       "         0.97506925,  0.96398892,  0.97783934,  0.94459834,  0.68144044,\n",
       "         0.49030471,  0.97783934,  0.87534626,  0.97783934,  0.97506925,\n",
       "         0.86426593,  0.97783934]),\n",
       " 'split7_test_score': array([ 0.94871795,  1.        ,  0.97435897,  1.        ,  0.92307692,\n",
       "         1.        ,  0.97435897,  0.97435897,  0.97435897,  0.94871795,\n",
       "         0.97435897,  0.97435897,  1.        ,  0.97435897,  1.        ,\n",
       "         0.97435897,  0.84615385,  0.97435897,  0.94871795,  0.97435897,\n",
       "         0.87179487,  1.        ,  0.97435897,  0.97435897,  0.97435897,\n",
       "         0.84615385,  1.        ,  0.94871795,  0.94871795,  0.87179487,\n",
       "         1.        ,  1.        ,  0.97435897,  0.97435897,  0.97435897,\n",
       "         1.        ,  0.94871795,  0.94871795,  0.74358974,  1.        ,\n",
       "         1.        ,  0.97435897,  0.97435897,  0.97435897,  0.97435897,\n",
       "         0.94871795,  0.94871795,  0.97435897,  1.        ,  0.97435897,\n",
       "         0.97435897,  0.97435897,  0.94871795,  0.97435897,  0.94871795,\n",
       "         0.94871795,  0.48717949,  1.        ,  0.97435897,  0.97435897,\n",
       "         0.97435897,  0.94871795,  0.97435897,  0.94871795,  0.87179487,\n",
       "         0.48717949,  1.        ,  0.94871795,  0.97435897,  0.97435897,\n",
       "         0.97435897,  0.97435897]),\n",
       " 'split7_train_score': array([ 0.93628809,  0.93351801,  0.91135734,  0.98060942,  0.93628809,\n",
       "         0.97229917,  0.95290859,  0.95844875,  0.97783934,  0.93628809,\n",
       "         0.91135734,  0.91135734,  0.98060942,  0.9833795 ,  0.97229917,\n",
       "         0.95290859,  0.87257618,  0.97783934,  0.93628809,  0.91135734,\n",
       "         0.78947368,  0.98060942,  0.9833795 ,  0.97783934,  0.95290859,\n",
       "         0.87257618,  0.96121884,  0.93628809,  0.93074792,  0.78947368,\n",
       "         0.98060942,  0.9833795 ,  0.97783934,  0.95290859,  0.96121884,\n",
       "         0.96121884,  0.93628809,  0.93074792,  0.73130194,  0.98060942,\n",
       "         0.9833795 ,  0.97783934,  0.95290859,  0.96121884,  0.97783934,\n",
       "         0.93628809,  0.83933518,  0.97783934,  0.98060942,  0.95844875,\n",
       "         0.97783934,  0.95290859,  0.93351801,  0.97783934,  0.93628809,\n",
       "         0.83933518,  0.49030471,  0.98060942,  0.95844875,  0.97783934,\n",
       "         0.95290859,  0.93351801,  0.97783934,  0.93628809,  0.72853186,\n",
       "         0.49030471,  0.98060942,  0.9501385 ,  0.97783934,  0.95290859,\n",
       "         0.96121884,  0.97783934]),\n",
       " 'split8_test_score': array([ 0.87179487,  0.97435897,  0.84615385,  0.8974359 ,  0.92307692,\n",
       "         0.92307692,  0.8974359 ,  0.92307692,  0.94871795,  0.87179487,\n",
       "         0.84615385,  0.84615385,  0.8974359 ,  0.94871795,  0.92307692,\n",
       "         0.8974359 ,  0.87179487,  0.94871795,  0.87179487,  0.84615385,\n",
       "         0.94871795,  0.8974359 ,  0.94871795,  0.94871795,  0.8974359 ,\n",
       "         0.87179487,  0.94871795,  0.87179487,  0.94871795,  0.94871795,\n",
       "         0.8974359 ,  0.92307692,  0.94871795,  0.8974359 ,  0.92307692,\n",
       "         0.94871795,  0.87179487,  0.94871795,  0.74358974,  0.8974359 ,\n",
       "         0.92307692,  0.94871795,  0.8974359 ,  0.92307692,  0.94871795,\n",
       "         0.87179487,  0.87179487,  0.74358974,  0.8974359 ,  0.94871795,\n",
       "         0.94871795,  0.8974359 ,  0.94871795,  0.94871795,  0.87179487,\n",
       "         0.87179487,  0.48717949,  0.8974359 ,  0.94871795,  0.94871795,\n",
       "         0.8974359 ,  0.94871795,  0.94871795,  0.87179487,  0.84615385,\n",
       "         0.48717949,  0.8974359 ,  0.92307692,  0.94871795,  0.8974359 ,\n",
       "         0.94871795,  0.94871795]),\n",
       " 'split8_train_score': array([ 0.95844875,  0.9501385 ,  0.89750693,  0.97783934,  0.96952909,\n",
       "         0.97783934,  0.966759  ,  0.95290859,  0.98060942,  0.95844875,\n",
       "         0.86980609,  0.89750693,  0.97783934,  0.97506925,  0.97783934,\n",
       "         0.966759  ,  0.91966759,  0.98060942,  0.95844875,  0.86980609,\n",
       "         0.93628809,  0.97783934,  0.97506925,  0.98060942,  0.966759  ,\n",
       "         0.91966759,  0.98060942,  0.95844875,  0.97783934,  0.93628809,\n",
       "         0.97783934,  0.98060942,  0.98060942,  0.966759  ,  0.96121884,\n",
       "         0.98060942,  0.95844875,  0.97783934,  0.76731302,  0.97783934,\n",
       "         0.98060942,  0.98060942,  0.966759  ,  0.96121884,  0.98060942,\n",
       "         0.95844875,  0.966759  ,  0.76731302,  0.97783934,  0.98060942,\n",
       "         0.98060942,  0.966759  ,  0.966759  ,  0.98060942,  0.95844875,\n",
       "         0.966759  ,  0.49030471,  0.97783934,  0.98060942,  0.98060942,\n",
       "         0.966759  ,  0.966759  ,  0.98060942,  0.95844875,  0.93905817,\n",
       "         0.49030471,  0.97783934,  0.98060942,  0.98060942,  0.966759  ,\n",
       "         0.98060942,  0.98060942]),\n",
       " 'split9_test_score': array([ 0.87179487,  0.92307692,  0.79487179,  0.92307692,  0.97435897,\n",
       "         0.97435897,  0.8974359 ,  0.8974359 ,  0.97435897,  0.87179487,\n",
       "         0.84615385,  0.79487179,  0.92307692,  0.92307692,  0.97435897,\n",
       "         0.8974359 ,  0.8974359 ,  0.97435897,  0.87179487,  0.84615385,\n",
       "         0.87179487,  0.92307692,  0.92307692,  0.94871795,  0.8974359 ,\n",
       "         0.8974359 ,  1.        ,  0.87179487,  0.82051282,  0.87179487,\n",
       "         0.92307692,  0.97435897,  0.94871795,  0.8974359 ,  1.        ,\n",
       "         1.        ,  0.87179487,  0.82051282,  0.8974359 ,  0.92307692,\n",
       "         0.97435897,  1.        ,  0.8974359 ,  1.        ,  1.        ,\n",
       "         0.87179487,  0.92307692,  0.71794872,  0.92307692,  1.        ,\n",
       "         0.94871795,  0.8974359 ,  0.87179487,  1.        ,  0.87179487,\n",
       "         0.92307692,  0.48717949,  0.92307692,  1.        ,  0.48717949,\n",
       "         0.8974359 ,  0.87179487,  1.        ,  0.87179487,  0.66666667,\n",
       "         0.48717949,  0.92307692,  0.97435897,  0.48717949,  0.8974359 ,\n",
       "         0.61538462,  1.        ]),\n",
       " 'split9_train_score': array([ 0.87534626,  0.89750693,  0.78947368,  0.95290859,  0.97229917,\n",
       "         0.94736842,  0.89196676,  0.88365651,  0.94736842,  0.87534626,\n",
       "         0.84487535,  0.78947368,  0.95290859,  0.93628809,  0.94736842,\n",
       "         0.89196676,  0.90027701,  0.94736842,  0.87534626,  0.84487535,\n",
       "         0.92243767,  0.95290859,  0.93628809,  0.94736842,  0.89196676,\n",
       "         0.90027701,  0.97506925,  0.87534626,  0.7867036 ,  0.92243767,\n",
       "         0.95290859,  0.97783934,  0.94736842,  0.89196676,  0.9501385 ,\n",
       "         0.97506925,  0.87534626,  0.7867036 ,  0.87534626,  0.95290859,\n",
       "         0.97783934,  0.96952909,  0.89196676,  0.9501385 ,  0.97506925,\n",
       "         0.87534626,  0.90304709,  0.7700831 ,  0.95290859,  0.95844875,\n",
       "         0.92797784,  0.89196676,  0.77562327,  0.97506925,  0.87534626,\n",
       "         0.90304709,  0.49030471,  0.95290859,  0.95844875,  0.49030471,\n",
       "         0.89196676,  0.77562327,  0.97506925,  0.87534626,  0.73684211,\n",
       "         0.49030471,  0.95290859,  0.97783934,  0.49030471,  0.89196676,\n",
       "         0.68421053,  0.97506925]),\n",
       " 'std_fit_time': array([ 0.03068086,  0.00033477,  0.00045286,  0.00035122,  0.00132108,\n",
       "         0.00070208,  0.00033731,  0.00048655,  0.00021362,  0.00035487,\n",
       "         0.00030402,  0.00042904,  0.00030986,  0.00031152,  0.00064626,\n",
       "         0.0001841 ,  0.00048262,  0.00064328,  0.000292  ,  0.00021217,\n",
       "         0.00041345,  0.00032933,  0.00022543,  0.00035326,  0.00036432,\n",
       "         0.00037847,  0.00038253,  0.00031673,  0.00028257,  0.00120037,\n",
       "         0.00035213,  0.00053525,  0.0003277 ,  0.00045707,  0.00040338,\n",
       "         0.00029796,  0.00019533,  0.00013294,  0.00030506,  0.00026677,\n",
       "         0.00047317,  0.00044332,  0.00063766,  0.00048164,  0.00059653,\n",
       "         0.0003096 ,  0.00030906,  0.00022809,  0.00027972,  0.00024878,\n",
       "         0.0001236 ,  0.00042584,  0.00118647,  0.00731466,  0.00038806,\n",
       "         0.00029355,  0.00035784,  0.00036107,  0.00038247,  0.0007284 ,\n",
       "         0.00040091,  0.00037275,  0.00041915,  0.00030302,  0.00012722,\n",
       "         0.00048258,  0.00018996,  0.00018055,  0.00061547,  0.00036314,\n",
       "         0.00036862,  0.00065339]),\n",
       " 'std_score_time': array([  2.91784217e-04,   9.20913821e-05,   8.21095068e-05,\n",
       "          1.66030946e-04,   1.46662033e-04,   1.06722838e-04,\n",
       "          8.21686588e-05,   6.60448254e-05,   7.37167152e-05,\n",
       "          5.87727476e-05,   4.80853097e-05,   1.18538795e-04,\n",
       "          1.44890570e-04,   1.01498990e-04,   1.12145594e-04,\n",
       "          4.97069518e-05,   1.01094653e-04,   8.45427037e-05,\n",
       "          1.37545579e-04,   6.47229116e-05,   2.21778680e-04,\n",
       "          1.78374177e-04,   1.39016793e-04,   1.07299868e-04,\n",
       "          1.14020751e-04,   1.07449347e-04,   1.05953270e-04,\n",
       "          6.69527638e-05,   8.95651372e-05,   1.08191619e-04,\n",
       "          1.26676492e-04,   1.18109881e-04,   1.44845401e-04,\n",
       "          9.30098624e-05,   8.72145330e-05,   1.43245216e-04,\n",
       "          1.06045454e-04,   7.00054114e-05,   1.09288320e-04,\n",
       "          1.52365731e-04,   6.12788115e-05,   8.90964967e-05,\n",
       "          1.81141863e-04,   9.04478644e-05,   5.07092274e-05,\n",
       "          1.45267335e-04,   8.22780271e-05,   7.28348273e-05,\n",
       "          4.23744943e-05,   9.73409686e-05,   4.87674174e-05,\n",
       "          1.49914486e-04,   1.61906167e-04,   1.05936047e-04,\n",
       "          1.66676144e-04,   6.78593894e-05,   1.72890345e-04,\n",
       "          8.31080795e-05,   9.81658092e-05,   9.63333094e-05,\n",
       "          6.12457793e-05,   1.00963341e-04,   1.11538697e-04,\n",
       "          6.49626755e-05,   3.52009833e-05,   1.04187089e-04,\n",
       "          8.84538744e-05,   5.48075985e-05,   1.15470979e-04,\n",
       "          7.08617921e-05,   5.70973871e-05,   1.30167383e-04]),\n",
       " 'std_test_score': array([ 0.05645376,  0.06205568,  0.08026596,  0.05155114,  0.05748912,\n",
       "         0.07003009,  0.04282949,  0.03505557,  0.07715362,  0.05645376,\n",
       "         0.06317509,  0.08026596,  0.05155114,  0.05268216,  0.07003009,\n",
       "         0.04282949,  0.03589237,  0.07715362,  0.05645376,  0.06317509,\n",
       "         0.04432719,  0.05155114,  0.05268216,  0.06862558,  0.04282949,\n",
       "         0.03589237,  0.09234422,  0.05645376,  0.04938624,  0.04432719,\n",
       "         0.05155114,  0.03595738,  0.06862558,  0.04282949,  0.05429724,\n",
       "         0.09234422,  0.05645376,  0.04938624,  0.09470854,  0.05155114,\n",
       "         0.03595738,  0.11776118,  0.04282949,  0.05429724,  0.1013725 ,\n",
       "         0.05645376,  0.04875266,  0.10039583,  0.05155114,  0.09551543,\n",
       "         0.11629843,  0.04282949,  0.04888229,  0.10584235,  0.05645376,\n",
       "         0.04875266,  0.18609494,  0.05155114,  0.09551543,  0.1464713 ,\n",
       "         0.04282949,  0.04888229,  0.14426648,  0.05645376,  0.1220208 ,\n",
       "         0.18609494,  0.05155114,  0.11303035,  0.1464713 ,  0.04282949,\n",
       "         0.14106345,  0.14426648]),\n",
       " 'std_train_score': array([ 0.02902082,  0.03670805,  0.06600348,  0.03971447,  0.04452889,\n",
       "         0.06760278,  0.04812887,  0.03729543,  0.06264556,  0.02902082,\n",
       "         0.04924593,  0.06600348,  0.03971447,  0.04764546,  0.06760278,\n",
       "         0.04812887,  0.03924218,  0.06264556,  0.02902082,  0.04924593,\n",
       "         0.05530908,  0.03971447,  0.04764546,  0.08019598,  0.04812887,\n",
       "         0.03924218,  0.08884746,  0.02902082,  0.05603035,  0.05530908,\n",
       "         0.03971447,  0.037551  ,  0.08019598,  0.04812887,  0.03814806,\n",
       "         0.08884746,  0.02902082,  0.05603035,  0.09163453,  0.03971447,\n",
       "         0.037551  ,  0.14076458,  0.04812887,  0.03814806,  0.08665813,\n",
       "         0.02902082,  0.04556214,  0.08352048,  0.03971447,  0.07427445,\n",
       "         0.13049638,  0.04812887,  0.06488735,  0.09617825,  0.02902082,\n",
       "         0.04556214,  0.19186209,  0.03971447,  0.07427445,  0.14626053,\n",
       "         0.04812887,  0.06488735,  0.14668739,  0.02902082,  0.11214249,\n",
       "         0.19186209,  0.03971447,  0.10143086,  0.14626053,  0.04812887,\n",
       "         0.11946212,  0.14668739])}"
      ]
     },
     "execution_count": 47,
     "metadata": {},
     "output_type": "execute_result"
    }
   ],
   "source": [
    "ppn_gsv.cv_results_"
   ]
  },
  {
   "cell_type": "code",
   "execution_count": 36,
   "metadata": {},
   "outputs": [
    {
     "name": "stdout",
     "output_type": "stream",
     "text": [
      "Accuracy: 0.96\n",
      "Number of mislabeled points: 4 of 100\n"
     ]
    }
   ],
   "source": [
    "print('Accuracy: {0}'.format(ppn_gsv.score(X_test, y_test)))\n",
    "y_pred = ppn_gsv.predict(X_test)\n",
    "print('Number of mislabeled points: {0} of {1}'.format((y_test!=y_pred).sum(), y_test.size))"
   ]
  },
  {
   "cell_type": "markdown",
   "metadata": {},
   "source": [
    "### LOGISTIC REGRESSION\n",
    "See [Logistic Regression](../../02 Classification/03 Logistic Regression.ipynb) explanation."
   ]
  },
  {
   "cell_type": "code",
   "execution_count": 40,
   "metadata": {},
   "outputs": [
    {
     "data": {
      "text/plain": [
       "GridSearchCV(cv=10, error_score='raise',\n",
       "       estimator=LogisticRegression(C=1.0, class_weight=None, dual=False, fit_intercept=True,\n",
       "          intercept_scaling=1, max_iter=100, multi_class='ovr', n_jobs=1,\n",
       "          penalty='l2', random_state=None, solver='liblinear', tol=0.0001,\n",
       "          verbose=0, warm_start=False),\n",
       "       fit_params={}, iid=True, n_jobs=1,\n",
       "       param_grid={'max_iter': [40, 60, 100, 500], 'tol': [0.0001, 0.001, 0.01], 'C': [0.0001, 0.001, 0.01, 0.1, 1, 10], 'penalty': ['l2', 'l1']},\n",
       "       pre_dispatch='2*n_jobs', refit=True, return_train_score=True,\n",
       "       scoring='accuracy', verbose=0)"
      ]
     },
     "execution_count": 40,
     "metadata": {},
     "output_type": "execute_result"
    }
   ],
   "source": [
    "from sklearn.linear_model import LogisticRegression\n",
    "\n",
    "parameters = {'max_iter': [40, 60, 100, 500],\n",
    "              'tol':[0.0001, 0.001, 0.01],\n",
    "              'penalty':['l2','l1'],\n",
    "              'C':[0.0001, 0.001, 0.01, 0.1, 1, 10]\n",
    "             }\n",
    "\n",
    "lr = LogisticRegression()\n",
    "lr_gsv = GridSearchCV(estimator=lr, \n",
    "                   param_grid=parameters, \n",
    "                   cv=10,\n",
    "                   scoring='accuracy')\n",
    "\n",
    "lr_gsv.fit(X_train, y_train)"
   ]
  },
  {
   "cell_type": "code",
   "execution_count": 41,
   "metadata": {},
   "outputs": [
    {
     "name": "stdout",
     "output_type": "stream",
     "text": [
      "Best parameters: {'max_iter': 40, 'tol': 0.0001, 'penalty': 'l2', 'C': 10}\n",
      "Best accuracy: 0.9825\n"
     ]
    }
   ],
   "source": [
    "print('Best parameters: {0}'.format(lr_gsv.best_params_))\n",
    "print('Best accuracy: {0}'.format(lr_gsv.best_score_))"
   ]
  },
  {
   "cell_type": "code",
   "execution_count": 42,
   "metadata": {},
   "outputs": [
    {
     "name": "stderr",
     "output_type": "stream",
     "text": [
      "/Volumes/MacintoshDATA/softdevelopmentbcn/miniconda2/envs/dspy3/lib/python3.5/site-packages/sklearn/model_selection/_search.py:667: DeprecationWarning: The grid_scores_ attribute was deprecated in version 0.18 in favor of the more elaborate cv_results_ attribute. The grid_scores_ attribute will not be available from 0.20\n",
      "  DeprecationWarning)\n"
     ]
    },
    {
     "data": {
      "text/plain": [
       "[mean: 0.97500, std: 0.02501, params: {'max_iter': 40, 'tol': 0.0001, 'penalty': 'l2', 'C': 0.0001},\n",
       " mean: 0.97500, std: 0.02501, params: {'max_iter': 40, 'tol': 0.001, 'penalty': 'l2', 'C': 0.0001},\n",
       " mean: 0.97500, std: 0.02501, params: {'max_iter': 40, 'tol': 0.01, 'penalty': 'l2', 'C': 0.0001},\n",
       " mean: 0.51000, std: 0.00501, params: {'max_iter': 40, 'tol': 0.0001, 'penalty': 'l1', 'C': 0.0001},\n",
       " mean: 0.51000, std: 0.00501, params: {'max_iter': 40, 'tol': 0.001, 'penalty': 'l1', 'C': 0.0001},\n",
       " mean: 0.51000, std: 0.00501, params: {'max_iter': 40, 'tol': 0.01, 'penalty': 'l1', 'C': 0.0001},\n",
       " mean: 0.97500, std: 0.02501, params: {'max_iter': 60, 'tol': 0.0001, 'penalty': 'l2', 'C': 0.0001},\n",
       " mean: 0.97500, std: 0.02501, params: {'max_iter': 60, 'tol': 0.001, 'penalty': 'l2', 'C': 0.0001},\n",
       " mean: 0.97500, std: 0.02501, params: {'max_iter': 60, 'tol': 0.01, 'penalty': 'l2', 'C': 0.0001},\n",
       " mean: 0.51000, std: 0.00501, params: {'max_iter': 60, 'tol': 0.0001, 'penalty': 'l1', 'C': 0.0001},\n",
       " mean: 0.51000, std: 0.00501, params: {'max_iter': 60, 'tol': 0.001, 'penalty': 'l1', 'C': 0.0001},\n",
       " mean: 0.51000, std: 0.00501, params: {'max_iter': 60, 'tol': 0.01, 'penalty': 'l1', 'C': 0.0001},\n",
       " mean: 0.97500, std: 0.02501, params: {'max_iter': 100, 'tol': 0.0001, 'penalty': 'l2', 'C': 0.0001},\n",
       " mean: 0.97500, std: 0.02501, params: {'max_iter': 100, 'tol': 0.001, 'penalty': 'l2', 'C': 0.0001},\n",
       " mean: 0.97500, std: 0.02501, params: {'max_iter': 100, 'tol': 0.01, 'penalty': 'l2', 'C': 0.0001},\n",
       " mean: 0.51000, std: 0.00501, params: {'max_iter': 100, 'tol': 0.0001, 'penalty': 'l1', 'C': 0.0001},\n",
       " mean: 0.51000, std: 0.00501, params: {'max_iter': 100, 'tol': 0.001, 'penalty': 'l1', 'C': 0.0001},\n",
       " mean: 0.51000, std: 0.00501, params: {'max_iter': 100, 'tol': 0.01, 'penalty': 'l1', 'C': 0.0001},\n",
       " mean: 0.97500, std: 0.02501, params: {'max_iter': 500, 'tol': 0.0001, 'penalty': 'l2', 'C': 0.0001},\n",
       " mean: 0.97500, std: 0.02501, params: {'max_iter': 500, 'tol': 0.001, 'penalty': 'l2', 'C': 0.0001},\n",
       " mean: 0.97500, std: 0.02501, params: {'max_iter': 500, 'tol': 0.01, 'penalty': 'l2', 'C': 0.0001},\n",
       " mean: 0.51000, std: 0.00501, params: {'max_iter': 500, 'tol': 0.0001, 'penalty': 'l1', 'C': 0.0001},\n",
       " mean: 0.51000, std: 0.00501, params: {'max_iter': 500, 'tol': 0.001, 'penalty': 'l1', 'C': 0.0001},\n",
       " mean: 0.51000, std: 0.00501, params: {'max_iter': 500, 'tol': 0.01, 'penalty': 'l1', 'C': 0.0001},\n",
       " mean: 0.97500, std: 0.02501, params: {'max_iter': 40, 'tol': 0.0001, 'penalty': 'l2', 'C': 0.001},\n",
       " mean: 0.97500, std: 0.02501, params: {'max_iter': 40, 'tol': 0.001, 'penalty': 'l2', 'C': 0.001},\n",
       " mean: 0.97500, std: 0.02501, params: {'max_iter': 40, 'tol': 0.01, 'penalty': 'l2', 'C': 0.001},\n",
       " mean: 0.51000, std: 0.00501, params: {'max_iter': 40, 'tol': 0.0001, 'penalty': 'l1', 'C': 0.001},\n",
       " mean: 0.51000, std: 0.00501, params: {'max_iter': 40, 'tol': 0.001, 'penalty': 'l1', 'C': 0.001},\n",
       " mean: 0.51000, std: 0.00501, params: {'max_iter': 40, 'tol': 0.01, 'penalty': 'l1', 'C': 0.001},\n",
       " mean: 0.97500, std: 0.02501, params: {'max_iter': 60, 'tol': 0.0001, 'penalty': 'l2', 'C': 0.001},\n",
       " mean: 0.97500, std: 0.02501, params: {'max_iter': 60, 'tol': 0.001, 'penalty': 'l2', 'C': 0.001},\n",
       " mean: 0.97500, std: 0.02501, params: {'max_iter': 60, 'tol': 0.01, 'penalty': 'l2', 'C': 0.001},\n",
       " mean: 0.51000, std: 0.00501, params: {'max_iter': 60, 'tol': 0.0001, 'penalty': 'l1', 'C': 0.001},\n",
       " mean: 0.51000, std: 0.00501, params: {'max_iter': 60, 'tol': 0.001, 'penalty': 'l1', 'C': 0.001},\n",
       " mean: 0.51000, std: 0.00501, params: {'max_iter': 60, 'tol': 0.01, 'penalty': 'l1', 'C': 0.001},\n",
       " mean: 0.97500, std: 0.02501, params: {'max_iter': 100, 'tol': 0.0001, 'penalty': 'l2', 'C': 0.001},\n",
       " mean: 0.97500, std: 0.02501, params: {'max_iter': 100, 'tol': 0.001, 'penalty': 'l2', 'C': 0.001},\n",
       " mean: 0.97500, std: 0.02501, params: {'max_iter': 100, 'tol': 0.01, 'penalty': 'l2', 'C': 0.001},\n",
       " mean: 0.51000, std: 0.00501, params: {'max_iter': 100, 'tol': 0.0001, 'penalty': 'l1', 'C': 0.001},\n",
       " mean: 0.51000, std: 0.00501, params: {'max_iter': 100, 'tol': 0.001, 'penalty': 'l1', 'C': 0.001},\n",
       " mean: 0.51000, std: 0.00501, params: {'max_iter': 100, 'tol': 0.01, 'penalty': 'l1', 'C': 0.001},\n",
       " mean: 0.97500, std: 0.02501, params: {'max_iter': 500, 'tol': 0.0001, 'penalty': 'l2', 'C': 0.001},\n",
       " mean: 0.97500, std: 0.02501, params: {'max_iter': 500, 'tol': 0.001, 'penalty': 'l2', 'C': 0.001},\n",
       " mean: 0.97500, std: 0.02501, params: {'max_iter': 500, 'tol': 0.01, 'penalty': 'l2', 'C': 0.001},\n",
       " mean: 0.51000, std: 0.00501, params: {'max_iter': 500, 'tol': 0.0001, 'penalty': 'l1', 'C': 0.001},\n",
       " mean: 0.51000, std: 0.00501, params: {'max_iter': 500, 'tol': 0.001, 'penalty': 'l1', 'C': 0.001},\n",
       " mean: 0.51000, std: 0.00501, params: {'max_iter': 500, 'tol': 0.01, 'penalty': 'l1', 'C': 0.001},\n",
       " mean: 0.97750, std: 0.02374, params: {'max_iter': 40, 'tol': 0.0001, 'penalty': 'l2', 'C': 0.01},\n",
       " mean: 0.97750, std: 0.02374, params: {'max_iter': 40, 'tol': 0.001, 'penalty': 'l2', 'C': 0.01},\n",
       " mean: 0.97750, std: 0.02374, params: {'max_iter': 40, 'tol': 0.01, 'penalty': 'l2', 'C': 0.01},\n",
       " mean: 0.97750, std: 0.02374, params: {'max_iter': 40, 'tol': 0.0001, 'penalty': 'l1', 'C': 0.01},\n",
       " mean: 0.97750, std: 0.02374, params: {'max_iter': 40, 'tol': 0.001, 'penalty': 'l1', 'C': 0.01},\n",
       " mean: 0.97750, std: 0.02374, params: {'max_iter': 40, 'tol': 0.01, 'penalty': 'l1', 'C': 0.01},\n",
       " mean: 0.97750, std: 0.02374, params: {'max_iter': 60, 'tol': 0.0001, 'penalty': 'l2', 'C': 0.01},\n",
       " mean: 0.97750, std: 0.02374, params: {'max_iter': 60, 'tol': 0.001, 'penalty': 'l2', 'C': 0.01},\n",
       " mean: 0.97750, std: 0.02374, params: {'max_iter': 60, 'tol': 0.01, 'penalty': 'l2', 'C': 0.01},\n",
       " mean: 0.97750, std: 0.02374, params: {'max_iter': 60, 'tol': 0.0001, 'penalty': 'l1', 'C': 0.01},\n",
       " mean: 0.97750, std: 0.02374, params: {'max_iter': 60, 'tol': 0.001, 'penalty': 'l1', 'C': 0.01},\n",
       " mean: 0.97750, std: 0.02374, params: {'max_iter': 60, 'tol': 0.01, 'penalty': 'l1', 'C': 0.01},\n",
       " mean: 0.97750, std: 0.02374, params: {'max_iter': 100, 'tol': 0.0001, 'penalty': 'l2', 'C': 0.01},\n",
       " mean: 0.97750, std: 0.02374, params: {'max_iter': 100, 'tol': 0.001, 'penalty': 'l2', 'C': 0.01},\n",
       " mean: 0.97750, std: 0.02374, params: {'max_iter': 100, 'tol': 0.01, 'penalty': 'l2', 'C': 0.01},\n",
       " mean: 0.97750, std: 0.02374, params: {'max_iter': 100, 'tol': 0.0001, 'penalty': 'l1', 'C': 0.01},\n",
       " mean: 0.97750, std: 0.02374, params: {'max_iter': 100, 'tol': 0.001, 'penalty': 'l1', 'C': 0.01},\n",
       " mean: 0.97750, std: 0.02374, params: {'max_iter': 100, 'tol': 0.01, 'penalty': 'l1', 'C': 0.01},\n",
       " mean: 0.97750, std: 0.02374, params: {'max_iter': 500, 'tol': 0.0001, 'penalty': 'l2', 'C': 0.01},\n",
       " mean: 0.97750, std: 0.02374, params: {'max_iter': 500, 'tol': 0.001, 'penalty': 'l2', 'C': 0.01},\n",
       " mean: 0.97750, std: 0.02374, params: {'max_iter': 500, 'tol': 0.01, 'penalty': 'l2', 'C': 0.01},\n",
       " mean: 0.97750, std: 0.02374, params: {'max_iter': 500, 'tol': 0.0001, 'penalty': 'l1', 'C': 0.01},\n",
       " mean: 0.97750, std: 0.02374, params: {'max_iter': 500, 'tol': 0.001, 'penalty': 'l1', 'C': 0.01},\n",
       " mean: 0.97750, std: 0.02374, params: {'max_iter': 500, 'tol': 0.01, 'penalty': 'l1', 'C': 0.01},\n",
       " mean: 0.97750, std: 0.02374, params: {'max_iter': 40, 'tol': 0.0001, 'penalty': 'l2', 'C': 0.1},\n",
       " mean: 0.97750, std: 0.02374, params: {'max_iter': 40, 'tol': 0.001, 'penalty': 'l2', 'C': 0.1},\n",
       " mean: 0.97750, std: 0.02374, params: {'max_iter': 40, 'tol': 0.01, 'penalty': 'l2', 'C': 0.1},\n",
       " mean: 0.97750, std: 0.02374, params: {'max_iter': 40, 'tol': 0.0001, 'penalty': 'l1', 'C': 0.1},\n",
       " mean: 0.97750, std: 0.02374, params: {'max_iter': 40, 'tol': 0.001, 'penalty': 'l1', 'C': 0.1},\n",
       " mean: 0.97750, std: 0.02374, params: {'max_iter': 40, 'tol': 0.01, 'penalty': 'l1', 'C': 0.1},\n",
       " mean: 0.97750, std: 0.02374, params: {'max_iter': 60, 'tol': 0.0001, 'penalty': 'l2', 'C': 0.1},\n",
       " mean: 0.97750, std: 0.02374, params: {'max_iter': 60, 'tol': 0.001, 'penalty': 'l2', 'C': 0.1},\n",
       " mean: 0.97750, std: 0.02374, params: {'max_iter': 60, 'tol': 0.01, 'penalty': 'l2', 'C': 0.1},\n",
       " mean: 0.97750, std: 0.02374, params: {'max_iter': 60, 'tol': 0.0001, 'penalty': 'l1', 'C': 0.1},\n",
       " mean: 0.97750, std: 0.02374, params: {'max_iter': 60, 'tol': 0.001, 'penalty': 'l1', 'C': 0.1},\n",
       " mean: 0.97750, std: 0.02374, params: {'max_iter': 60, 'tol': 0.01, 'penalty': 'l1', 'C': 0.1},\n",
       " mean: 0.97750, std: 0.02374, params: {'max_iter': 100, 'tol': 0.0001, 'penalty': 'l2', 'C': 0.1},\n",
       " mean: 0.97750, std: 0.02374, params: {'max_iter': 100, 'tol': 0.001, 'penalty': 'l2', 'C': 0.1},\n",
       " mean: 0.97750, std: 0.02374, params: {'max_iter': 100, 'tol': 0.01, 'penalty': 'l2', 'C': 0.1},\n",
       " mean: 0.97750, std: 0.02374, params: {'max_iter': 100, 'tol': 0.0001, 'penalty': 'l1', 'C': 0.1},\n",
       " mean: 0.97750, std: 0.02374, params: {'max_iter': 100, 'tol': 0.001, 'penalty': 'l1', 'C': 0.1},\n",
       " mean: 0.97750, std: 0.02374, params: {'max_iter': 100, 'tol': 0.01, 'penalty': 'l1', 'C': 0.1},\n",
       " mean: 0.97750, std: 0.02374, params: {'max_iter': 500, 'tol': 0.0001, 'penalty': 'l2', 'C': 0.1},\n",
       " mean: 0.97750, std: 0.02374, params: {'max_iter': 500, 'tol': 0.001, 'penalty': 'l2', 'C': 0.1},\n",
       " mean: 0.97750, std: 0.02374, params: {'max_iter': 500, 'tol': 0.01, 'penalty': 'l2', 'C': 0.1},\n",
       " mean: 0.97750, std: 0.02374, params: {'max_iter': 500, 'tol': 0.0001, 'penalty': 'l1', 'C': 0.1},\n",
       " mean: 0.97750, std: 0.02374, params: {'max_iter': 500, 'tol': 0.001, 'penalty': 'l1', 'C': 0.1},\n",
       " mean: 0.97750, std: 0.02374, params: {'max_iter': 500, 'tol': 0.01, 'penalty': 'l1', 'C': 0.1},\n",
       " mean: 0.97750, std: 0.02374, params: {'max_iter': 40, 'tol': 0.0001, 'penalty': 'l2', 'C': 1},\n",
       " mean: 0.97750, std: 0.02374, params: {'max_iter': 40, 'tol': 0.001, 'penalty': 'l2', 'C': 1},\n",
       " mean: 0.97750, std: 0.02374, params: {'max_iter': 40, 'tol': 0.01, 'penalty': 'l2', 'C': 1},\n",
       " mean: 0.97750, std: 0.02374, params: {'max_iter': 40, 'tol': 0.0001, 'penalty': 'l1', 'C': 1},\n",
       " mean: 0.97750, std: 0.02374, params: {'max_iter': 40, 'tol': 0.001, 'penalty': 'l1', 'C': 1},\n",
       " mean: 0.97750, std: 0.02374, params: {'max_iter': 40, 'tol': 0.01, 'penalty': 'l1', 'C': 1},\n",
       " mean: 0.97750, std: 0.02374, params: {'max_iter': 60, 'tol': 0.0001, 'penalty': 'l2', 'C': 1},\n",
       " mean: 0.97750, std: 0.02374, params: {'max_iter': 60, 'tol': 0.001, 'penalty': 'l2', 'C': 1},\n",
       " mean: 0.97750, std: 0.02374, params: {'max_iter': 60, 'tol': 0.01, 'penalty': 'l2', 'C': 1},\n",
       " mean: 0.97750, std: 0.02374, params: {'max_iter': 60, 'tol': 0.0001, 'penalty': 'l1', 'C': 1},\n",
       " mean: 0.97750, std: 0.02374, params: {'max_iter': 60, 'tol': 0.001, 'penalty': 'l1', 'C': 1},\n",
       " mean: 0.97750, std: 0.02374, params: {'max_iter': 60, 'tol': 0.01, 'penalty': 'l1', 'C': 1},\n",
       " mean: 0.97750, std: 0.02374, params: {'max_iter': 100, 'tol': 0.0001, 'penalty': 'l2', 'C': 1},\n",
       " mean: 0.97750, std: 0.02374, params: {'max_iter': 100, 'tol': 0.001, 'penalty': 'l2', 'C': 1},\n",
       " mean: 0.97750, std: 0.02374, params: {'max_iter': 100, 'tol': 0.01, 'penalty': 'l2', 'C': 1},\n",
       " mean: 0.97750, std: 0.02374, params: {'max_iter': 100, 'tol': 0.0001, 'penalty': 'l1', 'C': 1},\n",
       " mean: 0.97750, std: 0.02374, params: {'max_iter': 100, 'tol': 0.001, 'penalty': 'l1', 'C': 1},\n",
       " mean: 0.97750, std: 0.02374, params: {'max_iter': 100, 'tol': 0.01, 'penalty': 'l1', 'C': 1},\n",
       " mean: 0.97750, std: 0.02374, params: {'max_iter': 500, 'tol': 0.0001, 'penalty': 'l2', 'C': 1},\n",
       " mean: 0.97750, std: 0.02374, params: {'max_iter': 500, 'tol': 0.001, 'penalty': 'l2', 'C': 1},\n",
       " mean: 0.97750, std: 0.02374, params: {'max_iter': 500, 'tol': 0.01, 'penalty': 'l2', 'C': 1},\n",
       " mean: 0.97750, std: 0.02374, params: {'max_iter': 500, 'tol': 0.0001, 'penalty': 'l1', 'C': 1},\n",
       " mean: 0.97750, std: 0.02374, params: {'max_iter': 500, 'tol': 0.001, 'penalty': 'l1', 'C': 1},\n",
       " mean: 0.97750, std: 0.02374, params: {'max_iter': 500, 'tol': 0.01, 'penalty': 'l1', 'C': 1},\n",
       " mean: 0.98250, std: 0.01972, params: {'max_iter': 40, 'tol': 0.0001, 'penalty': 'l2', 'C': 10},\n",
       " mean: 0.98250, std: 0.01972, params: {'max_iter': 40, 'tol': 0.001, 'penalty': 'l2', 'C': 10},\n",
       " mean: 0.98000, std: 0.02465, params: {'max_iter': 40, 'tol': 0.01, 'penalty': 'l2', 'C': 10},\n",
       " mean: 0.98000, std: 0.02465, params: {'max_iter': 40, 'tol': 0.0001, 'penalty': 'l1', 'C': 10},\n",
       " mean: 0.98000, std: 0.02465, params: {'max_iter': 40, 'tol': 0.001, 'penalty': 'l1', 'C': 10},\n",
       " mean: 0.98250, std: 0.01972, params: {'max_iter': 40, 'tol': 0.01, 'penalty': 'l1', 'C': 10},\n",
       " mean: 0.98250, std: 0.01972, params: {'max_iter': 60, 'tol': 0.0001, 'penalty': 'l2', 'C': 10},\n",
       " mean: 0.98250, std: 0.01972, params: {'max_iter': 60, 'tol': 0.001, 'penalty': 'l2', 'C': 10},\n",
       " mean: 0.98000, std: 0.02465, params: {'max_iter': 60, 'tol': 0.01, 'penalty': 'l2', 'C': 10},\n",
       " mean: 0.98000, std: 0.02465, params: {'max_iter': 60, 'tol': 0.0001, 'penalty': 'l1', 'C': 10},\n",
       " mean: 0.98000, std: 0.02465, params: {'max_iter': 60, 'tol': 0.001, 'penalty': 'l1', 'C': 10},\n",
       " mean: 0.98250, std: 0.01972, params: {'max_iter': 60, 'tol': 0.01, 'penalty': 'l1', 'C': 10},\n",
       " mean: 0.98250, std: 0.01972, params: {'max_iter': 100, 'tol': 0.0001, 'penalty': 'l2', 'C': 10},\n",
       " mean: 0.98250, std: 0.01972, params: {'max_iter': 100, 'tol': 0.001, 'penalty': 'l2', 'C': 10},\n",
       " mean: 0.98000, std: 0.02465, params: {'max_iter': 100, 'tol': 0.01, 'penalty': 'l2', 'C': 10},\n",
       " mean: 0.98000, std: 0.02465, params: {'max_iter': 100, 'tol': 0.0001, 'penalty': 'l1', 'C': 10},\n",
       " mean: 0.98000, std: 0.02465, params: {'max_iter': 100, 'tol': 0.001, 'penalty': 'l1', 'C': 10},\n",
       " mean: 0.98250, std: 0.01972, params: {'max_iter': 100, 'tol': 0.01, 'penalty': 'l1', 'C': 10},\n",
       " mean: 0.98250, std: 0.01972, params: {'max_iter': 500, 'tol': 0.0001, 'penalty': 'l2', 'C': 10},\n",
       " mean: 0.98250, std: 0.01972, params: {'max_iter': 500, 'tol': 0.001, 'penalty': 'l2', 'C': 10},\n",
       " mean: 0.98000, std: 0.02465, params: {'max_iter': 500, 'tol': 0.01, 'penalty': 'l2', 'C': 10},\n",
       " mean: 0.98000, std: 0.02465, params: {'max_iter': 500, 'tol': 0.0001, 'penalty': 'l1', 'C': 10},\n",
       " mean: 0.98250, std: 0.01972, params: {'max_iter': 500, 'tol': 0.001, 'penalty': 'l1', 'C': 10},\n",
       " mean: 0.98250, std: 0.01972, params: {'max_iter': 500, 'tol': 0.01, 'penalty': 'l1', 'C': 10}]"
      ]
     },
     "execution_count": 42,
     "metadata": {},
     "output_type": "execute_result"
    }
   ],
   "source": [
    "lr_gsv.grid_scores_"
   ]
  },
  {
   "cell_type": "code",
   "execution_count": 43,
   "metadata": {},
   "outputs": [
    {
     "name": "stdout",
     "output_type": "stream",
     "text": [
      "Accuracy: 0.96\n",
      "Number of mislabeled points: 4 of 100\n"
     ]
    }
   ],
   "source": [
    "print('Accuracy: {0}'.format(lr_gsv.score(X_test, y_test)))\n",
    "y_pred = lr_gsv.predict(X_test)\n",
    "print('Number of mislabeled points: {0} of {1}'.format((y_test!=y_pred).sum(), y_test.size))"
   ]
  },
  {
   "cell_type": "code",
   "execution_count": null,
   "metadata": {
    "collapsed": true
   },
   "outputs": [],
   "source": []
  }
 ],
 "metadata": {
  "anaconda-cloud": {},
  "kernelspec": {
   "display_name": "Python [conda env:dspy3]",
   "language": "python",
   "name": "conda-env-dspy3-py"
  },
  "language_info": {
   "codemirror_mode": {
    "name": "ipython",
    "version": 3
   },
   "file_extension": ".py",
   "mimetype": "text/x-python",
   "name": "python",
   "nbconvert_exporter": "python",
   "pygments_lexer": "ipython3",
   "version": "3.5.3"
  }
 },
 "nbformat": 4,
 "nbformat_minor": 2
}
