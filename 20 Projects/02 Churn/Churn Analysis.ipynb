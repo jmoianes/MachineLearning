{
 "cells": [
  {
   "cell_type": "markdown",
   "metadata": {},
   "source": [
    "# Churn - Classification Analysis"
   ]
  },
  {
   "cell_type": "markdown",
   "metadata": {},
   "source": [
    "## Overview"
   ]
  },
  {
   "cell_type": "markdown",
   "metadata": {},
   "source": [
    "- [Description](#Description)  \n",
    "- [Data Description](#Data-Description)"
   ]
  },
  {
   "cell_type": "markdown",
   "metadata": {},
   "source": [
    "## Description\n",
    "\n",
    "Our objective is to predict user actions on our ecommerce site. Examples of direct monetary impact by user actions are:\n",
    "- Predict bounce (see [Bounce rate](https://en.wikipedia.org/wiki/Bounce_rate)) - we can show them a pop up and prompt them to convert or do some action other than leaving your site.\n",
    "- Discover which areas of the site are weak.\n",
    "- Detect user-friendliness in some platforms (example mobile platform).\n",
    "- Make data-driven decisions.\n",
    "- Improve user experience."
   ]
  },
  {
   "cell_type": "markdown",
   "metadata": {},
   "source": [
    "## Data Description\n",
    "\n",
    "Columns:\n",
    "- **is_mobile** (0/1). Binary feature\n",
    "- **n_products_viewed** (int >=0). Numerical feature\n",
    "- **visit_duration** (real >=0). Numerical feature\n",
    "- **is_returning_visitor** (0/1). Binary feature\n",
    "- **time_of_day** (0/1/2/3 = 24h split into 4 categories). Categorical feature\n",
    "- **user_action** (bounce / add_to_cart / begin_checkout / finish_checkout). Target\n",
    "    - bounce (0): the user just left your site\n",
    "    - add_to_cart (1): the user added to their card but did not begin the checkout process\n",
    "    - begin_checkout (2): the user started the checkout process but never completed it\n",
    "    - finish_checkout (3): the user paid and we have a successful order"
   ]
  },
  {
   "cell_type": "code",
   "execution_count": 1,
   "metadata": {},
   "outputs": [],
   "source": [
    "import numpy as np\n",
    "import pandas as pd\n",
    "\n",
    "df = pd.read_csv('data/churn.csv')"
   ]
  },
  {
   "cell_type": "code",
   "execution_count": 2,
   "metadata": {},
   "outputs": [
    {
     "data": {
      "text/html": [
       "<div>\n",
       "<table border=\"1\" class=\"dataframe\">\n",
       "  <thead>\n",
       "    <tr style=\"text-align: right;\">\n",
       "      <th></th>\n",
       "      <th>is_mobile</th>\n",
       "      <th>n_products_viewed</th>\n",
       "      <th>visit_duration</th>\n",
       "      <th>is_returning_visitor</th>\n",
       "      <th>time_of_day</th>\n",
       "      <th>user_action</th>\n",
       "    </tr>\n",
       "  </thead>\n",
       "  <tbody>\n",
       "    <tr>\n",
       "      <th>0</th>\n",
       "      <td>1</td>\n",
       "      <td>0</td>\n",
       "      <td>0.657510</td>\n",
       "      <td>0</td>\n",
       "      <td>3</td>\n",
       "      <td>0</td>\n",
       "    </tr>\n",
       "    <tr>\n",
       "      <th>1</th>\n",
       "      <td>1</td>\n",
       "      <td>1</td>\n",
       "      <td>0.568571</td>\n",
       "      <td>0</td>\n",
       "      <td>2</td>\n",
       "      <td>1</td>\n",
       "    </tr>\n",
       "    <tr>\n",
       "      <th>2</th>\n",
       "      <td>1</td>\n",
       "      <td>0</td>\n",
       "      <td>0.042246</td>\n",
       "      <td>1</td>\n",
       "      <td>1</td>\n",
       "      <td>0</td>\n",
       "    </tr>\n",
       "    <tr>\n",
       "      <th>3</th>\n",
       "      <td>1</td>\n",
       "      <td>1</td>\n",
       "      <td>1.659793</td>\n",
       "      <td>1</td>\n",
       "      <td>1</td>\n",
       "      <td>2</td>\n",
       "    </tr>\n",
       "    <tr>\n",
       "      <th>4</th>\n",
       "      <td>0</td>\n",
       "      <td>1</td>\n",
       "      <td>2.014745</td>\n",
       "      <td>1</td>\n",
       "      <td>1</td>\n",
       "      <td>2</td>\n",
       "    </tr>\n",
       "  </tbody>\n",
       "</table>\n",
       "</div>"
      ],
      "text/plain": [
       "   is_mobile  n_products_viewed  visit_duration  is_returning_visitor  \\\n",
       "0          1                  0        0.657510                     0   \n",
       "1          1                  1        0.568571                     0   \n",
       "2          1                  0        0.042246                     1   \n",
       "3          1                  1        1.659793                     1   \n",
       "4          0                  1        2.014745                     1   \n",
       "\n",
       "   time_of_day  user_action  \n",
       "0            3            0  \n",
       "1            2            1  \n",
       "2            1            0  \n",
       "3            1            2  \n",
       "4            1            2  "
      ]
     },
     "execution_count": 2,
     "metadata": {},
     "output_type": "execute_result"
    }
   ],
   "source": [
    "df.head()"
   ]
  },
  {
   "cell_type": "code",
   "execution_count": 3,
   "metadata": {},
   "outputs": [
    {
     "data": {
      "text/plain": [
       "is_mobile                 int64\n",
       "n_products_viewed         int64\n",
       "visit_duration          float64\n",
       "is_returning_visitor      int64\n",
       "time_of_day               int64\n",
       "user_action               int64\n",
       "dtype: object"
      ]
     },
     "execution_count": 3,
     "metadata": {},
     "output_type": "execute_result"
    }
   ],
   "source": [
    "df.dtypes"
   ]
  },
  {
   "cell_type": "markdown",
   "metadata": {},
   "source": [
    "## Data Preparation\n",
    "\n",
    "- Checking Missing Data (see [Missing Data](../../00 Data Preparation/01_Missing Data.ipynb))\n",
    "- Feature scaling (see [Feature Scaling](../../00 Data Preparation/03_Feature_Scaling.ipynb))(necessary for some classification algorithms)\n",
    "- One-hot-encoding for categorical data (see [Categorical Data](../../00 Data Preparation/02_Categorical Data.ipynb))"
   ]
  },
  {
   "cell_type": "code",
   "execution_count": 4,
   "metadata": {},
   "outputs": [
    {
     "data": {
      "text/html": [
       "<div>\n",
       "<table border=\"1\" class=\"dataframe\">\n",
       "  <thead>\n",
       "    <tr style=\"text-align: right;\">\n",
       "      <th></th>\n",
       "      <th>is_mobile</th>\n",
       "      <th>n_products_viewed</th>\n",
       "      <th>visit_duration</th>\n",
       "      <th>is_returning_visitor</th>\n",
       "      <th>time_of_day</th>\n",
       "      <th>user_action</th>\n",
       "    </tr>\n",
       "  </thead>\n",
       "  <tbody>\n",
       "    <tr>\n",
       "      <th>count</th>\n",
       "      <td>500.000000</td>\n",
       "      <td>500.000000</td>\n",
       "      <td>500.000000</td>\n",
       "      <td>500.000000</td>\n",
       "      <td>500.000000</td>\n",
       "      <td>500.00000</td>\n",
       "    </tr>\n",
       "    <tr>\n",
       "      <th>mean</th>\n",
       "      <td>0.486000</td>\n",
       "      <td>0.854000</td>\n",
       "      <td>1.055880</td>\n",
       "      <td>0.518000</td>\n",
       "      <td>1.588000</td>\n",
       "      <td>0.74800</td>\n",
       "    </tr>\n",
       "    <tr>\n",
       "      <th>std</th>\n",
       "      <td>0.500305</td>\n",
       "      <td>1.046362</td>\n",
       "      <td>0.976711</td>\n",
       "      <td>0.500176</td>\n",
       "      <td>1.121057</td>\n",
       "      <td>0.89336</td>\n",
       "    </tr>\n",
       "    <tr>\n",
       "      <th>min</th>\n",
       "      <td>0.000000</td>\n",
       "      <td>0.000000</td>\n",
       "      <td>0.000141</td>\n",
       "      <td>0.000000</td>\n",
       "      <td>0.000000</td>\n",
       "      <td>0.00000</td>\n",
       "    </tr>\n",
       "    <tr>\n",
       "      <th>25%</th>\n",
       "      <td>0.000000</td>\n",
       "      <td>0.000000</td>\n",
       "      <td>0.328550</td>\n",
       "      <td>0.000000</td>\n",
       "      <td>1.000000</td>\n",
       "      <td>0.00000</td>\n",
       "    </tr>\n",
       "    <tr>\n",
       "      <th>50%</th>\n",
       "      <td>0.000000</td>\n",
       "      <td>1.000000</td>\n",
       "      <td>0.804717</td>\n",
       "      <td>1.000000</td>\n",
       "      <td>2.000000</td>\n",
       "      <td>0.00000</td>\n",
       "    </tr>\n",
       "    <tr>\n",
       "      <th>75%</th>\n",
       "      <td>1.000000</td>\n",
       "      <td>1.000000</td>\n",
       "      <td>1.499518</td>\n",
       "      <td>1.000000</td>\n",
       "      <td>3.000000</td>\n",
       "      <td>1.00000</td>\n",
       "    </tr>\n",
       "    <tr>\n",
       "      <th>max</th>\n",
       "      <td>1.000000</td>\n",
       "      <td>4.000000</td>\n",
       "      <td>6.368775</td>\n",
       "      <td>1.000000</td>\n",
       "      <td>3.000000</td>\n",
       "      <td>3.00000</td>\n",
       "    </tr>\n",
       "  </tbody>\n",
       "</table>\n",
       "</div>"
      ],
      "text/plain": [
       "        is_mobile  n_products_viewed  visit_duration  is_returning_visitor  \\\n",
       "count  500.000000         500.000000      500.000000            500.000000   \n",
       "mean     0.486000           0.854000        1.055880              0.518000   \n",
       "std      0.500305           1.046362        0.976711              0.500176   \n",
       "min      0.000000           0.000000        0.000141              0.000000   \n",
       "25%      0.000000           0.000000        0.328550              0.000000   \n",
       "50%      0.000000           1.000000        0.804717              1.000000   \n",
       "75%      1.000000           1.000000        1.499518              1.000000   \n",
       "max      1.000000           4.000000        6.368775              1.000000   \n",
       "\n",
       "       time_of_day  user_action  \n",
       "count   500.000000    500.00000  \n",
       "mean      1.588000      0.74800  \n",
       "std       1.121057      0.89336  \n",
       "min       0.000000      0.00000  \n",
       "25%       1.000000      0.00000  \n",
       "50%       2.000000      0.00000  \n",
       "75%       3.000000      1.00000  \n",
       "max       3.000000      3.00000  "
      ]
     },
     "execution_count": 4,
     "metadata": {},
     "output_type": "execute_result"
    }
   ],
   "source": [
    "df.describe()"
   ]
  },
  {
   "cell_type": "code",
   "execution_count": 5,
   "metadata": {},
   "outputs": [
    {
     "data": {
      "text/plain": [
       "is_mobile               0\n",
       "n_products_viewed       0\n",
       "visit_duration          0\n",
       "is_returning_visitor    0\n",
       "time_of_day             0\n",
       "user_action             0\n",
       "dtype: int64"
      ]
     },
     "execution_count": 5,
     "metadata": {},
     "output_type": "execute_result"
    }
   ],
   "source": [
    "df.isnull().sum()"
   ]
  },
  {
   "cell_type": "code",
   "execution_count": 6,
   "metadata": {},
   "outputs": [
    {
     "name": "stdout",
     "output_type": "stream",
     "text": [
      "is_mobile\n",
      "----------------\n",
      "0    257\n",
      "1    243\n",
      "Name: is_mobile, dtype: int64\n",
      "\n",
      "\n",
      "n_products_viewed\n",
      "----------------\n",
      "0    240\n",
      "1    153\n",
      "2     62\n",
      "3     30\n",
      "4     15\n",
      "Name: n_products_viewed, dtype: int64\n",
      "\n",
      "\n",
      "visit_duration\n",
      "----------------\n",
      "3.211422    1\n",
      "0.720206    1\n",
      "0.272298    1\n",
      "1.387943    1\n",
      "3.369352    1\n",
      "0.465946    1\n",
      "1.724702    1\n",
      "0.851933    1\n",
      "3.806308    1\n",
      "0.597065    1\n",
      "0.454992    1\n",
      "0.707463    1\n",
      "0.308415    1\n",
      "0.350968    1\n",
      "0.143695    1\n",
      "0.355265    1\n",
      "1.480493    1\n",
      "0.091978    1\n",
      "0.479018    1\n",
      "1.112894    1\n",
      "2.046040    1\n",
      "0.728014    1\n",
      "0.878761    1\n",
      "0.564505    1\n",
      "1.075602    1\n",
      "0.076742    1\n",
      "0.359318    1\n",
      "2.378410    1\n",
      "0.032269    1\n",
      "0.571083    1\n",
      "           ..\n",
      "1.113962    1\n",
      "1.176730    1\n",
      "6.089099    1\n",
      "2.013423    1\n",
      "0.166900    1\n",
      "1.678533    1\n",
      "1.457982    1\n",
      "0.572542    1\n",
      "0.984629    1\n",
      "0.018690    1\n",
      "0.866789    1\n",
      "1.509405    1\n",
      "0.329477    1\n",
      "0.603154    1\n",
      "0.424030    1\n",
      "0.046689    1\n",
      "0.303757    1\n",
      "0.569088    1\n",
      "3.428653    1\n",
      "0.573198    1\n",
      "0.652474    1\n",
      "2.266245    1\n",
      "1.664271    1\n",
      "1.391700    1\n",
      "3.602783    1\n",
      "1.420571    1\n",
      "0.775653    1\n",
      "1.388480    1\n",
      "0.059218    1\n",
      "0.647095    1\n",
      "Name: visit_duration, dtype: int64\n",
      "\n",
      "\n",
      "is_returning_visitor\n",
      "----------------\n",
      "1    259\n",
      "0    241\n",
      "Name: is_returning_visitor, dtype: int64\n",
      "\n",
      "\n",
      "time_of_day\n",
      "----------------\n",
      "3    140\n",
      "2    127\n",
      "1    120\n",
      "0    113\n",
      "Name: time_of_day, dtype: int64\n",
      "\n",
      "\n",
      "user_action\n",
      "----------------\n",
      "0    253\n",
      "1    145\n",
      "2     77\n",
      "3     25\n",
      "Name: user_action, dtype: int64\n",
      "\n",
      "\n"
     ]
    }
   ],
   "source": [
    "for column in df.columns:\n",
    "    print(column)\n",
    "    print('----------------')\n",
    "    print(df[column].value_counts())\n",
    "    print('\\n')"
   ]
  },
  {
   "cell_type": "code",
   "execution_count": 7,
   "metadata": {},
   "outputs": [],
   "source": [
    "y = df[['user_action']]\n",
    "X = df.drop(labels=['user_action'], axis=1)"
   ]
  },
  {
   "cell_type": "code",
   "execution_count": 8,
   "metadata": {},
   "outputs": [
    {
     "data": {
      "text/html": [
       "<div>\n",
       "<table border=\"1\" class=\"dataframe\">\n",
       "  <thead>\n",
       "    <tr style=\"text-align: right;\">\n",
       "      <th></th>\n",
       "      <th>user_action</th>\n",
       "    </tr>\n",
       "  </thead>\n",
       "  <tbody>\n",
       "    <tr>\n",
       "      <th>0</th>\n",
       "      <td>0</td>\n",
       "    </tr>\n",
       "    <tr>\n",
       "      <th>1</th>\n",
       "      <td>1</td>\n",
       "    </tr>\n",
       "    <tr>\n",
       "      <th>2</th>\n",
       "      <td>0</td>\n",
       "    </tr>\n",
       "    <tr>\n",
       "      <th>3</th>\n",
       "      <td>2</td>\n",
       "    </tr>\n",
       "    <tr>\n",
       "      <th>4</th>\n",
       "      <td>2</td>\n",
       "    </tr>\n",
       "  </tbody>\n",
       "</table>\n",
       "</div>"
      ],
      "text/plain": [
       "   user_action\n",
       "0            0\n",
       "1            1\n",
       "2            0\n",
       "3            2\n",
       "4            2"
      ]
     },
     "execution_count": 8,
     "metadata": {},
     "output_type": "execute_result"
    }
   ],
   "source": [
    "y.head()"
   ]
  },
  {
   "cell_type": "code",
   "execution_count": 9,
   "metadata": {},
   "outputs": [
    {
     "data": {
      "text/html": [
       "<div>\n",
       "<table border=\"1\" class=\"dataframe\">\n",
       "  <thead>\n",
       "    <tr style=\"text-align: right;\">\n",
       "      <th></th>\n",
       "      <th>is_mobile</th>\n",
       "      <th>n_products_viewed</th>\n",
       "      <th>visit_duration</th>\n",
       "      <th>is_returning_visitor</th>\n",
       "      <th>time_of_day</th>\n",
       "    </tr>\n",
       "  </thead>\n",
       "  <tbody>\n",
       "    <tr>\n",
       "      <th>0</th>\n",
       "      <td>1</td>\n",
       "      <td>0</td>\n",
       "      <td>0.657510</td>\n",
       "      <td>0</td>\n",
       "      <td>3</td>\n",
       "    </tr>\n",
       "    <tr>\n",
       "      <th>1</th>\n",
       "      <td>1</td>\n",
       "      <td>1</td>\n",
       "      <td>0.568571</td>\n",
       "      <td>0</td>\n",
       "      <td>2</td>\n",
       "    </tr>\n",
       "    <tr>\n",
       "      <th>2</th>\n",
       "      <td>1</td>\n",
       "      <td>0</td>\n",
       "      <td>0.042246</td>\n",
       "      <td>1</td>\n",
       "      <td>1</td>\n",
       "    </tr>\n",
       "    <tr>\n",
       "      <th>3</th>\n",
       "      <td>1</td>\n",
       "      <td>1</td>\n",
       "      <td>1.659793</td>\n",
       "      <td>1</td>\n",
       "      <td>1</td>\n",
       "    </tr>\n",
       "    <tr>\n",
       "      <th>4</th>\n",
       "      <td>0</td>\n",
       "      <td>1</td>\n",
       "      <td>2.014745</td>\n",
       "      <td>1</td>\n",
       "      <td>1</td>\n",
       "    </tr>\n",
       "  </tbody>\n",
       "</table>\n",
       "</div>"
      ],
      "text/plain": [
       "   is_mobile  n_products_viewed  visit_duration  is_returning_visitor  \\\n",
       "0          1                  0        0.657510                     0   \n",
       "1          1                  1        0.568571                     0   \n",
       "2          1                  0        0.042246                     1   \n",
       "3          1                  1        1.659793                     1   \n",
       "4          0                  1        2.014745                     1   \n",
       "\n",
       "   time_of_day  \n",
       "0            3  \n",
       "1            2  \n",
       "2            1  \n",
       "3            1  \n",
       "4            1  "
      ]
     },
     "execution_count": 9,
     "metadata": {},
     "output_type": "execute_result"
    }
   ],
   "source": [
    "X.head()"
   ]
  },
  {
   "cell_type": "code",
   "execution_count": 10,
   "metadata": {},
   "outputs": [
    {
     "data": {
      "text/html": [
       "<div>\n",
       "<table border=\"1\" class=\"dataframe\">\n",
       "  <thead>\n",
       "    <tr style=\"text-align: right;\">\n",
       "      <th></th>\n",
       "      <th>n_products_viewed</th>\n",
       "      <th>visit_duration</th>\n",
       "    </tr>\n",
       "  </thead>\n",
       "  <tbody>\n",
       "    <tr>\n",
       "      <th>count</th>\n",
       "      <td>500.000000</td>\n",
       "      <td>500.000000</td>\n",
       "    </tr>\n",
       "    <tr>\n",
       "      <th>mean</th>\n",
       "      <td>0.854000</td>\n",
       "      <td>1.055880</td>\n",
       "    </tr>\n",
       "    <tr>\n",
       "      <th>std</th>\n",
       "      <td>1.046362</td>\n",
       "      <td>0.976711</td>\n",
       "    </tr>\n",
       "    <tr>\n",
       "      <th>min</th>\n",
       "      <td>0.000000</td>\n",
       "      <td>0.000141</td>\n",
       "    </tr>\n",
       "    <tr>\n",
       "      <th>25%</th>\n",
       "      <td>0.000000</td>\n",
       "      <td>0.328550</td>\n",
       "    </tr>\n",
       "    <tr>\n",
       "      <th>50%</th>\n",
       "      <td>1.000000</td>\n",
       "      <td>0.804717</td>\n",
       "    </tr>\n",
       "    <tr>\n",
       "      <th>75%</th>\n",
       "      <td>1.000000</td>\n",
       "      <td>1.499518</td>\n",
       "    </tr>\n",
       "    <tr>\n",
       "      <th>max</th>\n",
       "      <td>4.000000</td>\n",
       "      <td>6.368775</td>\n",
       "    </tr>\n",
       "  </tbody>\n",
       "</table>\n",
       "</div>"
      ],
      "text/plain": [
       "       n_products_viewed  visit_duration\n",
       "count         500.000000      500.000000\n",
       "mean            0.854000        1.055880\n",
       "std             1.046362        0.976711\n",
       "min             0.000000        0.000141\n",
       "25%             0.000000        0.328550\n",
       "50%             1.000000        0.804717\n",
       "75%             1.000000        1.499518\n",
       "max             4.000000        6.368775"
      ]
     },
     "execution_count": 10,
     "metadata": {},
     "output_type": "execute_result"
    }
   ],
   "source": [
    "from sklearn.preprocessing import StandardScaler\n",
    "sd = StandardScaler(with_mean=True, with_std=True)\n",
    "\n",
    "features_to_scale = ['n_products_viewed','visit_duration']\n",
    "\n",
    "Xscaled = sd.fit_transform(X[features_to_scale])\n",
    "X[features_to_scale].describe()"
   ]
  },
  {
   "cell_type": "code",
   "execution_count": 11,
   "metadata": {},
   "outputs": [
    {
     "data": {
      "text/html": [
       "<div>\n",
       "<table border=\"1\" class=\"dataframe\">\n",
       "  <thead>\n",
       "    <tr style=\"text-align: right;\">\n",
       "      <th></th>\n",
       "      <th>n_products_viewed</th>\n",
       "      <th>visit_duration</th>\n",
       "    </tr>\n",
       "  </thead>\n",
       "  <tbody>\n",
       "    <tr>\n",
       "      <th>count</th>\n",
       "      <td>5.000000e+02</td>\n",
       "      <td>5.000000e+02</td>\n",
       "    </tr>\n",
       "    <tr>\n",
       "      <th>mean</th>\n",
       "      <td>-9.414691e-17</td>\n",
       "      <td>-3.286260e-17</td>\n",
       "    </tr>\n",
       "    <tr>\n",
       "      <th>std</th>\n",
       "      <td>1.001002e+00</td>\n",
       "      <td>1.001002e+00</td>\n",
       "    </tr>\n",
       "    <tr>\n",
       "      <th>min</th>\n",
       "      <td>-8.169784e-01</td>\n",
       "      <td>-1.081995e+00</td>\n",
       "    </tr>\n",
       "    <tr>\n",
       "      <th>25%</th>\n",
       "      <td>-8.169784e-01</td>\n",
       "      <td>-7.454186e-01</td>\n",
       "    </tr>\n",
       "    <tr>\n",
       "      <th>50%</th>\n",
       "      <td>1.396708e-01</td>\n",
       "      <td>-2.574098e-01</td>\n",
       "    </tr>\n",
       "    <tr>\n",
       "      <th>75%</th>\n",
       "      <td>1.396708e-01</td>\n",
       "      <td>4.546714e-01</td>\n",
       "    </tr>\n",
       "    <tr>\n",
       "      <th>max</th>\n",
       "      <td>3.009618e+00</td>\n",
       "      <td>5.445026e+00</td>\n",
       "    </tr>\n",
       "  </tbody>\n",
       "</table>\n",
       "</div>"
      ],
      "text/plain": [
       "       n_products_viewed  visit_duration\n",
       "count       5.000000e+02    5.000000e+02\n",
       "mean       -9.414691e-17   -3.286260e-17\n",
       "std         1.001002e+00    1.001002e+00\n",
       "min        -8.169784e-01   -1.081995e+00\n",
       "25%        -8.169784e-01   -7.454186e-01\n",
       "50%         1.396708e-01   -2.574098e-01\n",
       "75%         1.396708e-01    4.546714e-01\n",
       "max         3.009618e+00    5.445026e+00"
      ]
     },
     "execution_count": 11,
     "metadata": {},
     "output_type": "execute_result"
    }
   ],
   "source": [
    "X = X.drop(labels=features_to_scale, axis=1)\n",
    "\n",
    "for idx, feature in enumerate(features_to_scale):\n",
    "    X[feature] = Xscaled[:, idx]\n",
    "\n",
    "X[features_to_scale].describe()"
   ]
  },
  {
   "cell_type": "code",
   "execution_count": 12,
   "metadata": {},
   "outputs": [
    {
     "data": {
      "text/html": [
       "<div>\n",
       "<table border=\"1\" class=\"dataframe\">\n",
       "  <thead>\n",
       "    <tr style=\"text-align: right;\">\n",
       "      <th></th>\n",
       "      <th>is_mobile</th>\n",
       "      <th>is_returning_visitor</th>\n",
       "      <th>time_of_day</th>\n",
       "      <th>n_products_viewed</th>\n",
       "      <th>visit_duration</th>\n",
       "    </tr>\n",
       "  </thead>\n",
       "  <tbody>\n",
       "    <tr>\n",
       "      <th>0</th>\n",
       "      <td>1</td>\n",
       "      <td>0</td>\n",
       "      <td>3</td>\n",
       "      <td>-0.816978</td>\n",
       "      <td>-0.408278</td>\n",
       "    </tr>\n",
       "    <tr>\n",
       "      <th>1</th>\n",
       "      <td>1</td>\n",
       "      <td>0</td>\n",
       "      <td>2</td>\n",
       "      <td>0.139671</td>\n",
       "      <td>-0.499428</td>\n",
       "    </tr>\n",
       "    <tr>\n",
       "      <th>2</th>\n",
       "      <td>1</td>\n",
       "      <td>1</td>\n",
       "      <td>1</td>\n",
       "      <td>-0.816978</td>\n",
       "      <td>-1.038843</td>\n",
       "    </tr>\n",
       "    <tr>\n",
       "      <th>3</th>\n",
       "      <td>1</td>\n",
       "      <td>1</td>\n",
       "      <td>1</td>\n",
       "      <td>0.139671</td>\n",
       "      <td>0.618932</td>\n",
       "    </tr>\n",
       "    <tr>\n",
       "      <th>4</th>\n",
       "      <td>0</td>\n",
       "      <td>1</td>\n",
       "      <td>1</td>\n",
       "      <td>0.139671</td>\n",
       "      <td>0.982712</td>\n",
       "    </tr>\n",
       "  </tbody>\n",
       "</table>\n",
       "</div>"
      ],
      "text/plain": [
       "   is_mobile  is_returning_visitor  time_of_day  n_products_viewed  \\\n",
       "0          1                     0            3          -0.816978   \n",
       "1          1                     0            2           0.139671   \n",
       "2          1                     1            1          -0.816978   \n",
       "3          1                     1            1           0.139671   \n",
       "4          0                     1            1           0.139671   \n",
       "\n",
       "   visit_duration  \n",
       "0       -0.408278  \n",
       "1       -0.499428  \n",
       "2       -1.038843  \n",
       "3        0.618932  \n",
       "4        0.982712  "
      ]
     },
     "execution_count": 12,
     "metadata": {},
     "output_type": "execute_result"
    }
   ],
   "source": [
    "X.head()"
   ]
  },
  {
   "cell_type": "code",
   "execution_count": 13,
   "metadata": {},
   "outputs": [
    {
     "data": {
      "text/html": [
       "<div>\n",
       "<table border=\"1\" class=\"dataframe\">\n",
       "  <thead>\n",
       "    <tr style=\"text-align: right;\">\n",
       "      <th></th>\n",
       "      <th>is_mobile</th>\n",
       "      <th>is_returning_visitor</th>\n",
       "      <th>n_products_viewed</th>\n",
       "      <th>visit_duration</th>\n",
       "      <th>time_of_day_0</th>\n",
       "      <th>time_of_day_1</th>\n",
       "      <th>time_of_day_2</th>\n",
       "      <th>time_of_day_3</th>\n",
       "    </tr>\n",
       "  </thead>\n",
       "  <tbody>\n",
       "    <tr>\n",
       "      <th>0</th>\n",
       "      <td>1</td>\n",
       "      <td>0</td>\n",
       "      <td>-0.816978</td>\n",
       "      <td>-0.408278</td>\n",
       "      <td>0</td>\n",
       "      <td>0</td>\n",
       "      <td>0</td>\n",
       "      <td>1</td>\n",
       "    </tr>\n",
       "    <tr>\n",
       "      <th>1</th>\n",
       "      <td>1</td>\n",
       "      <td>0</td>\n",
       "      <td>0.139671</td>\n",
       "      <td>-0.499428</td>\n",
       "      <td>0</td>\n",
       "      <td>0</td>\n",
       "      <td>1</td>\n",
       "      <td>0</td>\n",
       "    </tr>\n",
       "    <tr>\n",
       "      <th>2</th>\n",
       "      <td>1</td>\n",
       "      <td>1</td>\n",
       "      <td>-0.816978</td>\n",
       "      <td>-1.038843</td>\n",
       "      <td>0</td>\n",
       "      <td>1</td>\n",
       "      <td>0</td>\n",
       "      <td>0</td>\n",
       "    </tr>\n",
       "    <tr>\n",
       "      <th>3</th>\n",
       "      <td>1</td>\n",
       "      <td>1</td>\n",
       "      <td>0.139671</td>\n",
       "      <td>0.618932</td>\n",
       "      <td>0</td>\n",
       "      <td>1</td>\n",
       "      <td>0</td>\n",
       "      <td>0</td>\n",
       "    </tr>\n",
       "    <tr>\n",
       "      <th>4</th>\n",
       "      <td>0</td>\n",
       "      <td>1</td>\n",
       "      <td>0.139671</td>\n",
       "      <td>0.982712</td>\n",
       "      <td>0</td>\n",
       "      <td>1</td>\n",
       "      <td>0</td>\n",
       "      <td>0</td>\n",
       "    </tr>\n",
       "  </tbody>\n",
       "</table>\n",
       "</div>"
      ],
      "text/plain": [
       "   is_mobile  is_returning_visitor  n_products_viewed  visit_duration  \\\n",
       "0          1                     0          -0.816978       -0.408278   \n",
       "1          1                     0           0.139671       -0.499428   \n",
       "2          1                     1          -0.816978       -1.038843   \n",
       "3          1                     1           0.139671        0.618932   \n",
       "4          0                     1           0.139671        0.982712   \n",
       "\n",
       "   time_of_day_0  time_of_day_1  time_of_day_2  time_of_day_3  \n",
       "0              0              0              0              1  \n",
       "1              0              0              1              0  \n",
       "2              0              1              0              0  \n",
       "3              0              1              0              0  \n",
       "4              0              1              0              0  "
      ]
     },
     "execution_count": 13,
     "metadata": {},
     "output_type": "execute_result"
    }
   ],
   "source": [
    "X = pd.get_dummies(X, columns=['time_of_day'])\n",
    "X.head()"
   ]
  },
  {
   "cell_type": "markdown",
   "metadata": {},
   "source": [
    "## Binary Classification\n",
    "\n",
    "First we are going to perfom a **binary classification** for the bounce user action. In this case we are going to convert the actions 'add_to_cart', 'begin_checkout', and 'finish_checkout' in a non-bounce action. So we are going to classify data as:\n",
    "- y=0 if user bounces\n",
    "- y=1 if user doesn't bounce"
   ]
  },
  {
   "cell_type": "code",
   "execution_count": 14,
   "metadata": {},
   "outputs": [
    {
     "data": {
      "text/plain": [
       "0    253\n",
       "1    145\n",
       "2     77\n",
       "3     25\n",
       "Name: user_action, dtype: int64"
      ]
     },
     "execution_count": 14,
     "metadata": {},
     "output_type": "execute_result"
    }
   ],
   "source": [
    "y['user_action'].value_counts()"
   ]
  },
  {
   "cell_type": "code",
   "execution_count": 15,
   "metadata": {},
   "outputs": [
    {
     "data": {
      "text/plain": [
       "0    253\n",
       "1    247\n",
       "Name: user_action, dtype: int64"
      ]
     },
     "execution_count": 15,
     "metadata": {},
     "output_type": "execute_result"
    }
   ],
   "source": [
    "y = y['user_action'].apply(lambda x: 1 if x>0 else 0)\n",
    "y.value_counts()"
   ]
  },
  {
   "cell_type": "code",
   "execution_count": null,
   "metadata": {
    "collapsed": true
   },
   "outputs": [],
   "source": []
  }
 ],
 "metadata": {
  "anaconda-cloud": {},
  "kernelspec": {
   "display_name": "Python [conda env:dspy3]",
   "language": "python",
   "name": "conda-env-dspy3-py"
  },
  "language_info": {
   "codemirror_mode": {
    "name": "ipython",
    "version": 3
   },
   "file_extension": ".py",
   "mimetype": "text/x-python",
   "name": "python",
   "nbconvert_exporter": "python",
   "pygments_lexer": "ipython3",
   "version": "3.5.2"
  }
 },
 "nbformat": 4,
 "nbformat_minor": 2
}
